{
 "cells": [
  {
   "cell_type": "code",
   "execution_count": 1,
   "metadata": {},
   "outputs": [],
   "source": [
    "import numpy as np\n",
    "import scipy as sc\n",
    "\n",
    "import matplotlib.pyplot as plt\n",
    "import seaborn as sns\n",
    "sns.set_style('white')"
   ]
  },
  {
   "cell_type": "code",
   "execution_count": 19,
   "metadata": {},
   "outputs": [
    {
     "data": {
      "text/plain": [
       "<matplotlib.lines.Line2D at 0x7ff523bed4d0>"
      ]
     },
     "execution_count": 19,
     "metadata": {},
     "output_type": "execute_result"
    },
    {
     "data": {
      "image/png": "[encoded data removed]",
      "text/plain": [
       "<Figure size 432x288 with 1 Axes>"
      ]
     },
     "metadata": {},
     "output_type": "display_data"
    }
   ],
   "source": [
    "N = 10\n",
    "thetas = np.arange(-1, 2, 0.01)\n",
    "q = 0.2\n",
    "f_N = np.random.randn(N)\n",
    "f_N = np.minimum(f_N, 1)\n",
    "f_N = np.maximum(f_N, 0)\n",
    "\n",
    "def pinball_loss(f_N, theta, q):\n",
    "    diff_N = f_N - theta\n",
    "    l_N = q * diff_N\n",
    "    l_N[diff_N < 0] = (1 - q) * -diff_N[diff_N < 0]\n",
    "    return l_N\n",
    "\n",
    "def ss(f_N, theta, q):\n",
    "    l_N = pinball_loss(f_N, theta, q)\n",
    "    lhat = np.mean(l_N)\n",
    "    return np.sum(np.square(l_N - lhat))\n",
    "\n",
    "ss_theta = np.array([ss(f_N, th, q) for th in thetas])\n",
    "plt.plot(thetas, ss_theta);\n",
    "plt.axvline(np.min(f_N))\n",
    "plt.axvline(np.max(f_N))"
   ]
  }
 ],
 "metadata": {
  "kernelspec": {
   "display_name": "TensorFlow-GPU-2.1.0",
   "language": "python",
   "name": "tf-gpu"
  },
  "language_info": {
   "codemirror_mode": {
    "name": "ipython",
    "version": 3
   },
   "file_extension": ".py",
   "mimetype": "text/x-python",
   "name": "python",
   "nbconvert_exporter": "python",
   "pygments_lexer": "ipython3",
   "version": "3.7.7"
  }
 },
 "nbformat": 4,
 "nbformat_minor": 4
}
