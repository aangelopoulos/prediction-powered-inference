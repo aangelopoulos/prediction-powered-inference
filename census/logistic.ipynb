{
 "cells": [
  {
   "cell_type": "code",
   "execution_count": 1,
   "id": "f2da5d1d",
   "metadata": {},
   "outputs": [
    {
     "name": "stderr",
     "output_type": "stream",
     "text": [
      "/Users/angelopoulos/miniconda3/envs/mai/lib/python3.9/site-packages/xgboost/compat.py:36: FutureWarning: pandas.Int64Index is deprecated and will be removed from pandas in a future version. Use pandas.Index with the appropriate dtype instead.\n",
      "  from pandas import MultiIndex, Int64Index\n"
     ]
    }
   ],
   "source": [
    "%load_ext autoreload\n",
    "%autoreload 2\n",
    "import sys\n",
    "sys.path.insert(1, '../')\n",
    "import numpy as np\n",
    "import matplotlib.pyplot as plt\n",
    "import matplotlib.patheffects as pe\n",
    "import seaborn as sns\n",
    "import pandas as pd\n",
    "import xgboost as xgb\n",
    "from sklearn.model_selection import train_test_split\n",
    "from scipy import sparse\n",
    "from ppi import logistic, classical_logistic_interval, pp_logistic_interval\n",
    "from ols_utils import transform_features\n",
    "from tqdm import tqdm\n",
    "import pdb\n",
    "\n",
    "from logistic_utils import get_data, plot_data, get_tree, make_plots, acs_filter"
   ]
  },
  {
   "cell_type": "markdown",
   "id": "92e4c003",
   "metadata": {},
   "source": [
    "## Interval Constructions\n",
    "\n",
    "Here we give constructions for the imputed, classical, and prediction-powered logistic regression intervals."
   ]
  },
  {
   "cell_type": "code",
   "execution_count": 2,
   "id": "613d3e63",
   "metadata": {},
   "outputs": [],
   "source": [
    "def trial(X, Y, Yhat, true, n, alpha):\n",
    "    X_labeled, X_unlabeled, Y_labeled, Y_unlabeled, Yhat_labeled, Yhat_unlabeled = train_test_split(X, Y, Yhat, train_size=n)\n",
    "\n",
    "    imputed_interval = classical_logistic_interval(X, Yhat, alpha)\n",
    "\n",
    "    classical_interval = classical_logistic_interval(X_labeled, Y_labeled, alpha)\n",
    "\n",
    "    pp_interval = pp_logistic_interval(X_labeled, X_unlabeled, Y_labeled, Yhat_labeled, Yhat_unlabeled, alpha)\n",
    "\n",
    "    return imputed_interval, classical_interval, pp_interval"
   ]
  },
  {
   "cell_type": "markdown",
   "id": "ff0e00f6",
   "metadata": {},
   "source": [
    "## Get census data relating income and private health insurance coverage in 2019\n",
    "\n",
    "We load this data in from Folktables and then transform it if desired.\n",
    "\n",
    "Then compute the true coefficients --- those we would have if we knew all of the census data."
   ]
  },
  {
   "cell_type": "code",
   "execution_count": 3,
   "id": "f8c38da4",
   "metadata": {},
   "outputs": [
    {
     "name": "stdout",
     "output_type": "stream",
     "text": [
      "True logistic regression coefficients: [1.91335746e-05 1.86659901e-07]\n"
     ]
    }
   ],
   "source": [
    "# Year and whether to transform the data\n",
    "curr_year = 2019\n",
    "transform = False\n",
    "# Feature codes to use\n",
    "feature_names =['PINCP','AGEP', 'PUBCOV','SCHL','MAR','SCH','DIS','ESP','CIT','MIG','MIL','ANC','NATIVITY','DEAR','DEYE','DREM','SEX','RAC1P']\n",
    "ft = np.array([\"q\", \"q\", \"c\", \"c\", \"c\", \"c\", \"c\", \"c\", \"c\", \"c\", \"c\", \"c\", \"c\", \"c\", \"c\", \"c\", \"c\", \"c\", \"c\"])\n",
    "regression_feature_name = \"PINCP\"\n",
    "outcome_name = \"PRIVCOV\"\n",
    "features, outcome = get_data(curr_year, feature_names, outcome_name, regression_feature_name, acs_filter=acs_filter)\n",
    "reg_feat = features[regression_feature_name]\n",
    "if transform:\n",
    "    features, enc = transform_features(features, ft)\n",
    "else:\n",
    "    enc = None\n",
    "    \n",
    "# Collect logistic features\n",
    "X = np.stack([reg_feat, np.ones_like(reg_feat)], axis=1)\n",
    "X[:,1] = X[:,1] * (np.linalg.norm(X, axis=0)[0] / np.linalg.norm(X, axis=0)[1])\n",
    "true = logistic(X, outcome.to_numpy())\n",
    "\n",
    "print(f\"True logistic regression coefficients: {true}\")"
   ]
  },
  {
   "cell_type": "markdown",
   "id": "242ec126",
   "metadata": {},
   "source": [
    "## Get the gradient boosting tree from the previous year\n",
    "\n",
    "The tree is trained to predict income from the features list above. To get the meaning of the features, look at the PUMS Data Dictionary."
   ]
  },
  {
   "cell_type": "code",
   "execution_count": 4,
   "id": "be76381b",
   "metadata": {},
   "outputs": [
    {
     "name": "stderr",
     "output_type": "stream",
     "text": [
      "/Users/angelopoulos/miniconda3/envs/mai/lib/python3.9/site-packages/xgboost/data.py:250: FutureWarning: pandas.Int64Index is deprecated and will be removed from pandas in a future version. Use pandas.Index with the appropriate dtype instead.\n",
      "  elif isinstance(data.columns, (pd.Int64Index, pd.RangeIndex)):\n"
     ]
    }
   ],
   "source": [
    "np.random.seed(0) # Fix seed for tree\n",
    "tree = get_tree(curr_year-1, feature_names, ft, outcome_name, regression_feature_name, enc=enc, transform=transform, acs_filter=acs_filter)\n",
    "np.random.seed(0) # Fix seed for evaluation\n",
    "# Evaluate tree and plot data\n",
    "predicted_outcome = tree.predict(xgb.DMatrix(features))"
   ]
  },
  {
   "cell_type": "markdown",
   "id": "ae83692f",
   "metadata": {},
   "source": [
    "## Perform logistic experiment\n",
    "\n",
    "* Subsample `n` data points from 2019 with labels of private health insurance coverage.\n",
    "* Impute the remaining `N-n` labels with the gradient boosting tree.\n",
    "* Construct confidence intervals.\n",
    "\n",
    "Repeat these steps `num_trials` times for each `n`, and plot the results!"
   ]
  },
  {
   "cell_type": "code",
   "execution_count": 5,
   "id": "e49785ff",
   "metadata": {},
   "outputs": [],
   "source": [
    "try:\n",
    "    df = pd.read_pickle('./.cache/logistic-results.pkl')\n",
    "except:\n",
    "    N = features.shape[0]\n",
    "    ns = np.array([200, 300, 500, 1000, 2000, 5000, 10000])\n",
    "    num_trials = 10\n",
    "    alpha = 0.05\n",
    "\n",
    "    # Store results\n",
    "    columns = [\"lb\",\"ub\",\"covered\",\"estimator\",\"n\"]\n",
    "\n",
    "    results = []\n",
    "    for j in tqdm(range(ns.shape[0])):\n",
    "        for i in range(num_trials):\n",
    "            n = ns[j]\n",
    "            ii, ci, ppi = trial(X, outcome.to_numpy(), predicted_outcome, true, n, alpha)\n",
    "            temp_df = pd.DataFrame(np.zeros((3,len(columns))), columns=columns)\n",
    "            temp_df.loc[0] = ii[0][0], ii[1][0], (ii[0][0] <= true[0]) & (true[0] <= ii[1][0]), \"imputed\", n\n",
    "            temp_df.loc[1] = ci[0][0], ci[1][0], (ci[0][0] <= true[0]) & (true[0] <= ci[1][0]), \"classical\", n\n",
    "            temp_df.loc[2] = ppi[0][0], ppi[1][0], (ppi[0][0] <= true[0]) & (true[0] <= ppi[1][0]), \"prediction-powered\", n\n",
    "            results += [temp_df]\n",
    "    df = pd.concat(results)\n",
    "    df[\"width\"] = df[\"ub\"] - df[\"lb\"]\n",
    "    df.to_pickle('./.cache/logistic-results.pkl')\n",
    "ns = np.unique(df['n']).astype(int)\n",
    "num_trials = len(df)//(3*ns.shape[0])"
   ]
  },
  {
   "cell_type": "code",
   "execution_count": 6,
   "id": "7395bca6",
   "metadata": {},
   "outputs": [],
   "source": [
    "lower_endpoints = np.stack(\n",
    "    [\n",
    "        np.stack([df.lb[(df.estimator == \"prediction-powered\") & (df.n == n)] for n in ns], axis=0),\n",
    "        np.stack([df.lb[(df.estimator == \"classical\") & (df.n == n)] for n in ns], axis=0),\n",
    "        np.stack([df.lb[(df.estimator == \"imputed\") & (df.n == n)] for n in ns], axis=0)\n",
    "    ],\n",
    "    axis=2\n",
    ")\n",
    "\n",
    "upper_endpoints = np.stack(\n",
    "    [\n",
    "        np.stack([df.ub[(df.estimator == \"prediction-powered\") & (df.n == n)] for n in ns], axis=0),\n",
    "        np.stack([df.ub[(df.estimator == \"classical\") & (df.n == n)] for n in ns], axis=0),\n",
    "        np.stack([df.ub[(df.estimator == \"imputed\") & (df.n == n)] for n in ns], axis=0)\n",
    "    ],\n",
    "    axis=2\n",
    ")"
   ]
  },
  {
   "cell_type": "code",
   "execution_count": 7,
   "id": "ff8a96bf",
   "metadata": {},
   "outputs": [],
   "source": [
    "def lighten_color(color, amount=0.5):\n",
    "    \"\"\"\n",
    "    Lightens the given color by multiplying (1-luminosity) by the given amount.\n",
    "    Input can be matplotlib color string, hex string, or RGB tuple.\n",
    "\n",
    "    Examples:\n",
    "    >> lighten_color('g', 0.3)\n",
    "    >> lighten_color('#F034A3', 0.6)\n",
    "    >> lighten_color((.3,.55,.1), 0.5)\n",
    "    \"\"\"\n",
    "    import matplotlib.colors as mc\n",
    "    import colorsys\n",
    "    try:\n",
    "        c = mc.cnames[color]\n",
    "    except:\n",
    "        c = color\n",
    "    c = colorsys.rgb_to_hls(*mc.to_rgb(c))\n",
    "    return colorsys.hls_to_rgb(c[0], 1 - amount * (1 - c[1]), c[2])"
   ]
  },
  {
   "cell_type": "code",
   "execution_count": 47,
   "id": "8e4e8be9",
   "metadata": {},
   "outputs": [
    {
     "name": "stderr",
     "output_type": "stream",
     "text": [
      "/var/folders/nf/9jh22yw56mj181378_s3p7vr0000gn/T/ipykernel_42396/2644208798.py:88: UserWarning: FixedFormatter should only be used together with FixedLocator\n",
      "  axs[2].set_xticklabels(ns, rotation=30)\n"
     ]
    },
    {
     "data": {
      "image/png": "[encoded data removed]",
      "text/plain": [
       "<Figure size 900x300 with 3 Axes>"
      ]
     },
     "metadata": {},
     "output_type": "display_data"
    }
   ],
   "source": [
    "### Make plot\n",
    "n_idx = 6\n",
    "num_intervals = 5\n",
    "\n",
    "pp_intervals = []\n",
    "classical_intervals = []\n",
    "for i in range(num_intervals):\n",
    "    trial_idx = np.random.choice(num_trials)\n",
    "    \n",
    "    pp_intervals += [\n",
    "        [lower_endpoints[n_idx,trial_idx,0], upper_endpoints[n_idx,trial_idx,0]]\n",
    "    ]\n",
    "    \n",
    "    classical_intervals += [\n",
    "        [lower_endpoints[n_idx,trial_idx,1], upper_endpoints[n_idx,trial_idx,1]]\n",
    "    ]\n",
    "    \n",
    "imputed_interval = [lower_endpoints[n_idx,0,2], upper_endpoints[n_idx,0,2]]\n",
    "\n",
    "xlim = [None, None]\n",
    "ylim = [0,1.15]\n",
    "linewidth = 5\n",
    "linewidth_modifier = 1.1\n",
    "offset = 0.25\n",
    "fig, axs = plt.subplots(nrows=1,ncols=3,figsize=(9,3))\n",
    "sns.set_theme(style=\"white\", font_scale=1, font=\"DejaVu Sans\")\n",
    "\n",
    "axs[1].axvline(true[0], ymin=0.0, ymax=1, linestyle=\"dotted\", linewidth=3, label=\"true deforestation fraction\", color=\"#F7AE7C\")\n",
    "\n",
    "for i in reversed(range(num_intervals)):\n",
    "    pp_interval = pp_intervals[i]\n",
    "    classical_interval = classical_intervals[i]\n",
    "    \n",
    "    if i == 0:\n",
    "        axs[1].plot([pp_interval[0], pp_interval[1]],[0.7, 0.7], linewidth=linewidth, color=\"#DAF3DA\", path_effects=[pe.Stroke(linewidth=linewidth * linewidth_modifier, offset=(-offset,0), foreground=\"#71D26F\"), pe.Stroke(linewidth=linewidth * linewidth_modifier, offset=(offset,0), foreground=\"#71D26F\"), pe.Normal()], label=' prediction-powered', solid_capstyle=\"butt\")\n",
    "        axs[1].plot([classical_interval[0], classical_interval[1]],[0.25,0.25], linewidth=linewidth, color=\"#EEEDED\", path_effects=[pe.Stroke(linewidth=linewidth * linewidth_modifier, offset=(-offset,0), foreground=\"#BFB9B9\"), pe.Stroke(linewidth=linewidth * linewidth_modifier, offset=(offset,0), foreground=\"#BFB9B9\"), pe.Normal()], label=' classical', solid_capstyle=\"butt\")\n",
    "        axs[1].plot([imputed_interval[0], imputed_interval[1]],[0.1, 0.1], linewidth=linewidth, color=\"#FFEACC\", path_effects=[pe.Stroke(linewidth=linewidth * linewidth_modifier, offset=(-offset,0), foreground=\"#FFCD82\"), pe.Stroke(linewidth=linewidth * linewidth_modifier, offset=(offset,0), foreground=\"#FFCD82\"), pe.Normal()], label=' imputed', solid_capstyle=\"butt\")\n",
    "    else:\n",
    "        lighten_factor = 0.8/np.sqrt(i)\n",
    "        yshift = i*0.07\n",
    "        axs[1].plot([pp_interval[0], pp_interval[1]],[0.7 + yshift, 0.7 + yshift], linewidth=linewidth, color=lighten_color(\"#DAF3DA\", lighten_factor), path_effects=[pe.Stroke(linewidth=linewidth * linewidth_modifier, offset=(-offset,0), foreground=lighten_color(\"#71D26F\", lighten_factor)), pe.Stroke(linewidth=linewidth * linewidth_modifier, offset=(offset,0), foreground=lighten_color(\"#71D26F\", lighten_factor)), pe.Normal()], solid_capstyle=\"butt\")\n",
    "        axs[1].plot([classical_interval[0], classical_interval[1]],[0.25 + yshift,0.25 + yshift], linewidth=linewidth, color=lighten_color(\"#EEEDED\", lighten_factor), path_effects=[pe.Stroke(linewidth=linewidth * linewidth_modifier, offset=(-offset,0), foreground=lighten_color(\"#BFB9B9\", lighten_factor)), pe.Stroke(linewidth=linewidth * linewidth_modifier, offset=(offset,0), foreground=lighten_color(\"#BFB9B9\", lighten_factor)), pe.Normal()], solid_capstyle=\"butt\")\n",
    "\n",
    "axs[1].set_xlabel(\"coefficient\", labelpad=10)\n",
    "axs[1].set_yticks([])\n",
    "axs[1].set_yticklabels([])\n",
    "axs[1].set_ylim(ylim)\n",
    "axs[1].set_xlim(xlim)\n",
    "\n",
    "sns.despine(ax=axs[1],top=True,right=True,left=True)\n",
    "\n",
    "df = pd.DataFrame(columns=['n','estimator','size'])\n",
    "for i in range(upper_endpoints.shape[0]): # n index\n",
    "    for j in range(upper_endpoints.shape[1]): # estimator index\n",
    "        estimator = 'prediction-powered' if j == 0 else 'classical'\n",
    "        df = pd.concat([df, pd.DataFrame.from_dict({\n",
    "            'n': np.array([ns[i]] * upper_endpoints.shape[2]).astype(int),\n",
    "            'estimator': np.array([estimator] * upper_endpoints.shape[2]).astype(np.str_),\n",
    "            'size': (upper_endpoints[i,j,:] - lower_endpoints[i,j,:]).astype(float)\n",
    "        })], ignore_index=True)\n",
    "df = df.astype({'n': 'int32', 'size': 'float'})\n",
    "\n",
    "num_scatter = 5\n",
    "rand_idx_scatter = [np.random.choice(num_trials, size=num_scatter).astype(int) for n in ns]\n",
    "axs[2].plot(ns, upper_endpoints.mean(axis=1)[:,0]-lower_endpoints.mean(axis=1)[:,0], label=\"prediction-powered\", color=\"#71D26F\", linewidth=3)\n",
    "scatter_xs = np.concatenate([np.concatenate([[ns[j]] * num_trials])[rand_idx_scatter[j]] for j in range(ns.shape[0])])\n",
    "scatter_ys = np.concatenate([upper_endpoints[j,:,0][rand_idx_scatter[j]].flatten() - lower_endpoints[j,:,0][rand_idx_scatter[j]].flatten() for j in range(ns.shape[0])])\n",
    "axs[2].scatter(\n",
    "    scatter_xs,\n",
    "    scatter_ys,\n",
    "    color=\"#71D26F\",\n",
    "    alpha=0.5\n",
    ")\n",
    "   \n",
    "axs[2].plot(ns, upper_endpoints.mean(axis=1)[:,1]-lower_endpoints.mean(axis=1)[:,1], label=\"classical\", color=\"#BFB9B9\", linewidth=3)\n",
    "scatter_xs = np.concatenate([np.concatenate([[ns[j]] * num_trials])[rand_idx_scatter[j]] for j in range(ns.shape[0])])\n",
    "scatter_ys = np.concatenate([upper_endpoints[j,:,1][rand_idx_scatter[j]].flatten() - lower_endpoints[j,:,1][rand_idx_scatter[j]].flatten() for j in range(ns.shape[0])])\n",
    "axs[2].scatter(\n",
    "    scatter_xs,\n",
    "    scatter_ys,\n",
    "    color=\"#BFB9B9\",\n",
    "    alpha=0.5\n",
    ")\n",
    "\n",
    "axs[2].locator_params(axis='y', tight=None, nbins=6)\n",
    "axs[2].set_ylabel(\"width\")\n",
    "axs[2].set_xlabel(\"n\",  labelpad=10)\n",
    "axs[2].set_xticklabels(ns, rotation=30)\n",
    "#axs[2].get_legend().remove()\n",
    "axs[2].set_ylim([0, 2.5e-5])\n",
    "sns.despine(ax=axs[2],top=True, right=True)\n",
    "\n",
    "sns.despine(ax=axs[0],top=True, right=True, left=True, bottom=True)\n",
    "axs[0].set_axis_off()\n",
    "#bins = [20000,40000,60000,80000,100000]\n",
    "#incomeranges = np.digitize(reg_feat, bins=bins)\n",
    "#avgs = [outcome[incomeranges == i].mean() for i in range(len(bins)+1)]\n",
    "#axs[0].bar(range(len(bins)+1),avgs, color=\"#C4EAFA\")\n",
    "#axs[0].set_xticklabels(['', '<20K', '20-40K','40-60K','60-80K','80-100K', '>100K'], rotation=45)\n",
    "#axs[0].set_ylabel('frac w/private insurance')\n",
    "#axs[0].set_ylim([0,1])\n",
    "#axs[0].set_xlabel('income level ($)')\n",
    "#plt.xlabel('household income ($)')\n",
    "#sns.despine(top=True, right=True)\n",
    "#axs[0].set_xticks([-1,0,1,2,3,4,5])\n",
    "\n",
    "plt.tight_layout()\n",
    "plt.savefig('./logistic-plots/allplots.pdf')"
   ]
  }
 ],
 "metadata": {
  "kernelspec": {
   "display_name": "Python 3 (ipykernel)",
   "language": "python",
   "name": "python3"
  },
  "language_info": {
   "codemirror_mode": {
    "name": "ipython",
    "version": 3
   },
   "file_extension": ".py",
   "mimetype": "text/x-python",
   "name": "python",
   "nbconvert_exporter": "python",
   "pygments_lexer": "ipython3",
   "version": "3.9.13"
  }
 },
 "nbformat": 4,
 "nbformat_minor": 5
}
