{
 "cells": [
  {
   "cell_type": "code",
   "execution_count": 403,
   "id": "52ebc498",
   "metadata": {},
   "outputs": [],
   "source": [
    "import os, time, copy\n",
    "import numpy as np\n",
    "import matplotlib.pyplot as plt\n",
    "from sklearn.metrics import confusion_matrix\n",
    "from sklearn.preprocessing import normalize\n",
    "from scipy.optimize import brentq\n",
    "from scipy.stats import binom\n",
    "from tqdm import tqdm"
   ]
  },
  {
   "cell_type": "code",
   "execution_count": 404,
   "id": "541f1b53",
   "metadata": {},
   "outputs": [],
   "source": [
    "# Get data 2006-2014 from the following link: https://darchive.mblwhoilibrary.org/handle/1912/7341\n",
    "# Unzip and merge the datasets in the following directory\n",
    "calib_data = np.load('../calib-outputs.npz')\n",
    "test_data = np.load('../test-outputs.npz')\n",
    "calib_preds = calib_data['preds'].astype(int)\n",
    "calib_labels = calib_data['labels'].astype(int)\n",
    "test_preds = test_data['preds'].astype(int)\n",
    "test_labels = test_data['labels'].astype(int)\n",
    "classes = np.load('../classes.npy')\n",
    "num_classes = classes.shape[0]\n",
    "\n",
    "plankton_classes = np.isin(classes,['mix','mix_elongated','detritus','bad', 'bead', 'bubble', 'other_interaction', 'pollen', 'spore'],invert=True)"
   ]
  },
  {
   "cell_type": "code",
   "execution_count": 405,
   "id": "f7a8ce6e",
   "metadata": {},
   "outputs": [
    {
     "name": "stdout",
     "output_type": "stream",
     "text": [
      "12\n"
     ]
    }
   ],
   "source": [
    "# Look at the unique classes \n",
    "uq, uq_counts = np.unique(calib_labels, return_counts=True)\n",
    "uq_freq = uq_counts/uq_counts.sum()\n",
    "uq_sort = np.argsort(uq_freq)[::-1]\n",
    "uq_freq = uq_freq[uq_sort]; uq = uq[uq_sort];\n",
    "uq_cumsum = np.cumsum(uq_freq)\n",
    "print(np.searchsorted(uq_cumsum,0.97))"
   ]
  },
  {
   "cell_type": "code",
   "execution_count": 406,
   "id": "7c7d91ae",
   "metadata": {},
   "outputs": [],
   "source": [
    "# Problem setup\n",
    "alpha = 0.02\n",
    "K = 10\n",
    "nu = plankton_classes.astype(int)\n",
    "nu_trunc = nu[uq]\n",
    "uq = uq[:K]"
   ]
  },
  {
   "cell_type": "code",
   "execution_count": 407,
   "id": "283a88f7",
   "metadata": {},
   "outputs": [
    {
     "name": "stdout",
     "output_type": "stream",
     "text": [
      "[[0.903 0.048 0.001 0.015 0.005 0.009 0.001 0.005 0.001 0.   ]\n",
      " [0.053 0.749 0.005 0.032 0.022 0.01  0.046 0.016 0.001 0.002]\n",
      " [0.014 0.024 0.492 0.008 0.142 0.    0.049 0.061 0.056 0.003]\n",
      " [0.014 0.043 0.036 0.643 0.04  0.    0.018 0.035 0.    0.002]\n",
      " [0.045 0.042 0.183 0.031 0.41  0.    0.047 0.058 0.091 0.001]\n",
      " [0.171 0.009 0.    0.001 0.    0.612 0.    0.    0.    0.   ]\n",
      " [0.    0.016 0.134 0.004 0.119 0.    0.458 0.023 0.    0.001]\n",
      " [0.013 0.033 0.04  0.033 0.02  0.    0.107 0.633 0.    0.   ]\n",
      " [0.011 0.006 0.131 0.    0.177 0.    0.    0.004 0.619 0.   ]\n",
      " [0.005 0.02  0.1   0.028 0.063 0.001 0.043 0.004 0.003 0.467]]\n"
     ]
    },
    {
     "name": "stderr",
     "output_type": "stream",
     "text": [
      "/tmp/ipykernel_434765/2236580409.py:9: RuntimeWarning: invalid value encountered in true_divide\n",
      "  Ahat = C / (C.sum(axis=1)[:,None])\n"
     ]
    }
   ],
   "source": [
    "# Construct the confusion matrix\n",
    "n = calib_preds.shape[0]\n",
    "N = test_preds.shape[0]\n",
    "\n",
    "C = np.zeros((num_classes,num_classes)).astype(int)\n",
    "for j in range(num_classes):\n",
    "    for l in range(num_classes):\n",
    "        C[j,l] = ((calib_preds == j) & (calib_labels == l)).sum()\n",
    "Ahat = C / (C.sum(axis=1)[:,None])\n",
    "Ahat = np.nan_to_num(Ahat)\n",
    "Ahat_small = Ahat[uq]\n",
    "Ahat_small = Ahat_small[:,uq]\n",
    "print(np.array_str(Ahat_small, precision=3))"
   ]
  },
  {
   "cell_type": "code",
   "execution_count": 408,
   "id": "7ea124bb",
   "metadata": {},
   "outputs": [],
   "source": [
    "# Construct the point estimate\n",
    "uq, uq_counts = np.unique(test_preds, return_counts=True)\n",
    "uq_freq = uq_counts/uq_counts.sum()\n",
    "uq_sort = np.argsort(uq_freq)[::-1]\n",
    "uq_freq = uq_freq[uq_sort]; uq = uq[uq_sort];\n",
    "uq = uq[:K]\n",
    "qf = uq_freq[:K]\n",
    "nu1 = nu_trunc[:K]\n",
    "nu2 = nu_trunc[K:]"
   ]
  },
  {
   "cell_type": "code",
   "execution_count": 409,
   "id": "7679425c",
   "metadata": {},
   "outputs": [
    {
     "name": "stdout",
     "output_type": "stream",
     "text": [
      "[ 0.938  0.063  0.039 -0.006 -0.109 -0.253  0.025 -0.02   0.009 -0.004]\n",
      "-0.2098040032301526\n",
      "[0 0 1 1 0 1 1 1 1 1]\n"
     ]
    }
   ],
   "source": [
    "# Run MAI\n",
    "estimate = nu1@np.linalg.inv(Ahat_small)@qf\n",
    "print(np.linalg.inv(Ahat_small)@qf)\n",
    "print(estimate)\n",
    "print(nu1)\n",
    "#count_plankton_lb = binom.ppf(delta/8, N, qyhat_lb)\n",
    "#count_plankton_ub = binom.ppf(1-delta/8, N, qyhat_ub)\n",
    "\n",
    "#counts = N*(np.linalg.pinv(Ahat)@fhat)[plankton_classes].sum()\n",
    "#print(Ahat.sum(axis=0))"
   ]
  },
  {
   "cell_type": "code",
   "execution_count": 385,
   "id": "e2fde832",
   "metadata": {},
   "outputs": [
    {
     "ename": "NameError",
     "evalue": "name 'counts' is not defined",
     "output_type": "error",
     "traceback": [
      "\u001b[0;31m---------------------------------------------------------------------------\u001b[0m",
      "\u001b[0;31mNameError\u001b[0m                                 Traceback (most recent call last)",
      "Input \u001b[0;32mIn [385]\u001b[0m, in \u001b[0;36m<cell line: 1>\u001b[0;34m()\u001b[0m\n\u001b[0;32m----> 1\u001b[0m \u001b[38;5;28mprint\u001b[39m(\u001b[38;5;124mf\u001b[39m\u001b[38;5;124m\"\u001b[39m\u001b[38;5;124mThe model-assisted estimate for the number of plankton observed in 2014 is \u001b[39m\u001b[38;5;132;01m{\u001b[39;00mcounts\u001b[38;5;132;01m}\u001b[39;00m\u001b[38;5;124m.\u001b[39m\u001b[38;5;124m\"\u001b[39m)\n\u001b[1;32m      2\u001b[0m \u001b[38;5;28mprint\u001b[39m(\u001b[38;5;124mf\u001b[39m\u001b[38;5;124m\"\u001b[39m\u001b[38;5;124mThe true number of plankton observed in 2014 was \u001b[39m\u001b[38;5;132;01m{\u001b[39;00mtest_labels\u001b[38;5;241m.\u001b[39mmean()\u001b[38;5;132;01m}\u001b[39;00m\u001b[38;5;124m, which lies in the interval.\u001b[39m\u001b[38;5;124m\"\u001b[39m)\n\u001b[1;32m      3\u001b[0m \u001b[38;5;28mprint\u001b[39m(\u001b[38;5;124mf\u001b[39m\u001b[38;5;124m\"\u001b[39m\u001b[38;5;124mThe point estimate was \u001b[39m\u001b[38;5;132;01m{\u001b[39;00mtest_preds\u001b[38;5;241m.\u001b[39msum()\u001b[38;5;132;01m}\u001b[39;00m\u001b[38;5;124m, which does not lie in the interval.\u001b[39m\u001b[38;5;124m\"\u001b[39m)\n",
      "\u001b[0;31mNameError\u001b[0m: name 'counts' is not defined"
     ]
    }
   ],
   "source": [
    "print(f\"The model-assisted estimate for the number of plankton observed in 2014 is {counts}.\")\n",
    "print(f\"The true number of plankton observed in 2014 was {test_labels.mean()}, which lies in the interval.\")\n",
    "print(f\"The point estimate was {test_preds.sum()}, which does not lie in the interval.\")"
   ]
  }
 ],
 "metadata": {
  "kernelspec": {
   "display_name": "Python 3 (ipykernel)",
   "language": "python",
   "name": "python3"
  },
  "language_info": {
   "codemirror_mode": {
    "name": "ipython",
    "version": 3
   },
   "file_extension": ".py",
   "mimetype": "text/x-python",
   "name": "python",
   "nbconvert_exporter": "python",
   "pygments_lexer": "ipython3",
   "version": "3.9.13"
  }
 },
 "nbformat": 4,
 "nbformat_minor": 5
}
