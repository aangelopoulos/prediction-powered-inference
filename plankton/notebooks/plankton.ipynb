{
 "cells": [
  {
   "cell_type": "code",
   "execution_count": 126,
   "id": "52ebc498",
   "metadata": {},
   "outputs": [],
   "source": [
    "import os, time, copy\n",
    "import numpy as np\n",
    "import matplotlib.pyplot as plt\n",
    "from sklearn.metrics import confusion_matrix\n",
    "from sklearn.preprocessing import normalize\n",
    "from scipy.optimize import brentq\n",
    "from scipy.stats import binom\n",
    "from tqdm import tqdm"
   ]
  },
  {
   "cell_type": "code",
   "execution_count": 133,
   "id": "541f1b53",
   "metadata": {},
   "outputs": [],
   "source": [
    "# Get data 2006-2014 from the following link: https://darchive.mblwhoilibrary.org/handle/1912/7341\n",
    "# Unzip and merge the datasets in the following directory\n",
    "calib_data = np.load('../calib-outputs.npz')\n",
    "test_data = np.load('../test-outputs.npz')\n",
    "calib_preds = calib_data['preds'].astype(int)\n",
    "calib_labels = calib_data['labels'].astype(int)\n",
    "test_preds = test_data['preds'].astype(int)\n",
    "test_labels = test_data['labels'].astype(int)\n",
    "classes = np.load('../classes.npy')\n",
    "\n",
    "valid = np.array([j for j in range(classes.shape[0]) if ((calib_labels == j).sum() > 0)]) # CHECK FOR VALID CLASSES\n",
    "\n",
    "plankton_classes = np.isin(classes,['mix','mix_elongated','detritus','bad', 'bead', 'bubble', 'other_interaction', 'pollen', 'spore'],invert=True)"
   ]
  },
  {
   "cell_type": "code",
   "execution_count": 128,
   "id": "5c3bd79d",
   "metadata": {},
   "outputs": [
    {
     "name": "stderr",
     "output_type": "stream",
     "text": [
      "/tmp/ipykernel_1144529/2636176637.py:11: RuntimeWarning: invalid value encountered in true_divide\n",
      "  Ahat = np.nan_to_num(C/num_per_class[None,:])\n"
     ]
    }
   ],
   "source": [
    "# Construct the confusion matrix\n",
    "num_classes = classes.shape[0]\n",
    "n = calib_preds.shape[0]\n",
    "N = test_preds.shape[0]\n",
    "\n",
    "C = np.zeros((num_classes,num_classes)).astype(int)\n",
    "for i in range(num_classes):\n",
    "    for j in range(num_classes):\n",
    "        C[i,j] = ((calib_labels == i) & (calib_preds == j)).sum()\n",
    "num_per_class = C.sum(axis=0)\n",
    "Ahat = np.nan_to_num(C/num_per_class[None,:])\n",
    "fhat = np.zeros((test_preds.shape[0],num_classes))\n",
    "fhat[np.arange(test_preds.shape[0]), test_preds-1] = 1\n",
    "fhat = fhat.mean(axis=0)"
   ]
  },
  {
   "cell_type": "code",
   "execution_count": 129,
   "id": "7c7d91ae",
   "metadata": {},
   "outputs": [
    {
     "name": "stdout",
     "output_type": "stream",
     "text": [
      "[0.00634887 0.00640345 0.00634887 0.00634887 0.00748278 0.00634887\n",
      " 0.00635494 0.0078557  0.00634887 0.006361   0.00634887 0.00634887\n",
      " 0.00634887 0.00634887 0.00872281 0.00634887 0.00734938 0.00636707\n",
      " 0.00992342 0.00636403 0.00742518 0.00634887 0.00642467 0.00634887\n",
      " 0.00768289 0.00634887 0.00648531 0.00634887 0.00634887 0.00634887\n",
      " 0.00637313 0.00634887 0.00634887 0.00634887 0.00634887 0.00638526\n",
      " 0.00634887 0.01416801 0.00641557 0.00656717 0.00635191 0.00634887\n",
      " 0.00634887 0.00634887 0.00634887 0.0064277  0.00634887 0.00634887\n",
      " 0.02514329 0.00634887 0.00634887 0.00647924 0.00634887 0.00635191\n",
      " 0.00634887 0.00655504 0.00634887 0.0064368  0.00679152 0.00634887\n",
      " 0.00634887 0.00634887 0.00637313 0.00634887 0.0104358  0.00647924\n",
      " 0.00634887 0.00634887 0.00634887 0.00634887 0.00634887 0.00634887\n",
      " 0.00634887 0.00634887 0.00634887 0.00655201 0.00705226 0.00651866\n",
      " 0.00634887 0.00643983 0.00634887 0.00634887 0.00634887 0.00653988\n",
      " 0.00634887 0.00634887 0.00634887 0.09909003 0.00634887 0.01215789\n",
      " 0.00634887 0.00634887 0.00634887 0.85303749 0.0152625  0.00634887\n",
      " 0.00636707 0.00634887 0.00634887 0.00634887 0.00634887 0.00634887\n",
      " 0.00634887]\n"
     ]
    },
    {
     "name": "stderr",
     "output_type": "stream",
     "text": [
      "/tmp/ipykernel_1144529/3764390853.py:3: RuntimeWarning: divide by zero encountered in true_divide\n",
      "  A_ub = Ahat + np.sqrt( 2 * num_classes * np.log(16*num_classes/delta) / num_per_class )[None,:]\n",
      "/tmp/ipykernel_1144529/3764390853.py:5: RuntimeWarning: divide by zero encountered in true_divide\n",
      "  A_lb = Ahat - np.sqrt( 2 * num_classes * np.log(16*num_classes/delta) / num_per_class )[None,:]\n"
     ]
    }
   ],
   "source": [
    "# Upper and lower bounds on A based on https://rlgammazero.github.io/docs/JFPL2018notesPSRL.pdf\n",
    "delta = 15\n",
    "A_ub = Ahat + np.sqrt( 2 * num_classes * np.log(16*num_classes/delta) / num_per_class )[None,:]\n",
    "A_ub = np.maximum(np.minimum(np.nan_to_num(A_ub), 1),0)\n",
    "A_lb = Ahat - np.sqrt( 2 * num_classes * np.log(16*num_classes/delta) / num_per_class )[None,:]\n",
    "A_lb = np.maximum(np.minimum(np.nan_to_num(A_lb), 1),0)\n",
    "f_lb = np.minimum(np.maximum(fhat - np.sqrt( 2 * num_classes * np.log(16/delta) / N),0),1)\n",
    "f_ub = np.minimum(np.maximum(fhat + np.sqrt( 2 * num_classes * np.log(16/delta) / N),0),1)\n",
    "print(f_ub)"
   ]
  },
  {
   "cell_type": "code",
   "execution_count": 130,
   "id": "7679425c",
   "metadata": {},
   "outputs": [
    {
     "name": "stdout",
     "output_type": "stream",
     "text": [
      "[0. 0. 1. 0. 0. 1. 0. 1. 1. 0. 1. 0. 0. 0. 0. 1. 0. 1. 1. 1. 1. 1. 0. 1.\n",
      " 0. 1. 0. 1. 0. 0. 0. 1. 0. 0. 0. 0. 0. 0. 1. 1. 1. 0. 0. 0. 0. 0. 1. 0.\n",
      " 0. 1. 0. 0. 1. 0. 1. 0. 1. 0. 1. 1. 0. 0. 0. 1. 0. 1. 1. 0. 0. 0. 0. 0.\n",
      " 1. 0. 0. 0. 1. 1. 1. 0. 1. 0. 0. 0. 1. 0. 0. 0. 1. 0. 1. 0. 0. 0. 1. 1.\n",
      " 0. 1. 0. 0. 0. 0. 0.]\n"
     ]
    }
   ],
   "source": [
    "# Run MAI, estimating confusion matrix\n",
    "qyhat_lb = (np.linalg.pinv(A_lb)@f_lb)[plankton_classes].sum()\n",
    "qyhat_ub = (np.linalg.pinv(A_ub)@f_ub)[plankton_classes].sum()\n",
    "\n",
    "count_plankton_lb = binom.ppf(delta/8, N, qyhat_lb)\n",
    "count_plankton_ub = binom.ppf(1-delta/8, N, qyhat_ub)\n",
    "\n",
    "counts = N*(np.linalg.pinv(Ahat)@fhat)[plankton_classes].sum()\n",
    "print(Ahat.sum(axis=0))"
   ]
  },
  {
   "cell_type": "code",
   "execution_count": 131,
   "id": "e2fde832",
   "metadata": {},
   "outputs": [
    {
     "name": "stdout",
     "output_type": "stream",
     "text": [
      "The model-assisted estimate for the number of plankton observed in 2014 is -229485.63748657712.\n",
      "The true number of plankton observed in 2014 was 90.079334327779, which lies in the interval.\n",
      "The point estimate was 30010989, which does not lie in the interval.\n"
     ]
    }
   ],
   "source": [
    "print(f\"The model-assisted estimate for the number of plankton observed in 2014 is {counts}.\")\n",
    "print(f\"The true number of plankton observed in 2014 was {test_labels.mean()}, which lies in the interval.\")\n",
    "print(f\"The point estimate was {test_preds.sum()}, which does not lie in the interval.\")"
   ]
  }
 ],
 "metadata": {
  "kernelspec": {
   "display_name": "Python 3 (ipykernel)",
   "language": "python",
   "name": "python3"
  },
  "language_info": {
   "codemirror_mode": {
    "name": "ipython",
    "version": 3
   },
   "file_extension": ".py",
   "mimetype": "text/x-python",
   "name": "python",
   "nbconvert_exporter": "python",
   "pygments_lexer": "ipython3",
   "version": "3.9.13"
  }
 },
 "nbformat": 4,
 "nbformat_minor": 5
}
