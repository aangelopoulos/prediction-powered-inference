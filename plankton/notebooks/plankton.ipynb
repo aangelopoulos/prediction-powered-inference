{
 "cells": [
  {
   "cell_type": "code",
   "execution_count": 1,
   "id": "52ebc498",
   "metadata": {},
   "outputs": [],
   "source": [
    "import os, time, copy\n",
    "import sys\n",
    "sys.path.insert(1, '../../')\n",
    "import numpy as np\n",
    "import matplotlib.pyplot as plt\n",
    "from sklearn.metrics import confusion_matrix\n",
    "from sklearn.preprocessing import normalize\n",
    "from tqdm import tqdm\n",
    "from scipy.stats import norm, binom\n",
    "from scipy.optimize import brentq\n",
    "from concentration import linfty_dkw, linfty_binom, wsr_iid"
   ]
  },
  {
   "cell_type": "code",
   "execution_count": 2,
   "id": "541f1b53",
   "metadata": {},
   "outputs": [
    {
     "name": "stdout",
     "output_type": "stream",
     "text": [
      "0.9334570326711781\n"
     ]
    }
   ],
   "source": [
    "# Get data 2006-2014 from the following link: https://darchive.mblwhoilibrary.org/handle/1912/7341\n",
    "# Unzip and merge the datasets in the following directory\n",
    "calib_data = np.load('../calib-outputs.npz')\n",
    "test_data = np.load('../test-outputs.npz')\n",
    "calib_preds = calib_data['preds'].astype(int)\n",
    "calib_labels = calib_data['labels'].astype(int)\n",
    "test_preds = test_data['preds'].astype(int)\n",
    "test_labels = test_data['labels'].astype(int)\n",
    "classes = np.load('../classes.npy')\n",
    "num_classes = classes.shape[0]\n",
    "\n",
    "plankton_classes = np.isin(classes,['mix','mix_elongated','detritus','bad', 'bead', 'bubble', 'other_interaction', 'pollen', 'spore'],invert=True)\n",
    "plankton_idxs = np.where(plankton_classes)[0]\n",
    "\n",
    "true_count = np.isin(test_labels, plankton_idxs).sum()\n",
    "uncorrected_est = np.isin(test_preds, plankton_idxs).sum()\n",
    "print((test_labels == test_preds).astype(float).mean())"
   ]
  },
  {
   "cell_type": "code",
   "execution_count": 3,
   "id": "f7a8ce6e",
   "metadata": {},
   "outputs": [],
   "source": [
    "# Look at the unique classes \n",
    "calib_uq, calib_uq_counts = np.unique(calib_labels, return_counts=True)\n",
    "calib_uq_freq = calib_uq_counts/calib_uq_counts.sum()\n",
    "calib_uq_sort = np.argsort(calib_uq_freq)[::-1]\n",
    "calib_uq_freq = calib_uq_freq[calib_uq_sort]; calib_uq = calib_uq[calib_uq_sort];\n",
    "calib_uq_cumsum = np.cumsum(calib_uq_freq)"
   ]
  },
  {
   "cell_type": "code",
   "execution_count": 4,
   "id": "7c7d91ae",
   "metadata": {},
   "outputs": [
    {
     "name": "stdout",
     "output_type": "stream",
     "text": [
      "['mix' 'detritus' 'Leptocylindrus' 'Chaetoceros' 'mix_elongated' 'dino30'\n",
      " 'Cerataulina' 'Skeletonema' 'Cylindrotheca' 'Guinardia_delicatula'\n",
      " 'Rhizosolenia' 'Thalassiosira' 'bad' 'Ciliate_mix' 'DactFragCerataul']\n",
      "0.9811721639548188\n"
     ]
    }
   ],
   "source": [
    "# Problem setup\n",
    "alpha = 0.018\n",
    "delta_1 = 0.90-1e-2\n",
    "delta_2 = 1e-2\n",
    "K = 15\n",
    "nu = 1-plankton_classes.astype(int)\n",
    "nu_trunc = nu[calib_uq]\n",
    "calib_uq = calib_uq[:K]\n",
    "print(classes[calib_uq])\n",
    "print(calib_uq_cumsum[15])"
   ]
  },
  {
   "cell_type": "code",
   "execution_count": 6,
   "id": "283a88f7",
   "metadata": {},
   "outputs": [],
   "source": [
    "# Construct the confusion matrix\n",
    "n = calib_preds.shape[0]\n",
    "N = test_preds.shape[0]\n",
    "\n",
    "C = np.zeros((num_classes,num_classes)).astype(int)\n",
    "for j in range(num_classes):\n",
    "    for l in range(num_classes):\n",
    "        C[j,l] = ((calib_preds == j) & (calib_labels == l)).sum()"
   ]
  },
  {
   "cell_type": "code",
   "execution_count": 14,
   "id": "b1fb7de4",
   "metadata": {},
   "outputs": [],
   "source": [
    "# Construct Ahat\n",
    "Ahat = C[calib_uq,:][:,calib_uq]\n",
    "Ahat = Ahat / Ahat.sum(axis=0)\n",
    "Ahatinv = np.linalg.inv(Ahat)"
   ]
  },
  {
   "cell_type": "code",
   "execution_count": 15,
   "id": "7ea124bb",
   "metadata": {},
   "outputs": [
    {
     "name": "stdout",
     "output_type": "stream",
     "text": [
      "[0.78815882 0.13339215 0.0110723  0.00990201 0.00918346 0.00676708\n",
      " 0.00629411 0.00622438 0.00366247 0.00289845 0.00242245 0.00231027\n",
      " 0.00178576 0.00154018 0.0014947 ]\n",
      "[0.80449637 0.12426003 0.01349827 0.00641193 0.0056779  0.00238513\n",
      " 0.00801195 0.00808476 0.00374792 0.00244556 0.0013734  0.00206961\n",
      " 0.00167563 0.00136607 0.00160406]\n",
      "0.9361099323597891\n",
      "[94 88 95 49 90 65 19  8 38 15 77 21 25 66  5]\n"
     ]
    }
   ],
   "source": [
    "# Construct the point estimate\n",
    "target_uq, target_uq_counts = np.unique(test_preds, return_counts=True)\n",
    "target_uq_freq = target_uq_counts/target_uq_counts.sum()\n",
    "target_uq_sort = np.argsort(target_uq_freq)[::-1]\n",
    "target_uq_freq = target_uq_freq[target_uq_sort]; target_uq = target_uq[target_uq_sort];\n",
    "target_uq = target_uq[:K]\n",
    "qfhat = target_uq_freq[:K]\n",
    "nu1 = nu_trunc[:K]\n",
    "nu2 = nu_trunc[K:]\n",
    "print(qfhat)\n",
    "print(Ahatinv@qfhat)\n",
    "print(nu1@Ahatinv@qfhat)\n",
    "print(target_uq)"
   ]
  },
  {
   "cell_type": "code",
   "execution_count": 16,
   "id": "7679425c",
   "metadata": {},
   "outputs": [
    {
     "name": "stderr",
     "output_type": "stream",
     "text": [
      "/home/aa/miniconda3/envs/mai/lib/python3.9/site-packages/scipy/stats/_discrete_distns.py:71: RuntimeWarning: divide by zero encountered in _binom_cdf\n",
      "  return _boost._binom_cdf(k, n, p)\n"
     ]
    },
    {
     "name": "stdout",
     "output_type": "stream",
     "text": [
      "1140\n",
      "0.02789705999864933\n",
      "0.005730095582478624\n",
      "0.026490213141110375\n",
      "0.00981241866581435\n",
      "[ 1.01331872  1.01475416 -0.30177606 -0.24600134  1.47167851 -0.19618051\n",
      " -0.45486563 -0.4014275  -0.11443569 -0.00266586 -0.03275331 -0.15534191\n",
      "  0.99991892 -0.0146222   0.09829654]\n"
     ]
    }
   ],
   "source": [
    "point_estimate = nu1@Ahatinv@qfhat\n",
    "\n",
    "nmin = C[:,calib_uq][calib_uq,:].sum(axis=0).min()\n",
    "\n",
    "theta = 0.99 # The solution to the optimal theta is extreme in this case, so we clip.\n",
    "epsilon1 = max([linfty_binom(C[:,calib_uq][calib_uq,:].sum(axis=0)[k], K, theta*delta_1, Ahat[:,k]) for k in range(K)])\n",
    "epsilon2 = linfty_dkw(N,K,(1-theta)*delta_1)\n",
    "\n",
    "lower_constant = alpha * np.abs(np.maximum((nu1@Ahatinv).max(),0) + nu2.min())\n",
    "upper_constant = alpha * np.abs(np.minimum((nu1@Ahatinv).min(),0) + nu2.max())\n",
    "\n",
    "qyhat_lb = np.clip(point_estimate - epsilon1 - epsilon2 - lower_constant, 0, 1)\n",
    "qyhat_ub = np.clip(point_estimate + epsilon1 + epsilon2 + upper_constant, 0, 1)\n",
    "\n",
    "count_nonplankton_lb = int(binom.ppf(delta_2, N, qyhat_lb))\n",
    "count_nonplankton_ub = int(binom.ppf(1-delta_2, N, qyhat_ub))\n",
    "\n",
    "print(nmin)\n",
    "print(epsilon1)\n",
    "print(epsilon2)\n",
    "print(lower_constant)\n",
    "print(upper_constant)\n",
    "print(nu1@Ahatinv)"
   ]
  },
  {
   "cell_type": "code",
   "execution_count": 17,
   "id": "e2fde832",
   "metadata": {},
   "outputs": [
    {
     "name": "stdout",
     "output_type": "stream",
     "text": [
      "The rectified confidence interval for the number of plankton observed in 2014 is [6557,41343] ([2.0%,12.4%]).\n",
      "The true number of plankton observed in 2014 was 23538 (7.1%), which lies in the interval.\n",
      "The uncorrected estimate was 22068 (6.7%).\n",
      "The corrected estimate was 21072 (6.4%).\n"
     ]
    }
   ],
   "source": [
    "print(f\"The rectified confidence interval for the number of plankton observed in 2014 is [{N-count_nonplankton_ub},{N-count_nonplankton_lb}] ([{100*(1-qyhat_ub):.1f}%,{100*(1-qyhat_lb):.1f}%]).\")\n",
    "print(f\"The true number of plankton observed in 2014 was {true_count} ({true_count/N*100:.1f}%), which lies in the interval.\")\n",
    "print(f\"The uncorrected estimate was {uncorrected_est} ({uncorrected_est/N*100:.1f}%).\")\n",
    "print(f\"The corrected estimate was {int(N*(1-point_estimate))} ({(1-point_estimate)*100:.1f}%).\")"
   ]
  }
 ],
 "metadata": {
  "kernelspec": {
   "display_name": "Python 3 (ipykernel)",
   "language": "python",
   "name": "python3"
  },
  "language_info": {
   "codemirror_mode": {
    "name": "ipython",
    "version": 3
   },
   "file_extension": ".py",
   "mimetype": "text/x-python",
   "name": "python",
   "nbconvert_exporter": "python",
   "pygments_lexer": "ipython3",
   "version": "3.9.13"
  }
 },
 "nbformat": 4,
 "nbformat_minor": 5
}
