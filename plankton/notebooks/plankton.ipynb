{
 "cells": [
  {
   "cell_type": "code",
   "execution_count": 1,
   "id": "52ebc498",
   "metadata": {},
   "outputs": [],
   "source": [
    "import os, time, copy\n",
    "import numpy as np\n",
    "import matplotlib.pyplot as plt\n",
    "from sklearn.metrics import confusion_matrix\n",
    "from sklearn.preprocessing import normalize\n",
    "from scipy.optimize import brentq\n",
    "from scipy.stats import binom\n",
    "from tqdm import tqdm"
   ]
  },
  {
   "cell_type": "code",
   "execution_count": 2,
   "id": "541f1b53",
   "metadata": {},
   "outputs": [],
   "source": [
    "# Get data 2006-2014 from the following link: https://darchive.mblwhoilibrary.org/handle/1912/7341\n",
    "# Unzip and merge the datasets in the following directory\n",
    "calib_data = np.load('../calib-outputs.npz')\n",
    "test_data = np.load('../test-outputs.npz')\n",
    "calib_preds = calib_data['preds'].astype(int)\n",
    "calib_labels = calib_data['labels'].astype(int)\n",
    "test_preds = test_data['preds'].astype(int)\n",
    "test_labels = test_data['labels'].astype(int)\n",
    "classes = np.load('../classes.npy')\n",
    "num_classes = classes.shape[0]\n",
    "\n",
    "plankton_classes = np.isin(classes,['mix','mix_elongated','detritus','bad', 'bead', 'bubble', 'other_interaction', 'pollen', 'spore'],invert=True)"
   ]
  },
  {
   "cell_type": "code",
   "execution_count": 3,
   "id": "f7a8ce6e",
   "metadata": {},
   "outputs": [
    {
     "name": "stdout",
     "output_type": "stream",
     "text": [
      "12\n"
     ]
    }
   ],
   "source": [
    "# Look at the unique classes \n",
    "uq, uq_counts = np.unique(calib_labels, return_counts=True)\n",
    "uq_freq = uq_counts/uq_counts.sum()\n",
    "uq_sort = np.argsort(uq_freq)[::-1]\n",
    "uq_freq = uq_freq[uq_sort]; uq = uq[uq_sort];\n",
    "uq_cumsum = np.cumsum(uq_freq)\n",
    "print(np.searchsorted(uq_cumsum,0.97))"
   ]
  },
  {
   "cell_type": "code",
   "execution_count": 4,
   "id": "7c7d91ae",
   "metadata": {},
   "outputs": [],
   "source": [
    "# Problem setup\n",
    "alpha = 0.02\n",
    "K = 10\n",
    "nu = plankton_classes.astype(int)\n",
    "nu_trunc = nu[uq]\n",
    "uq = uq[:K]"
   ]
  },
  {
   "cell_type": "code",
   "execution_count": 5,
   "id": "283a88f7",
   "metadata": {},
   "outputs": [],
   "source": [
    "# Construct the confusion matrix\n",
    "n = calib_preds.shape[0]\n",
    "N = test_preds.shape[0]\n",
    "\n",
    "calib_preds[np.logical_not(np.isin(calib_preds,uq))] = uq[-1]\n",
    "test_preds[np.logical_not(np.isin(test_preds,uq))] = uq[-1]\n",
    "\n",
    "C = np.zeros((num_classes,num_classes)).astype(int)\n",
    "for j in range(num_classes):\n",
    "    for l in range(num_classes):\n",
    "        C[j,l] = ((calib_preds == j) & (calib_labels == l)).sum()"
   ]
  },
  {
   "cell_type": "code",
   "execution_count": 7,
   "id": "b1fb7de4",
   "metadata": {},
   "outputs": [
    {
     "name": "stdout",
     "output_type": "stream",
     "text": [
      "[[9.135e-01 4.902e-02 8.056e-04 1.554e-02 4.698e-03 8.744e-03 9.359e-04\n",
      "  5.221e-03 1.372e-03 1.333e-04]\n",
      " [5.696e-02 7.993e-01 5.128e-03 3.461e-02 2.307e-02 1.108e-02 4.884e-02\n",
      "  1.709e-02 1.357e-03 2.514e-03]\n",
      " [1.670e-02 2.794e-02 5.804e-01 8.913e-03 1.676e-01 0.000e+00 5.740e-02\n",
      "  7.204e-02 6.585e-02 3.126e-03]\n",
      " [1.670e-02 5.188e-02 4.293e-02 7.728e-01 4.830e-02 0.000e+00 2.147e-02\n",
      "  4.234e-02 5.963e-04 2.982e-03]\n",
      " [4.933e-02 4.596e-02 2.016e-01 3.369e-02 4.519e-01 0.000e+00 5.173e-02\n",
      "  6.376e-02 1.008e-01 1.203e-03]\n",
      " [2.151e-01 1.097e-02 0.000e+00 1.062e-03 3.539e-04 7.718e-01 3.539e-04\n",
      "  0.000e+00 0.000e+00 3.539e-04]\n",
      " [0.000e+00 2.149e-02 1.777e-01 5.731e-03 1.576e-01 0.000e+00 6.060e-01\n",
      "  3.009e-02 0.000e+00 1.433e-03]\n",
      " [1.515e-02 3.788e-02 4.545e-02 3.788e-02 2.273e-02 0.000e+00 1.212e-01\n",
      "  7.197e-01 0.000e+00 0.000e+00]\n",
      " [1.169e-02 6.098e-03 1.382e-01 5.081e-04 1.865e-01 0.000e+00 0.000e+00\n",
      "  4.573e-03 6.524e-01 0.000e+00]\n",
      " [4.662e-02 6.827e-02 1.660e-01 4.829e-02 9.158e-02 7.043e-02 4.862e-02\n",
      "  1.232e-02 7.160e-03 4.407e-01]]\n",
      "[1. 1. 1. 1. 1. 1. 1. 1. 1. 1.]\n"
     ]
    }
   ],
   "source": [
    "# Construct Ahat\n",
    "Ahat = C[:,uq][uq,:]\n",
    "Ahat = Ahat / (Ahat.sum(axis=1)[:,None])\n",
    "print(np.array_str(Ahat, precision=3))\n",
    "print(Ahat.sum(axis=1))"
   ]
  },
  {
   "cell_type": "code",
   "execution_count": 8,
   "id": "7ea124bb",
   "metadata": {},
   "outputs": [],
   "source": [
    "# Construct the point estimate\n",
    "uq, uq_counts = np.unique(test_preds, return_counts=True)\n",
    "uq_freq = uq_counts/uq_counts.sum()\n",
    "uq_sort = np.argsort(uq_freq)[::-1]\n",
    "uq_freq = uq_freq[uq_sort]; uq = uq[uq_sort];\n",
    "uq = uq[:K]\n",
    "qf = uq_freq[:K]\n",
    "nu1 = nu_trunc[:K]\n",
    "nu2 = nu_trunc[K:]"
   ]
  },
  {
   "cell_type": "code",
   "execution_count": 10,
   "id": "7679425c",
   "metadata": {},
   "outputs": [
    {
     "name": "stdout",
     "output_type": "stream",
     "text": [
      "[ 0.92678428  0.05535354  0.03673673  0.00597457 -0.1044576  -0.25156296\n",
      "  0.02157415 -0.02330044  0.00685244 -0.06073969]\n",
      "-0.2644651995240214\n",
      "[0 0 1 1 0 1 1 1 1 1]\n",
      "[8.46688617e-01 9.27411531e-02 2.07075117e-02 1.87944166e-02\n",
      " 8.91362876e-03 5.80901792e-03 3.57454704e-03 1.50682772e-03\n",
      " 1.13391060e-03 1.30369400e-04]\n",
      "1.0\n"
     ]
    }
   ],
   "source": [
    "# Run MAI\n",
    "estimate = np.dot(nu1,np.dot(np.linalg.inv(Ahat),qf))\n",
    "print(np.linalg.inv(Ahat)@qf)\n",
    "print(estimate)\n",
    "print(nu1)\n",
    "print(qf)\n",
    "print(qf.sum())\n",
    "#count_plankton_lb = binom.ppf(delta/8, N, qyhat_lb)\n",
    "#count_plankton_ub = binom.ppf(1-delta/8, N, qyhat_ub)\n",
    "\n",
    "#counts = N*(np.linalg.pinv(Ahat)@fhat)[plankton_classes].sum()\n",
    "#print(Ahat.sum(axis=0))"
   ]
  },
  {
   "cell_type": "code",
   "execution_count": 385,
   "id": "e2fde832",
   "metadata": {},
   "outputs": [
    {
     "ename": "NameError",
     "evalue": "name 'counts' is not defined",
     "output_type": "error",
     "traceback": [
      "\u001b[0;31m---------------------------------------------------------------------------\u001b[0m",
      "\u001b[0;31mNameError\u001b[0m                                 Traceback (most recent call last)",
      "Input \u001b[0;32mIn [385]\u001b[0m, in \u001b[0;36m<cell line: 1>\u001b[0;34m()\u001b[0m\n\u001b[0;32m----> 1\u001b[0m \u001b[38;5;28mprint\u001b[39m(\u001b[38;5;124mf\u001b[39m\u001b[38;5;124m\"\u001b[39m\u001b[38;5;124mThe model-assisted estimate for the number of plankton observed in 2014 is \u001b[39m\u001b[38;5;132;01m{\u001b[39;00mcounts\u001b[38;5;132;01m}\u001b[39;00m\u001b[38;5;124m.\u001b[39m\u001b[38;5;124m\"\u001b[39m)\n\u001b[1;32m      2\u001b[0m \u001b[38;5;28mprint\u001b[39m(\u001b[38;5;124mf\u001b[39m\u001b[38;5;124m\"\u001b[39m\u001b[38;5;124mThe true number of plankton observed in 2014 was \u001b[39m\u001b[38;5;132;01m{\u001b[39;00mtest_labels\u001b[38;5;241m.\u001b[39mmean()\u001b[38;5;132;01m}\u001b[39;00m\u001b[38;5;124m, which lies in the interval.\u001b[39m\u001b[38;5;124m\"\u001b[39m)\n\u001b[1;32m      3\u001b[0m \u001b[38;5;28mprint\u001b[39m(\u001b[38;5;124mf\u001b[39m\u001b[38;5;124m\"\u001b[39m\u001b[38;5;124mThe point estimate was \u001b[39m\u001b[38;5;132;01m{\u001b[39;00mtest_preds\u001b[38;5;241m.\u001b[39msum()\u001b[38;5;132;01m}\u001b[39;00m\u001b[38;5;124m, which does not lie in the interval.\u001b[39m\u001b[38;5;124m\"\u001b[39m)\n",
      "\u001b[0;31mNameError\u001b[0m: name 'counts' is not defined"
     ]
    }
   ],
   "source": [
    "print(f\"The model-assisted estimate for the number of plankton observed in 2014 is {counts}.\")\n",
    "print(f\"The true number of plankton observed in 2014 was {test_labels.mean()}, which lies in the interval.\")\n",
    "print(f\"The point estimate was {test_preds.sum()}, which does not lie in the interval.\")"
   ]
  }
 ],
 "metadata": {
  "kernelspec": {
   "display_name": "Python 3 (ipykernel)",
   "language": "python",
   "name": "python3"
  },
  "language_info": {
   "codemirror_mode": {
    "name": "ipython",
    "version": 3
   },
   "file_extension": ".py",
   "mimetype": "text/x-python",
   "name": "python",
   "nbconvert_exporter": "python",
   "pygments_lexer": "ipython3",
   "version": "3.9.13"
  }
 },
 "nbformat": 4,
 "nbformat_minor": 5
}
