{
 "cells": [
  {
   "cell_type": "code",
   "execution_count": 26,
   "id": "52ebc498",
   "metadata": {},
   "outputs": [],
   "source": [
    "import os, time, copy\n",
    "import numpy as np\n",
    "import matplotlib.pyplot as plt\n",
    "from sklearn.metrics import confusion_matrix\n",
    "from sklearn.preprocessing import normalize\n",
    "from scipy.optimize import brentq\n",
    "from scipy.stats import binom\n",
    "from tqdm import tqdm"
   ]
  },
  {
   "cell_type": "code",
   "execution_count": 46,
   "id": "541f1b53",
   "metadata": {},
   "outputs": [],
   "source": [
    "# Get data 2006-2014 from the following link: https://darchive.mblwhoilibrary.org/handle/1912/7341\n",
    "# Unzip and merge the datasets in the following directory\n",
    "calib_data = np.load('./calib-outputs.npz')\n",
    "test_data = np.load('./test-outputs.npz')\n",
    "classes = np.load('./classes.npy')\n",
    "calib_preds, calib_labels = calib_data['preds'], calib_data['labels']\n",
    "test_preds, test_labels = test_data['preds'], test_data['labels']\n",
    "\n",
    "combined_preds = np.concatenate([calib_preds, test_preds])\n",
    "combined_labels = np.concatenate([calib_labels, test_labels]).astype(int)\n",
    "uq_labels, counts_labels = np.unique(combined_labels, return_counts = True)\n",
    "num_labels = uq_labels.shape[0]\n",
    "\n",
    "# Randomly sample a fraction of each label!\n",
    "fractions_to_sample = np.random.random(size=(num_labels))\n",
    "\n",
    "calib_idxs = np.concatenate([ np.random.choice(np.where(combined_labels == uq_labels[j])[0], size=(int(fractions_to_sample[j]*counts_labels[j]),), replace=False) for j in range(num_labels) ])\n",
    "test_idxs = np.arange(combined_labels.shape[0]); test_idxs = test_idxs[np.logical_not(np.isin(test_idxs, calib_idxs))]\n",
    "\n",
    "calib_preds = combined_preds[calib_idxs]\n",
    "calib_labels = combined_labels[calib_idxs]\n",
    "test_preds = combined_preds[test_idxs]\n",
    "test_labels = combined_labels[test_idxs]"
   ]
  },
  {
   "cell_type": "code",
   "execution_count": 41,
   "id": "7c7d91ae",
   "metadata": {},
   "outputs": [],
   "source": [
    "# Convert to binary\n",
    "plankton_classes = np.array(np.where(np.isin(classes,['mix','mix_elongated','detritus','bad', 'bead', 'bubble', 'other_interaction', 'pollen', 'spore'],invert=True))[0])\n",
    "calib_preds = np.isin(calib_preds, plankton_classes)\n",
    "calib_labels = np.isin(calib_labels, plankton_classes)\n",
    "test_preds = np.isin(test_preds, plankton_classes)\n",
    "test_labels = np.isin(test_labels, plankton_classes)"
   ]
  },
  {
   "cell_type": "code",
   "execution_count": 42,
   "id": "fb0cf948",
   "metadata": {},
   "outputs": [
    {
     "name": "stdout",
     "output_type": "stream",
     "text": [
      "calib acc among non-plankton: 0.992 | calib acc among plankton: 0.665 | predicted fraction plankton: 0.114\n"
     ]
    }
   ],
   "source": [
    "n_y1 = calib_labels.sum()\n",
    "n_y0 = calib_labels.shape[0]-calib_labels.sum()\n",
    "N = test_preds.shape[0]\n",
    "\n",
    "n_f0y0 = ((calib_labels == 0) & (calib_preds == 0)).astype(int).sum()\n",
    "n_f1y1 = ((calib_labels == 1) & (calib_preds == 1)).astype(int).sum()\n",
    "N_f1 = test_preds.sum()\n",
    "N_f0 = N-N_f1\n",
    "\n",
    "print(f\"calib acc among non-plankton: {n_f0y0/n_y0:.3f} | calib acc among plankton: {n_f1y1/n_y1:.3f} | predicted fraction plankton: {N_f1/N:.3f}\")"
   ]
  },
  {
   "cell_type": "code",
   "execution_count": 43,
   "id": "72b350f4",
   "metadata": {},
   "outputs": [
    {
     "name": "stdout",
     "output_type": "stream",
     "text": [
      "test acc among non-plankton: 0.973 | test acc among plankton: 0.506\n"
     ]
    }
   ],
   "source": [
    "test_n_y1 = test_labels.sum()\n",
    "test_n_y0 = test_labels.shape[0]-test_labels.sum()\n",
    "\n",
    "test_n_f0y0 = ((test_labels == 0) & (test_preds == 0)).astype(int).sum()\n",
    "test_n_f1y1 = ((test_labels == 1) & (test_preds == 1)).astype(int).sum()\n",
    "\n",
    "print(f\"test acc among non-plankton: {test_n_f0y0/test_n_y0:.3f} | test acc among plankton: {test_n_f1y1/test_n_y1:.3f}\")"
   ]
  },
  {
   "cell_type": "code",
   "execution_count": 44,
   "id": "7679425c",
   "metadata": {},
   "outputs": [
    {
     "name": "stdout",
     "output_type": "stream",
     "text": [
      "0.9917684531839602 0.9924007643660543 \n",
      "\n",
      "0.6586472505566562 0.6704499344785504 \n",
      "\n",
      "0.11207529350406101 0.11544732958814871 \n",
      "\n",
      "[[0.99176845 0.32955007]\n",
      " [0.00823155 0.67044993]] \n",
      "\n",
      " [[0.99240076 0.34135275]\n",
      " [0.00759924 0.65864725]] \n",
      "\n",
      "[0.84318807 0.15681193] \n",
      " [0.83434694 0.16565306]\n"
     ]
    }
   ],
   "source": [
    "# Run MAI, estimating confusion matrix\n",
    "delta = 0.05\n",
    "\n",
    "def invert_for_lb_0(r): return binom.cdf(n_f0y0,n_y0,r)-(1-delta/8)\n",
    "def invert_for_lb_1(r): return binom.cdf(n_f1y1,n_y1,r)-(1-delta/8)\n",
    "def invert_for_ub_0(r): return binom.cdf(n_f0y0,n_y0,r)-(delta/8)\n",
    "def invert_for_ub_1(r): return binom.cdf(n_f1y1,n_y1,r)-(delta/8)\n",
    "\n",
    "def invert_for_lb_f(r): return binom.cdf(N_f1,N,r)-(1-delta/8)\n",
    "def invert_for_ub_f(r): return binom.cdf(N_f1,N,r)-(delta/8)\n",
    "\n",
    "c0_lb = brentq(invert_for_lb_0,0,1)\n",
    "c0_ub = brentq(invert_for_ub_0,0,1)\n",
    "\n",
    "c1_lb = brentq(invert_for_lb_1,0,1)\n",
    "c1_ub = brentq(invert_for_ub_1,0,1)\n",
    "\n",
    "f1_lb = brentq(invert_for_lb_f,0,1)\n",
    "f1_ub = brentq(invert_for_ub_f,0,1)\n",
    "\n",
    "A_lb = np.array([[c0_lb, 1-c1_ub], [1-c0_lb, c1_ub]])\n",
    "A_ub = np.array([[c0_ub, 1-c1_lb], [1-c0_ub, c1_lb]])\n",
    "\n",
    "qyhat_lb = (np.linalg.inv(A_lb)@np.array([1-f1_lb, f1_lb]))\n",
    "qyhat_ub = (np.linalg.inv(A_ub)@np.array([1-f1_ub, f1_ub]))\n",
    "\n",
    "count_plankton_lb = binom.ppf(delta/8, N, qyhat_lb[1])\n",
    "count_plankton_ub = binom.ppf(1-delta/8, N, qyhat_ub[1])\n",
    "\n",
    "print(c0_lb,c0_ub,\"\\n\")\n",
    "print(c1_lb,c1_ub,\"\\n\")\n",
    "print(f1_lb,f1_ub,\"\\n\")\n",
    "print(A_lb,\"\\n\\n\",A_ub, \"\\n\")\n",
    "print(qyhat_lb, \"\\n\", qyhat_ub)"
   ]
  },
  {
   "cell_type": "code",
   "execution_count": 45,
   "id": "e2fde832",
   "metadata": {},
   "outputs": [
    {
     "name": "stdout",
     "output_type": "stream",
     "text": [
      "The model-assisted confidence interval for the fraction of plankton observed in 2014 is [0.1568,0.1657]; the true fraction was 0.1805\n",
      "The model-assisted confidence interval for the number of plankton observed in 2014 is [34267,37087].\n",
      "The true number of plankton observed in 2014 was 39945, which lies in the interval.\n",
      "The point estimate was 25167, which does not lie in the interval.\n"
     ]
    }
   ],
   "source": [
    "print(f\"The model-assisted confidence interval for the fraction of plankton observed in 2014 is [{qyhat_lb[1]:.4f},{qyhat_ub[1]:.4f}]; the true fraction was {test_labels.mean():.4f}\")\n",
    "print(f\"The model-assisted confidence interval for the number of plankton observed in 2014 is [{int(count_plankton_lb)},{int(count_plankton_ub)}].\")\n",
    "print(f\"The true number of plankton observed in 2014 was {test_labels.sum()}, which lies in the interval.\")\n",
    "print(f\"The point estimate was {test_preds.sum()}, which does not lie in the interval.\")"
   ]
  }
 ],
 "metadata": {
  "kernelspec": {
   "display_name": "Python 3 (ipykernel)",
   "language": "python",
   "name": "python3"
  },
  "language_info": {
   "codemirror_mode": {
    "name": "ipython",
    "version": 3
   },
   "file_extension": ".py",
   "mimetype": "text/x-python",
   "name": "python",
   "nbconvert_exporter": "python",
   "pygments_lexer": "ipython3",
   "version": "3.9.13"
  }
 },
 "nbformat": 4,
 "nbformat_minor": 5
}
