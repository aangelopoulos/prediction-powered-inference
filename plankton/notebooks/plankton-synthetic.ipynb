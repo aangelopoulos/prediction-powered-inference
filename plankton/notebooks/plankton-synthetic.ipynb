{
 "cells": [
  {
   "cell_type": "code",
   "execution_count": 1,
   "id": "52ebc498",
   "metadata": {},
   "outputs": [],
   "source": [
    "import os, time, copy\n",
    "import numpy as np\n",
    "import matplotlib.pyplot as plt\n",
    "from sklearn.metrics import confusion_matrix\n",
    "from sklearn.preprocessing import normalize\n",
    "from scipy.optimize import brentq\n",
    "from scipy.stats import binom\n",
    "from tqdm import tqdm"
   ]
  },
  {
   "cell_type": "code",
   "execution_count": 2,
   "id": "541f1b53",
   "metadata": {},
   "outputs": [],
   "source": [
    "# Get data 2006-2014 from the following link: https://darchive.mblwhoilibrary.org/handle/1912/7341\n",
    "# Unzip and merge the datasets in the following directory\n",
    "calib_data = np.load('../calib-outputs.npz')\n",
    "test_data = np.load('../test-outputs.npz')\n",
    "classes = np.load('../classes.npy')\n",
    "calib_preds, calib_labels = calib_data['preds'], calib_data['labels']\n",
    "test_preds, test_labels = test_data['preds'], test_data['labels']\n",
    "plankton_classes = np.array(np.where(np.isin(classes,['mix','mix_elongated','detritus','bad', 'bead', 'bubble', 'other_interaction', 'pollen', 'spore'],invert=True))[0])\n",
    "\n",
    "#combined_preds = np.concatenate([calib_preds, test_preds])\n",
    "#combined_labels = np.concatenate([calib_labels, test_labels])\n",
    "#plankton_loc = np.where(np.isin(combined_labels, plankton_classes))[0]\n",
    "#nonplankton_loc = np.where(np.bitwise_not(np.isin(combined_labels, plankton_classes)))[0]\n",
    "#\n",
    "#num_plankton_total = plankton_loc.shape[0]\n",
    "#num_nonplankton_total = combined_preds.shape[0]-num_plankton_total\n",
    "#num_calib_plankton = int(num_plankton_total/10.0)\n",
    "#num_calib_nonplankton = int(num_nonplankton_total/2.0)\n",
    "#\n",
    "#shuffled_plankton_idxs = np.random.choice(num_plankton_total, size=(num_plankton_total), replace=False)\n",
    "#shuffled_nonplankton_idxs = np.random.choice(num_nonplankton_total, size=(num_nonplankton_total), replace=False)\n",
    "#calib_plankton_idx, test_plankton_idx = shuffled_plankton_idxs[:num_calib_plankton], shuffled_plankton_idxs[num_calib_plankton:]\n",
    "#calib_nonplankton_idx, test_nonplankton_idx = shuffled_nonplankton_idxs[:num_calib_nonplankton], shuffled_nonplankton_idxs[num_calib_nonplankton:]\n",
    "#\n",
    "#calib_preds = np.concatenate([combined_preds[plankton_loc][calib_plankton_idx], combined_preds[nonplankton_loc][calib_nonplankton_idx]])\n",
    "#calib_labels = np.concatenate([combined_labels[plankton_loc][calib_plankton_idx], combined_labels[nonplankton_loc][calib_nonplankton_idx]])\n",
    "#test_preds = np.concatenate([combined_preds[plankton_loc][test_plankton_idx], combined_preds[nonplankton_loc][test_nonplankton_idx]])\n",
    "#test_labels = np.concatenate([combined_labels[plankton_loc][test_plankton_idx], combined_labels[nonplankton_loc][test_nonplankton_idx]])"
   ]
  },
  {
   "cell_type": "code",
   "execution_count": 3,
   "id": "7c7d91ae",
   "metadata": {},
   "outputs": [],
   "source": [
    "# Convert to binary\n",
    "calib_preds = np.isin(calib_preds, plankton_classes)\n",
    "calib_labels = np.isin(calib_labels, plankton_classes)\n",
    "test_preds = np.isin(test_preds, plankton_classes)\n",
    "test_labels = np.isin(test_labels, plankton_classes)"
   ]
  },
  {
   "cell_type": "code",
   "execution_count": 8,
   "id": "fb0cf948",
   "metadata": {},
   "outputs": [
    {
     "name": "stdout",
     "output_type": "stream",
     "text": [
      "calib acc among non-plankton: 0.980 | calib acc among plankton: 0.848 | predicted fraction plankton: 0.067\n"
     ]
    }
   ],
   "source": [
    "n_y1 = calib_labels.sum()\n",
    "n_y0 = calib_labels.shape[0]-calib_labels.sum()\n",
    "N = test_preds.shape[0]\n",
    "\n",
    "n_f0y0 = ((calib_labels == 0) & (calib_preds == 0)).astype(int).sum()\n",
    "n_f0y1 = ((calib_labels == 1) & (calib_preds == 0)).astype(int).sum()\n",
    "n_f1y0 = ((calib_labels == 0) & (calib_preds == 1)).astype(int).sum()\n",
    "n_f1y1 = ((calib_labels == 1) & (calib_preds == 1)).astype(int).sum()\n",
    "N_f1 = test_preds.sum()\n",
    "N_f0 = N-N_f1\n",
    "\n",
    "print(f\"calib acc among non-plankton: {n_f0y0/n_y0:.3f} | calib acc among plankton: {n_f1y1/n_y1:.3f} | predicted fraction plankton: {N_f1/N:.3f}\")"
   ]
  },
  {
   "cell_type": "code",
   "execution_count": 9,
   "id": "72b350f4",
   "metadata": {},
   "outputs": [
    {
     "name": "stdout",
     "output_type": "stream",
     "text": [
      "test acc among non-plankton: 0.991 | test acc among plankton: 0.821\n"
     ]
    }
   ],
   "source": [
    "test_n_y1 = test_labels.sum()\n",
    "test_n_y0 = test_labels.shape[0]-test_labels.sum()\n",
    "\n",
    "test_n_f0y0 = ((test_labels == 0) & (test_preds == 0)).astype(int).sum()\n",
    "test_n_f0y1 = ((test_labels == 1) & (test_preds == 0)).astype(int).sum()\n",
    "test_n_f1y0 = ((test_labels == 0) & (test_preds == 1)).astype(int).sum()\n",
    "test_n_f1y1 = ((test_labels == 1) & (test_preds == 1)).astype(int).sum()\n",
    "\n",
    "print(f\"test acc among non-plankton: {test_n_f0y0/test_n_y0:.3f} | test acc among plankton: {test_n_f1y1/test_n_y1:.3f}\")"
   ]
  },
  {
   "cell_type": "code",
   "execution_count": 13,
   "id": "7679425c",
   "metadata": {},
   "outputs": [
    {
     "name": "stdout",
     "output_type": "stream",
     "text": [
      "c0_lb, c0_ub\n",
      "0.9794139279621336 0.9805717323590207 \n",
      "\n",
      "c1_lb, c1_ub\n",
      "0.8439714266221167 0.8515319007473106 \n",
      "\n",
      "f1_lb, f1_ub\n",
      "0.0658275321190476 0.06800087496151788 \n",
      "\n",
      "A\n",
      "[[0.97999737 0.15222948]\n",
      " [0.02000263 0.84777052]]\n",
      "Ainv@qfhat\n",
      "[0.94333658 0.05666342]\n",
      "A_lb, A_ub\n",
      "[[0.97941393 0.1484681 ]\n",
      " [0.02058607 0.8515319 ]] \n",
      "\n",
      " [[0.98057173 0.15602857]\n",
      " [0.01942827 0.84397143]] \n",
      "\n",
      "[0.94555426 0.05444574] \n",
      " [0.94109149 0.05890851]\n"
     ]
    }
   ],
   "source": [
    "# Run MAI, estimating confusion matrix\n",
    "delta = 0.05\n",
    "\n",
    "def invert_for_lb_0(r): return binom.cdf(n_f0y0,n_y0,r)-(1-delta/8)\n",
    "def invert_for_lb_1(r): return binom.cdf(n_f1y1,n_y1,r)-(1-delta/8)\n",
    "def invert_for_ub_0(r): return binom.cdf(n_f0y0,n_y0,r)-(delta/8)\n",
    "def invert_for_ub_1(r): return binom.cdf(n_f1y1,n_y1,r)-(delta/8)\n",
    "\n",
    "def invert_for_lb_f(r): return binom.cdf(N_f1,N,r)-(1-delta/8)\n",
    "def invert_for_ub_f(r): return binom.cdf(N_f1,N,r)-(delta/8)\n",
    "\n",
    "c0_lb = brentq(invert_for_lb_0,0,1)\n",
    "c0_ub = brentq(invert_for_ub_0,0,1)\n",
    "\n",
    "c1_lb = brentq(invert_for_lb_1,0,1)\n",
    "c1_ub = brentq(invert_for_ub_1,0,1)\n",
    "\n",
    "f1_lb = brentq(invert_for_lb_f,0,1)\n",
    "f1_ub = brentq(invert_for_ub_f,0,1)\n",
    "\n",
    "A_lb = np.array([[c0_lb, 1-c1_ub], [1-c0_lb, c1_ub]])\n",
    "A_ub = np.array([[c0_ub, 1-c1_lb], [1-c0_ub, c1_lb]])\n",
    "A = np.array([[n_f0y0/n_y0, n_f0y1/n_y1],[n_f1y0/n_y0, n_f1y1/n_y1]])\n",
    "\n",
    "qyhat_lb = (np.linalg.inv(A_lb)@np.array([1-f1_lb, f1_lb]))\n",
    "qyhat_ub = (np.linalg.inv(A_ub)@np.array([1-f1_ub, f1_ub]))\n",
    "\n",
    "count_plankton_lb = binom.ppf(delta/8, N, qyhat_lb[1])\n",
    "count_plankton_ub = binom.ppf(1-delta/8, N, qyhat_ub[1])\n",
    "\n",
    "print(\"c0_lb, c0_ub\")\n",
    "print(c0_lb,c0_ub,\"\\n\")\n",
    "print(\"c1_lb, c1_ub\")\n",
    "print(c1_lb,c1_ub,\"\\n\")\n",
    "print(\"f1_lb, f1_ub\")\n",
    "print(f1_lb,f1_ub,\"\\n\")\n",
    "print(\"A\")\n",
    "print(A)\n",
    "print(\"Ainv@qfhat\")\n",
    "print(np.linalg.inv(A)@np.array([N_f0/N, N_f1/N]))\n",
    "print(\"A_lb, A_ub\")\n",
    "print(A_lb,\"\\n\\n\",A_ub, \"\\n\")\n",
    "print(qyhat_lb, \"\\n\", qyhat_ub)"
   ]
  },
  {
   "cell_type": "code",
   "execution_count": null,
   "id": "e2fde832",
   "metadata": {},
   "outputs": [],
   "source": [
    "print(f\"The model-assisted confidence interval for the fraction of plankton observed in 2014 is [{qyhat_lb[1]:.4f},{qyhat_ub[1]:.4f}]; the true fraction was {test_labels.mean():.4f}\")\n",
    "print(f\"The model-assisted confidence interval for the number of plankton observed in 2014 is [{int(count_plankton_lb)},{int(count_plankton_ub)}].\")\n",
    "print(f\"The true number of plankton observed in 2014 was {test_labels.sum()}, which lies in the interval.\")\n",
    "print(f\"The point estimate was {test_preds.sum()}, which does not lie in the interval.\")"
   ]
  }
 ],
 "metadata": {
  "kernelspec": {
   "display_name": "Python 3 (ipykernel)",
   "language": "python",
   "name": "python3"
  },
  "language_info": {
   "codemirror_mode": {
    "name": "ipython",
    "version": 3
   },
   "file_extension": ".py",
   "mimetype": "text/x-python",
   "name": "python",
   "nbconvert_exporter": "python",
   "pygments_lexer": "ipython3",
   "version": "3.9.13"
  }
 },
 "nbformat": 4,
 "nbformat_minor": 5
}
