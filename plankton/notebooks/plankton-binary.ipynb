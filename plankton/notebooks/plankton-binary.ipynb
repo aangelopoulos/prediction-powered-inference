{
 "cells": [
  {
   "cell_type": "code",
   "execution_count": 1,
   "id": "52ebc498",
   "metadata": {
    "execution": {
     "iopub.execute_input": "2023-01-10T00:53:43.993626Z",
     "iopub.status.busy": "2023-01-10T00:53:43.993058Z",
     "iopub.status.idle": "2023-01-10T00:53:46.601977Z",
     "shell.execute_reply": "2023-01-10T00:53:46.600579Z"
    }
   },
   "outputs": [],
   "source": [
    "import os, time, copy\n",
    "import sys\n",
    "sys.path.insert(1, '../../')\n",
    "import numpy as np\n",
    "import pandas as pd\n",
    "import matplotlib.pyplot as plt\n",
    "import matplotlib.patheffects as pe\n",
    "import seaborn as sns\n",
    "from sklearn.metrics import confusion_matrix\n",
    "from sklearn.preprocessing import normalize\n",
    "from tqdm import tqdm\n",
    "from scipy.optimize import brentq\n",
    "from scipy.stats import norm, binom\n",
    "from concentration import linfty_dkw, linfty_binom, wsr_iid, binomial_iid"
   ]
  },
  {
   "cell_type": "code",
   "execution_count": 2,
   "id": "541f1b53",
   "metadata": {
    "execution": {
     "iopub.execute_input": "2023-01-10T00:53:46.606987Z",
     "iopub.status.busy": "2023-01-10T00:53:46.606780Z",
     "iopub.status.idle": "2023-01-10T00:53:46.750224Z",
     "shell.execute_reply": "2023-01-10T00:53:46.749259Z"
    }
   },
   "outputs": [
    {
     "name": "stdout",
     "output_type": "stream",
     "text": [
      "Calib acc: 0.962313466496375\n",
      "Test acc: 0.9789407941012395\n"
     ]
    }
   ],
   "source": [
    "# Get data 2006-2014 from the following link: https://darchive.mblwhoilibrary.org/handle/1912/7341\n",
    "# Unzip and merge the datasets in the following directory\n",
    "calib_data = np.load('../calib-outputs.npz')\n",
    "test_data = np.load('../test-outputs.npz')\n",
    "calib_preds = calib_data['preds'].astype(int)\n",
    "calib_labels = calib_data['labels'].astype(int)\n",
    "test_preds = test_data['preds'].astype(int)\n",
    "test_labels = test_data['labels'].astype(int)\n",
    "classes = np.load('../classes.npy')\n",
    "num_classes = classes.shape[0]\n",
    "\n",
    "plankton_classes = np.isin(classes,['mix','mix_elongated','detritus','bad', 'bead', 'bubble', 'other_interaction', 'pollen', 'spore'],invert=True)\n",
    "plankton_classes_list = np.array(np.where(plankton_classes)[0])\n",
    "\n",
    "true_count = np.isin(test_labels, plankton_classes_list).sum()\n",
    "N = test_labels.shape[0]\n",
    "true_frac = true_count/N\n",
    "uncorrected_est = np.isin(test_preds, plankton_classes_list).sum()\n",
    "\n",
    "calib_preds = np.isin(calib_preds, plankton_classes_list)\n",
    "calib_labels = np.isin(calib_labels, plankton_classes_list)\n",
    "test_preds = np.isin(test_preds, plankton_classes_list)\n",
    "test_labels = np.isin(test_labels, plankton_classes_list)\n",
    "\n",
    "print(f\"Calib acc: {(calib_preds == calib_labels).astype(int).mean()}\")\n",
    "print(f\"Test acc: {(test_preds == test_labels).astype(int).mean()}\")"
   ]
  },
  {
   "cell_type": "code",
   "execution_count": 3,
   "id": "f7a8ce6e",
   "metadata": {
    "execution": {
     "iopub.execute_input": "2023-01-10T00:53:46.754811Z",
     "iopub.status.busy": "2023-01-10T00:53:46.754592Z",
     "iopub.status.idle": "2023-01-10T00:53:46.765976Z",
     "shell.execute_reply": "2023-01-10T00:53:46.765082Z"
    }
   },
   "outputs": [],
   "source": [
    "# Look at the unique classes \n",
    "calib_uq, calib_uq_counts = np.unique(calib_labels, return_counts=True)\n",
    "calib_uq_freq = calib_uq_counts/calib_uq_counts.sum()\n",
    "calib_uq_sort = np.argsort(calib_uq_freq)[::-1]\n",
    "calib_uq_freq = calib_uq_freq[calib_uq_sort]; calib_uq = calib_uq[calib_uq_sort];\n",
    "calib_uq_cumsum = np.cumsum(calib_uq_freq)"
   ]
  },
  {
   "cell_type": "code",
   "execution_count": 71,
   "id": "7c7d91ae",
   "metadata": {
    "execution": {
     "iopub.execute_input": "2023-01-10T00:53:46.770003Z",
     "iopub.status.busy": "2023-01-10T00:53:46.769327Z",
     "iopub.status.idle": "2023-01-10T00:53:46.774374Z",
     "shell.execute_reply": "2023-01-10T00:53:46.773540Z"
    }
   },
   "outputs": [],
   "source": [
    "# Problem setup\n",
    "alpha = 0.05\n",
    "delta = 0.048\n",
    "K = 2\n",
    "nu = np.array([0,1])\n",
    "n_max = calib_preds.shape[0]\n",
    "ns = np.linspace(1000, n_max, 20).astype(int)\n",
    "num_trials = 50"
   ]
  },
  {
   "cell_type": "code",
   "execution_count": 72,
   "id": "b9a9f295",
   "metadata": {
    "execution": {
     "iopub.execute_input": "2023-01-10T00:53:46.777633Z",
     "iopub.status.busy": "2023-01-10T00:53:46.777480Z",
     "iopub.status.idle": "2023-01-10T00:53:46.782474Z",
     "shell.execute_reply": "2023-01-10T00:53:46.781681Z"
    }
   },
   "outputs": [],
   "source": [
    "def form_qfhat(test_preds):\n",
    "    # Construct the point estimate\n",
    "    target_uq, target_uq_counts = np.unique(test_preds, return_counts=True)\n",
    "    target_uq_freq = target_uq_counts/target_uq_counts.sum()\n",
    "    target_uq_sort = np.argsort(target_uq_freq)[::-1]\n",
    "    target_uq_freq = target_uq_freq[target_uq_sort]; target_uq = target_uq[target_uq_sort];\n",
    "    qfhat = target_uq_freq\n",
    "    return qfhat"
   ]
  },
  {
   "cell_type": "code",
   "execution_count": 73,
   "id": "6cd8166b",
   "metadata": {
    "execution": {
     "iopub.execute_input": "2023-01-10T00:53:46.785835Z",
     "iopub.status.busy": "2023-01-10T00:53:46.785567Z",
     "iopub.status.idle": "2023-01-10T00:53:46.790788Z",
     "shell.execute_reply": "2023-01-10T00:53:46.789986Z"
    }
   },
   "outputs": [],
   "source": [
    "def naiveML(test_preds, alpha, delta):\n",
    "    N = test_preds.shape[0]\n",
    "    grid = np.linspace(0.01,0.99,1000)\n",
    "    qfhat = form_qfhat(test_preds)\n",
    "    naive_freq_interval = binomial_iid(N,delta,qfhat[1])\n",
    "    naive_count_lb = int(binom.ppf((alpha-delta)/2, N, naive_freq_interval[0]))\n",
    "    naive_count_ub = int(binom.ppf(1-(alpha-delta)/2, N, naive_freq_interval[1]))\n",
    "    return [naive_count_lb, naive_count_ub]"
   ]
  },
  {
   "cell_type": "code",
   "execution_count": 74,
   "id": "28f28b5c",
   "metadata": {
    "execution": {
     "iopub.execute_input": "2023-01-10T00:53:46.794629Z",
     "iopub.status.busy": "2023-01-10T00:53:46.794088Z",
     "iopub.status.idle": "2023-01-10T00:53:46.800964Z",
     "shell.execute_reply": "2023-01-10T00:53:46.800143Z"
    }
   },
   "outputs": [],
   "source": [
    "def ppi_iid(calib_preds, test_preds, calib_labels, alpha, delta):\n",
    "    N = test_preds.shape[0]\n",
    "    qfhat = form_qfhat(test_preds)\n",
    "\n",
    "    bias_estimate = (calib_preds.astype(float) - calib_labels.astype(float)).mean()\n",
    "    grid = np.linspace(0.45,0.55,1000)\n",
    "    possible_biases = bias_estimate + 2*wsr_iid((calib_preds.astype(float) - calib_labels.astype(float)+1)/2, delta, grid, intersection=False)-1\n",
    "    naive_freq_interval = binomial_iid(N,(alpha-delta)/2,qfhat[1])\n",
    "    iid_lb = naive_freq_interval[0]+ possible_biases.min()\n",
    "    iid_ub = naive_freq_interval[1] + possible_biases.max()\n",
    "    iid_count_lb = int(binom.ppf((alpha-delta)/4, N, iid_lb))\n",
    "    iid_count_ub = int(binom.ppf(1-(alpha-delta)/4, N, iid_ub))\n",
    "    return [iid_count_lb, iid_count_ub]"
   ]
  },
  {
   "cell_type": "code",
   "execution_count": 75,
   "id": "5cb82c35",
   "metadata": {
    "execution": {
     "iopub.execute_input": "2023-01-10T00:53:46.804325Z",
     "iopub.status.busy": "2023-01-10T00:53:46.804151Z",
     "iopub.status.idle": "2023-01-10T00:53:46.813933Z",
     "shell.execute_reply": "2023-01-10T00:53:46.813115Z"
    }
   },
   "outputs": [],
   "source": [
    "def ppi_label_shift(calib_preds, test_preds, calib_labels, K, alpha, delta):\n",
    "    # Construct the confusion matrix\n",
    "    n = calib_preds.shape[0]\n",
    "    N = test_preds.shape[0]\n",
    "\n",
    "    # Construct column-normalized confusion matrix Ahat\n",
    "    C = np.zeros((K,K)).astype(int)\n",
    "    for j in range(K):\n",
    "        for l in range(K):\n",
    "            C[j,l] = np.bitwise_and(calib_preds == j,calib_labels == l).astype(int).sum()\n",
    "    Ahat = C / C.sum(axis=0)\n",
    "    # Invert Ahat\n",
    "    Ahatinv = np.linalg.inv(Ahat)\n",
    "    qfhat = form_qfhat(test_preds)\n",
    "    # Calculate the bound\n",
    "    point_estimate = nu@Ahatinv@qfhat\n",
    "\n",
    "    nmin = C.sum(axis=0).min()\n",
    "\n",
    "    def invert_theta(theta): return np.sqrt(1/(4*nmin))*(norm.ppf(1-(theta*delta)/(2*K**2)) - norm.ppf((theta*delta)/(2*K**2))) - np.sqrt(2/N*np.log(2/((1-theta)*delta)))\n",
    "    try:\n",
    "        theta = brentq(invert_theta,1e-9,1-1e-9)\n",
    "    except:\n",
    "        theta = 0.999\n",
    "    epsilon1 = max([linfty_binom(C.sum(axis=0)[k], K, theta*delta, Ahat[:,k]) for k in range(K)])\n",
    "    epsilon2 = linfty_dkw(N,K,(1-theta)*delta)\n",
    "\n",
    "    qyhat_lb = np.clip(point_estimate - epsilon1 - epsilon2, 0, 1)\n",
    "    qyhat_ub = np.clip(point_estimate + epsilon1 + epsilon2, 0, 1)\n",
    "\n",
    "    count_plankton_lb = int(binom.ppf((alpha-delta)/2, N, qyhat_lb))\n",
    "    count_plankton_ub = int(binom.ppf(1-(alpha-delta)/2, N, qyhat_ub))\n",
    "    return [count_plankton_lb, count_plankton_ub]"
   ]
  },
  {
   "cell_type": "code",
   "execution_count": 76,
   "id": "e43c7ff4",
   "metadata": {
    "execution": {
     "iopub.execute_input": "2023-01-10T00:53:46.817626Z",
     "iopub.status.busy": "2023-01-10T00:53:46.816956Z",
     "iopub.status.idle": "2023-01-10T02:33:03.554000Z",
     "shell.execute_reply": "2023-01-10T02:33:03.553010Z"
    }
   },
   "outputs": [
    {
     "name": "stderr",
     "output_type": "stream",
     "text": [
      " 65%|███████████████████████████▉               | 13/20 [00:37<00:32,  4.69s/it]/home/aa/Code/model-assisted-inference/plankton/notebooks/../../concentration.py:58: RuntimeWarning: overflow encountered in exp\n",
      "  theta * np.exp(np.cumsum(np.log(1 + lambdaplus_n * (x_n - m)))),\n",
      " 70%|██████████████████████████████             | 14/20 [00:44<00:30,  5.15s/it]/home/aa/Code/model-assisted-inference/plankton/notebooks/../../concentration.py:58: RuntimeWarning: overflow encountered in exp\n",
      "  theta * np.exp(np.cumsum(np.log(1 + lambdaplus_n * (x_n - m)))),\n",
      " 75%|████████████████████████████████▎          | 15/20 [00:50<00:28,  5.63s/it]/home/aa/Code/model-assisted-inference/plankton/notebooks/../../concentration.py:58: RuntimeWarning: overflow encountered in exp\n",
      "  theta * np.exp(np.cumsum(np.log(1 + lambdaplus_n * (x_n - m)))),\n",
      " 80%|██████████████████████████████████▍        | 16/20 [00:58<00:24,  6.12s/it]/home/aa/Code/model-assisted-inference/plankton/notebooks/../../concentration.py:58: RuntimeWarning: overflow encountered in exp\n",
      "  theta * np.exp(np.cumsum(np.log(1 + lambdaplus_n * (x_n - m)))),\n",
      " 85%|████████████████████████████████████▌      | 17/20 [01:05<00:19,  6.62s/it]/home/aa/Code/model-assisted-inference/plankton/notebooks/../../concentration.py:58: RuntimeWarning: overflow encountered in exp\n",
      "  theta * np.exp(np.cumsum(np.log(1 + lambdaplus_n * (x_n - m)))),\n",
      " 90%|██████████████████████████████████████▋    | 18/20 [01:14<00:14,  7.14s/it]/home/aa/Code/model-assisted-inference/plankton/notebooks/../../concentration.py:58: RuntimeWarning: overflow encountered in exp\n",
      "  theta * np.exp(np.cumsum(np.log(1 + lambdaplus_n * (x_n - m)))),\n",
      " 95%|████████████████████████████████████████▊  | 19/20 [01:23<00:07,  7.63s/it]/home/aa/Code/model-assisted-inference/plankton/notebooks/../../concentration.py:58: RuntimeWarning: overflow encountered in exp\n",
      "  theta * np.exp(np.cumsum(np.log(1 + lambdaplus_n * (x_n - m)))),\n",
      "100%|███████████████████████████████████████████| 20/20 [01:32<00:00,  4.62s/it]\n"
     ]
    }
   ],
   "source": [
    "columns = [\"lb\",\"ub\",\"covered\",\"estimator\",\"n\"]\n",
    "\n",
    "results = []\n",
    "for j in tqdm(range(ns.shape[0])):\n",
    "    for i in range(num_trials):\n",
    "        n = ns[j]\n",
    "        randidx = np.random.permutation(n_max)\n",
    "        _calib_preds = calib_preds[randidx[:n]]\n",
    "        _calib_labels = calib_labels[randidx[:n]]\n",
    "        # Without label shift\n",
    "        _ppi_iid = ppi_iid(_calib_preds, test_preds, _calib_labels, alpha, delta)\n",
    "        # With label shift\n",
    "        _ppi_ls = ppi_label_shift(_calib_preds, test_preds, _calib_labels, K, alpha, delta)\n",
    "        temp_df = pd.DataFrame(np.zeros((2,len(columns))), columns=columns)\n",
    "        temp_df.loc[0] = _ppi_iid[0], _ppi_iid[1], (_ppi_iid[0] <= true_count) & (true_count <= _ppi_iid[1]), \"prediction-powered (i.i.d.)\", n\n",
    "        temp_df.loc[1] = _ppi_ls[0], _ppi_ls[1], (_ppi_ls[0] <= true_count) & (true_count <= _ppi_ls[1]), \"prediction-powered (label shift)\", n\n",
    "        results += [temp_df]\n",
    "# Naive\n",
    "_ii = naiveML(test_preds, alpha, delta)\n",
    "temp_df = pd.DataFrame(np.zeros((1,len(columns))), columns=columns)\n",
    "temp_df.loc[0] = _ii[0], _ii[1], (_ii[0] <= true_count) & (true_count <= _ii[1]), \"naive\", n_max\n",
    "results += [temp_df]\n",
    "\n",
    "df = pd.concat(results)\n",
    "df[\"width\"] = df[\"ub\"] - df[\"lb\"]\n",
    "\n",
    "os.makedirs('./.cache', exist_ok=True)\n",
    "df.to_pickle('./.cache/plankton-results.pkl')"
   ]
  },
  {
   "cell_type": "code",
   "execution_count": 77,
   "id": "f94c5d20",
   "metadata": {
    "execution": {
     "iopub.execute_input": "2023-01-10T02:33:03.562341Z",
     "iopub.status.busy": "2023-01-10T02:33:03.562007Z",
     "iopub.status.idle": "2023-01-10T02:33:03.576992Z",
     "shell.execute_reply": "2023-01-10T02:33:03.576199Z"
    }
   },
   "outputs": [],
   "source": [
    "def make_plots(df, true):\n",
    "    # Line plots\n",
    "    ns = np.sort(np.unique(df[\"n\"]))\n",
    "\n",
    "    my_palette = sns.color_palette([\"#71D26F\",\"#BFB9B9\",\"#D0A869\"], 3)\n",
    "    sns.set_theme(style=\"white\", palette=my_palette, font_scale=1.3)\n",
    "    fig, axs = plt.subplots(ncols=2, figsize=(10, 3))\n",
    "\n",
    "    make_lineplots(df, axs[0])\n",
    "\n",
    "    make_intervals(df[df[\"n\"] == n_max], true, axs[1])\n",
    "\n",
    "    plt.subplots_adjust(right=0.8, left=0.1, top=0.8, bottom=0.2)\n",
    "    \n",
    "    os.makedirs('./plankton-results/', exist_ok=True)\n",
    "    plt.savefig('./plankton-results/results.pdf', bbox_inches='tight')\n",
    "\n",
    "def make_lineplots(df, ax):\n",
    "    plot_df = df[[\"estimator\",\"width\", \"n\"]].groupby([\"estimator\",\"n\"], group_keys=False).mean()[\"width\"].reset_index()\n",
    "    lplt = sns.lineplot(data=plot_df[plot_df[\"estimator\"] != \"naive\"], x=\"n\", y=\"width\", hue=\"estimator\", ax=ax, hue_order=[\"prediction-powered (label shift)\", \"prediction-powered (i.i.d.)\"])\n",
    "    ci_naive = df[df[\"estimator\"] == \"naive\"]\n",
    "    ax.axhline(ci_naive[\"width\"].mean(), xmin=0.0, xmax=n_max, label=\"naive\", color=\"#FFCD82\")\n",
    "    ax.set_ylabel(\"mean width\")\n",
    "    ax.set_xlabel(\"n\")\n",
    "    ax.xaxis.set_tick_params()\n",
    "    ax.yaxis.set_tick_params()\n",
    "    ax.locator_params(tight=True, nbins=4)\n",
    "    lplt.get_legend().remove()\n",
    "    sns.despine(ax=ax,top=True,right=True)\n",
    "\n",
    "def make_intervals(df, true, ax):\n",
    "    ci_naive = df[df[\"estimator\"] == \"naive\"]\n",
    "    ci_naive = [ci_naive[\"lb\"].mean(), ci_naive[\"ub\"].mean()]\n",
    "    ci_classical = df[df[\"estimator\"] == \"prediction-powered (i.i.d.)\"]\n",
    "    ci_classical = [ci_classical[\"lb\"].mean(), ci_classical[\"ub\"].mean()]\n",
    "    ci = df[df[\"estimator\"] == \"prediction-powered (label shift)\"]\n",
    "    ci = [ci[\"lb\"].mean(), ci[\"ub\"].mean()]\n",
    "\n",
    "    ax.plot([ci[0], ci[1]],[0.4,0.4], linewidth=20, color=\"#DAF3DA\", path_effects=[pe.Stroke(linewidth=22, offset=(-1,-0), foreground=\"#71D26F\"), pe.Stroke(linewidth=22, offset=(1,-0), foreground=\"#71D26F\"), pe.Normal()], label='prediction-powered + label shift', solid_capstyle='butt')\n",
    "    ax.plot([ci_classical[0], ci_classical[1]],[0.25, 0.25], linewidth=20, color=\"#EEEDED\", path_effects=[pe.Stroke(linewidth=22, offset=(-1,0), foreground=\"#BFB9B9\"), pe.Stroke(linewidth=22, offset=(1,0), foreground=\"#BFB9B9\"), pe.Normal()],  label='prediction-powered + i.i.d.', solid_capstyle='butt')\n",
    "    ax.plot([ci_naive[0], ci_naive[1]],[0.1, 0.1], linewidth=20, color=\"#FFEACC\", path_effects=[pe.Stroke(linewidth=22, offset=(-1,0), foreground=\"#FFCD82\"), pe.Stroke(linewidth=22, offset=(1,0), foreground=\"#FFCD82\"), pe.Normal()],  label='naive ML', solid_capstyle='butt')\n",
    "    ax.vlines(true, ymin=0.0, ymax=1, linestyle=\"dotted\", linewidth=3, label=\"ground truth\", color=\"#F7AE7C\")\n",
    "    ax.set_xlabel(\"# plankton\")\n",
    "    ax.set_yticks([])\n",
    "    ax.set_yticklabels([])\n",
    "    ax.xaxis.set_tick_params()\n",
    "    ax.set_ylim([0,0.5])\n",
    "    ax.set_xlim([None, None])\n",
    "    ax.legend(bbox_to_anchor = (1.2, 1), borderpad=1, labelspacing = 1)\n",
    "    sns.despine(ax=ax,top=True,right=True,left=True)"
   ]
  },
  {
   "cell_type": "code",
   "execution_count": 78,
   "id": "acdd33b3",
   "metadata": {
    "execution": {
     "iopub.execute_input": "2023-01-10T02:33:03.582522Z",
     "iopub.status.busy": "2023-01-10T02:33:03.582226Z",
     "iopub.status.idle": "2023-01-10T02:33:04.432421Z",
     "shell.execute_reply": "2023-01-10T02:33:04.431608Z"
    }
   },
   "outputs": [
    {
     "data": {
      "image/png": "[encoded data removed]",
      "text/plain": [
       "<Figure size 1000x300 with 2 Axes>"
      ]
     },
     "metadata": {},
     "output_type": "display_data"
    }
   ],
   "source": [
    "df = pd.read_pickle('./.cache/plankton-results.pkl')\n",
    "make_plots(df, true_count)"
   ]
  }
 ],
 "metadata": {
  "kernelspec": {
   "display_name": "Python 3 (ipykernel)",
   "language": "python",
   "name": "python3"
  },
  "language_info": {
   "codemirror_mode": {
    "name": "ipython",
    "version": 3
   },
   "file_extension": ".py",
   "mimetype": "text/x-python",
   "name": "python",
   "nbconvert_exporter": "python",
   "pygments_lexer": "ipython3",
   "version": "3.9.13"
  }
 },
 "nbformat": 4,
 "nbformat_minor": 5
}
