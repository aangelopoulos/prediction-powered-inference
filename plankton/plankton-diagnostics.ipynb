{
 "cells": [
  {
   "cell_type": "code",
   "execution_count": 39,
   "id": "52ebc498",
   "metadata": {},
   "outputs": [],
   "source": [
    "import os, time, copy\n",
    "import numpy as np\n",
    "import matplotlib.pyplot as plt\n",
    "from sklearn.metrics import confusion_matrix\n",
    "from sklearn.preprocessing import normalize\n",
    "from scipy.optimize import brentq\n",
    "from scipy.stats import binom\n",
    "from tqdm import tqdm"
   ]
  },
  {
   "cell_type": "code",
   "execution_count": 40,
   "id": "541f1b53",
   "metadata": {},
   "outputs": [],
   "source": [
    "# Get data 2006-2014 from the following link: https://darchive.mblwhoilibrary.org/handle/1912/7341\n",
    "# Unzip and merge the datasets in the following directory\n",
    "calib_data = np.load('./calib-outputs.npz')\n",
    "test_data = np.load('./test-outputs.npz')\n",
    "calib_preds = calib_data['preds']\n",
    "calib_labels = calib_data['labels']\n",
    "test_preds = test_data['preds']\n",
    "test_labels = test_data['labels']\n",
    "classes = np.load('./classes.npy')"
   ]
  },
  {
   "cell_type": "code",
   "execution_count": 41,
   "id": "7c7d91ae",
   "metadata": {},
   "outputs": [
    {
     "name": "stdout",
     "output_type": "stream",
     "text": [
      "{'Akashiwo': 0, 'Amphidinium_sp': 1, 'Asterionellopsis': 2, 'Bacillaria': 3, 'Bidulphia': 4, 'Cerataulina': 5, 'Cerataulina_flagellate': 6, 'Ceratium': 7, 'Chaetoceros': 8, 'Chaetoceros_didymus': 9, 'Chaetoceros_didymus_flagellate': 10, 'Chaetoceros_flagellate': 11, 'Chaetoceros_other': 12, 'Chaetoceros_pennate': 13, 'Chrysochromulina': 14, 'Ciliate_mix': 15, 'Cochlodinium': 16, 'Corethron': 17, 'Coscinodiscus': 18, 'Cylindrotheca': 19, 'DactFragCerataul': 20, 'Dactyliosolen': 21, 'Delphineis': 22, 'Dictyocha': 23, 'Didinium_sp': 24, 'Dinobryon': 25, 'Dinophysis': 26, 'Ditylum': 27, 'Ditylum_parasite': 28, 'Emiliania_huxleyi': 29, 'Ephemera': 30, 'Eucampia': 31, 'Euglena': 32, 'Euplotes_sp': 33, 'G_delicatula_detritus': 34, 'G_delicatula_external_parasite': 35, 'G_delicatula_parasite': 36, 'Gonyaulax': 37, 'Guinardia_delicatula': 38, 'Guinardia_flaccida': 39, 'Guinardia_striata': 40, 'Gyrodinium': 41, 'Hemiaulus': 42, 'Heterocapsa_triquetra': 43, 'Karenia': 44, 'Katodinium_or_Torodinium': 45, 'Laboea_strobila': 46, 'Lauderia': 47, 'Leegaardiella_ovalis': 48, 'Leptocylindrus': 49, 'Leptocylindrus_mediterraneus': 50, 'Licmophora': 51, 'Mesodinium_sp': 52, 'Odontella': 53, 'Paralia': 54, 'Parvicorbicula_socialis': 55, 'Phaeocystis': 56, 'Pleuronema_sp': 57, 'Pleurosigma': 58, 'Prorocentrum': 59, 'Proterythropsis_sp': 60, 'Protoperidinium': 61, 'Pseudochattonella_farcimen': 62, 'Pseudonitzschia': 63, 'Pyramimonas_longicauda': 64, 'Rhizosolenia': 65, 'Skeletonema': 66, 'Stephanopyxis': 67, 'Strobilidium_morphotype1': 68, 'Strombidium_capitatum': 69, 'Strombidium_conicum': 70, 'Strombidium_inclinatum': 71, 'Strombidium_morphotype1': 72, 'Strombidium_morphotype2': 73, 'Strombidium_oculatum': 74, 'Strombidium_wulffi': 75, 'Thalassionema': 76, 'Thalassiosira': 77, 'Thalassiosira_dirty': 78, 'Tiarina_fusus': 79, 'Tintinnid': 80, 'Tontonia_appendiculariformis': 81, 'Tontonia_gracillima': 82, 'amoeba': 83, 'bad': 84, 'bead': 85, 'bubble': 86, 'clusterflagellate': 87, 'detritus': 88, 'diatom_flagellate': 89, 'dino30': 90, 'dino_large1': 91, 'flagellate_sp3': 92, 'kiteflagellates': 93, 'mix': 94, 'mix_elongated': 95, 'other_interaction': 96, 'pennate': 97, 'pennate_morphotype1': 98, 'pennates_on_diatoms': 99, 'pollen': 100, 'spore': 101, 'zooplankton': 102}\n"
     ]
    }
   ],
   "source": [
    "plankton_classes = np.array(np.where(np.isin(classes,['mix','mix_elongated','detritus','bad', 'bead', 'bubble', 'other_interaction', 'pollen', 'spore'],invert=True))[0])\n",
    "print({ classes[j] : j for j in range(classes.shape[0])})"
   ]
  },
  {
   "cell_type": "code",
   "execution_count": 42,
   "id": "27121e89",
   "metadata": {},
   "outputs": [
    {
     "name": "stdout",
     "output_type": "stream",
     "text": [
      "[ 94.  88.  49.   8.  95.  90.   5.  66.  19.  38.  65.  77.  84.  15.\n",
      "  20.  92.  17.  21.  97.  59.   2.  25.  78.  96.  52.  63.  34.   9.\n",
      "  41.  40.  82.  13.  60. 101.  64.  27.  76.  23.  32.  99.  80.  83.\n",
      "  22.  62.  89.  43.  35.  45.  18.  39.  58.  73.  72.  29.   6.  36.\n",
      "  14.  31.   1.  54.  11.  71.  68.  91.  98.  30.   7.  75.  46.  12.\n",
      "  26.  74.  81.  10.  51.  57.  28.  33.  70. 102.  56.  69.  47.  48.\n",
      "  53.  55.  85.   3.  16.  61.  87.  67. 100.]\n",
      "[0.725 0.117 0.027 0.02  0.019 0.014 0.01  0.01  0.008 0.007 0.007 0.006\n",
      " 0.005 0.003 0.003 0.002 0.002 0.002 0.001 0.001 0.001 0.001 0.001 0.001\n",
      " 0.001 0.001 0.001 0.    0.    0.    0.    0.    0.    0.    0.    0.\n",
      " 0.    0.    0.    0.    0.    0.    0.    0.    0.    0.    0.    0.\n",
      " 0.    0.    0.    0.    0.    0.    0.    0.    0.    0.    0.    0.\n",
      " 0.    0.    0.    0.    0.    0.    0.    0.    0.    0.    0.    0.\n",
      " 0.    0.    0.    0.    0.    0.    0.    0.    0.    0.    0.    0.\n",
      " 0.    0.    0.    0.    0.    0.    0.    0.    0.   ]\n",
      "[0.988 0.647 0.758 0.155 0.235 0.368 0.103 0.024 0.396 0.885 0.376 0.235\n",
      " 0.664 0.51  0.085 0.    0.403 0.096 0.01  0.316 0.062 0.543 0.05  0.\n",
      " 0.113 0.008 0.    0.    0.    0.128 0.    0.    0.    0.    0.    0.159\n",
      " 0.728 0.422 0.    0.    0.2   0.    0.    0.    0.    0.    0.    0.\n",
      " 0.121 0.25  0.467 0.    0.    0.    0.    0.    0.    0.031 0.    0.069\n",
      " 0.    0.    0.    0.    0.    0.    0.267 0.    0.462 0.    0.    0.\n",
      " 0.    0.    0.    0.    0.    0.    0.    0.    0.167 0.    0.    0.\n",
      " 0.    0.    0.    0.    0.    0.    0.    0.    0.   ]\n"
     ]
    }
   ],
   "source": [
    "calib_unique, calib_counts = np.unique(calib_labels, return_counts=True)\n",
    "argsort = np.argsort(calib_counts)[::-1] # Most to least likely\n",
    "calib_unique, calib_counts = calib_unique[argsort], calib_counts[argsort]\n",
    "calib_accuracies = np.array([ (calib_preds[calib_labels == label] == label).mean() for label in calib_unique])\n",
    "print(calib_unique)\n",
    "print(np.around(calib_counts/calib_counts.sum(),3))\n",
    "print(np.around(calib_accuracies,3))"
   ]
  },
  {
   "cell_type": "code",
   "execution_count": 43,
   "id": "86c50245",
   "metadata": {},
   "outputs": [
    {
     "name": "stdout",
     "output_type": "stream",
     "text": [
      "[ 94.  88.  49.  90.  95.  19.  65.   8.  15.  38.  77.  25.  63.  21.\n",
      "  40.  17.   5.  66.  97.  27.  96.  78.  92.  20.  59.   2.  52.  58.\n",
      "  60.  83.  62.  80.  43.   1.  56.  23.  41.  55.  36.  22.  14.  72.\n",
      "  31.  39.  76.  45.  50.  89.  99.  30. 101.  28.  64.  32.  98.  85.\n",
      "  18.  51.  54.  26.  73.  82.   9.  57.  84.  12.  74.  46.  35.  29.\n",
      "  68.  87.  24.  13.  71.   7.   6. 102.  91.  16.  11.  93. 100.  33.\n",
      "  48.  53.  61.  67.  70.  34.  47.  10.  69.   0.]\n",
      "[0.807 0.11  0.013 0.012 0.011 0.007 0.007 0.006 0.003 0.003 0.002 0.002\n",
      " 0.002 0.002 0.001 0.001 0.001 0.001 0.001 0.001 0.001 0.001 0.001 0.001\n",
      " 0.001 0.    0.    0.    0.    0.    0.    0.    0.    0.    0.    0.\n",
      " 0.    0.    0.    0.    0.    0.    0.    0.    0.    0.    0.    0.\n",
      " 0.    0.    0.    0.    0.    0.    0.    0.    0.    0.    0.    0.\n",
      " 0.    0.    0.    0.    0.    0.    0.    0.    0.    0.    0.    0.\n",
      " 0.    0.    0.    0.    0.    0.    0.    0.    0.    0.    0.    0.\n",
      " 0.    0.    0.    0.    0.    0.    0.    0.    0.    0.   ]\n",
      "[0.987 0.679 0.674 0.339 0.323 0.323 0.33  0.173 0.448 0.904 0.158 0.711\n",
      " 0.007 0.477 0.154 0.403 0.245 0.044 0.012 0.078 0.    0.184 0.    0.\n",
      " 0.482 0.07  0.103 0.18  0.    0.    0.    0.206 0.    0.    0.554 0.295\n",
      " 0.    0.    0.018 0.    0.    0.    0.114 0.14  0.486 0.    0.    0.\n",
      " 0.    0.    0.    0.    0.    0.    0.    0.    0.118 0.    0.077 0.\n",
      " 0.    0.    0.    0.    0.    0.    0.    0.667 0.    0.    0.    0.\n",
      " 0.    0.    0.    0.167 0.    0.    0.    0.    0.    0.    0.    0.\n",
      " 0.    0.    0.    0.    0.    0.    0.    0.    0.    0.   ]\n"
     ]
    }
   ],
   "source": [
    "test_unique, test_counts = np.unique(test_labels, return_counts=True)\n",
    "argsort = np.argsort(test_counts)[::-1] # Most to least likely\n",
    "test_unique, test_counts = test_unique[argsort], test_counts[argsort]\n",
    "test_accuracies = np.array([ (test_preds[test_labels == label] == label).mean() for label in test_unique])\n",
    "print(test_unique)\n",
    "print(np.around(test_counts/test_counts.sum(),3))\n",
    "print(np.around(test_accuracies,3))"
   ]
  }
 ],
 "metadata": {
  "kernelspec": {
   "display_name": "Python 3 (ipykernel)",
   "language": "python",
   "name": "python3"
  },
  "language_info": {
   "codemirror_mode": {
    "name": "ipython",
    "version": 3
   },
   "file_extension": ".py",
   "mimetype": "text/x-python",
   "name": "python",
   "nbconvert_exporter": "python",
   "pygments_lexer": "ipython3",
   "version": "3.9.13"
  }
 },
 "nbformat": 4,
 "nbformat_minor": 5
}
