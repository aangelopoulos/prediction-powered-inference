{
 "cells": [
  {
   "cell_type": "code",
   "execution_count": 81,
   "id": "52ebc498",
   "metadata": {},
   "outputs": [],
   "source": [
    "import os, time, copy\n",
    "import numpy as np\n",
    "import matplotlib.pyplot as plt\n",
    "from sklearn.metrics import confusion_matrix\n",
    "from sklearn.preprocessing import normalize\n",
    "from scipy.optimize import brentq\n",
    "from scipy.stats import binom\n",
    "from tqdm import tqdm\n",
    "from utils import get_train_val_split"
   ]
  },
  {
   "cell_type": "code",
   "execution_count": 2,
   "id": "541f1b53",
   "metadata": {},
   "outputs": [],
   "source": [
    "# Get data 2006-2014 from the following link: https://darchive.mblwhoilibrary.org/handle/1912/7341\n",
    "# Unzip and merge the datasets in the following directory\n",
    "data = np.load('./test-outputs.npz')\n",
    "n = 100000\n",
    "shuffle_idx = np.array([1,]*n + [0,]*(data['preds'].shape[0]-n)).astype(bool)\n",
    "np.random.shuffle(shuffle_idx)\n",
    "val_preds = data['preds'][shuffle_idx]\n",
    "val_labels = data['labels'][shuffle_idx]\n",
    "test_preds = data['preds'][np.bitwise_not(shuffle_idx)]\n",
    "test_labels = data['labels'][np.bitwise_not(shuffle_idx)]\n",
    "classes = np.load('./classes.npy')"
   ]
  },
  {
   "cell_type": "code",
   "execution_count": 3,
   "id": "7c7d91ae",
   "metadata": {},
   "outputs": [],
   "source": [
    "# Convert to binary\n",
    "plankton_classes = np.array(np.where(np.isin(classes,['mix','mix_elongated','detritus','bad'],invert=True))[0])\n",
    "val_preds = np.isin(val_preds, plankton_classes)\n",
    "val_labels = np.isin(val_labels, plankton_classes)\n",
    "test_preds = np.isin(test_preds, plankton_classes)\n",
    "test_labels = np.isin(test_labels, plankton_classes)"
   ]
  },
  {
   "cell_type": "code",
   "execution_count": 63,
   "id": "6619048d",
   "metadata": {},
   "outputs": [],
   "source": [
    "test_pred_counts = np.array([test_preds.shape[0]-test_preds.sum(), test_preds.sum()])"
   ]
  },
  {
   "cell_type": "code",
   "execution_count": 149,
   "id": "fb0cf948",
   "metadata": {},
   "outputs": [
    {
     "name": "stdout",
     "output_type": "stream",
     "text": [
      "val acc among non-plankton: 0.991 | val acc among plankton: 0.655 | predicted fraction plankton: 0.056\n"
     ]
    }
   ],
   "source": [
    "n_y1 = val_labels.sum()\n",
    "n_y0 = val_labels.shape[0]-val_labels.sum()\n",
    "N = test_preds.shape[0]\n",
    "\n",
    "n_f0y0 = ((val_labels == 0) & (val_preds == 0)).astype(int).sum()\n",
    "n_f1y1 = ((val_labels == 1) & (val_preds == 1)).astype(int).sum()\n",
    "N_f1 = test_preds.sum()\n",
    "N_f0 = N-N_f1\n",
    "\n",
    "print(f\"val acc among non-plankton: {n_f0y0/n_y0:.3f} | val acc among plankton: {n_f1y1/n_y1:.3f} | predicted fraction plankton: {N_f1/N:.3f}\")"
   ]
  },
  {
   "cell_type": "code",
   "execution_count": 157,
   "id": "7679425c",
   "metadata": {},
   "outputs": [],
   "source": [
    "# Run MAI, estimating confusion matrix\n",
    "delta = 0.5\n",
    "\n",
    "def invert_for_lb_0(r): return binom.cdf(n_f0y0,n_y0,r)-(1-delta/8)\n",
    "def invert_for_lb_1(r): return binom.cdf(n_f1y1,n_y1,r)-(1-delta/8)\n",
    "def invert_for_ub_0(r): return binom.cdf(n_f0y0,n_y0,r)-(delta/8)\n",
    "def invert_for_ub_1(r): return binom.cdf(n_f1y1,n_y1,r)-(delta/8)\n",
    "\n",
    "def invert_for_lb_f(r): return binom.cdf(N_f1,N,r)-(1-delta/8)\n",
    "def invert_for_ub_f(r): return binom.cdf(N_f1,N,r)-(delta/8)\n",
    "\n",
    "c0_lb = brentq(invert_for_lb_0,0,1)\n",
    "c0_ub = brentq(invert_for_ub_0,0,1)\n",
    "\n",
    "c1_lb = brentq(invert_for_lb_1,0,1)\n",
    "c1_ub = brentq(invert_for_ub_1,0,1)\n",
    "\n",
    "f1_lb = brentq(invert_for_lb_f,0,1)\n",
    "f1_ub = brentq(invert_for_ub_f,0,1)\n",
    "\n",
    "A_lb = np.array([[c0_lb, 1-c1_ub], [1-c0_lb, c1_ub]])\n",
    "A_ub = np.array([[c0_ub, 1-c1_lb], [1-c0_ub, c1_lb]])\n",
    "\n",
    "qyhat_lb = (np.linalg.inv(A_lb)@np.array([1-f1_lb, f1_lb]))[1]\n",
    "qyhat_ub = (np.linalg.inv(A_ub)@np.array([1-f1_ub, f1_ub]))[1]\n",
    "\n",
    "count_plankton_lb = binom.ppf(delta/8, N, qyhat_lb)\n",
    "count_plankton_ub = binom.ppf(1-delta/8, N, qyhat_ub)"
   ]
  },
  {
   "cell_type": "code",
   "execution_count": 161,
   "id": "e2fde832",
   "metadata": {},
   "outputs": [
    {
     "name": "stdout",
     "output_type": "stream",
     "text": [
      "The model-assisted confidence interval for the number of plankton observed in 2014 is [15823,17486].\n",
      "The true number of plankton observed in 2014 was 16528, which lies in the interval.\n",
      "The point estimate was 12860, which does not lie in the interval.\n"
     ]
    }
   ],
   "source": [
    "print(f\"The model-assisted confidence interval for the number of plankton observed in 2014 is [{int(count_plankton_lb)},{int(count_plankton_ub)}].\")\n",
    "print(f\"The true number of plankton observed in 2014 was {test_labels.sum()}, which lies in the interval.\")\n",
    "print(f\"The point estimate was {test_preds.sum()}, which does not lie in the interval.\")"
   ]
  }
 ],
 "metadata": {
  "kernelspec": {
   "display_name": "Python 3 (ipykernel)",
   "language": "python",
   "name": "python3"
  },
  "language_info": {
   "codemirror_mode": {
    "name": "ipython",
    "version": 3
   },
   "file_extension": ".py",
   "mimetype": "text/x-python",
   "name": "python",
   "nbconvert_exporter": "python",
   "pygments_lexer": "ipython3",
   "version": "3.9.13"
  }
 },
 "nbformat": 4,
 "nbformat_minor": 5
}
