{
 "cells": [
  {
   "cell_type": "code",
   "execution_count": 2,
   "id": "52ebc498",
   "metadata": {
    "execution": {
     "iopub.execute_input": "2023-01-10T22:44:36.317498Z",
     "iopub.status.busy": "2023-01-10T22:44:36.316961Z",
     "iopub.status.idle": "2023-01-10T22:44:37.553587Z",
     "shell.execute_reply": "2023-01-10T22:44:37.552807Z"
    }
   },
   "outputs": [],
   "source": [
    "import os, time, copy\n",
    "import sys\n",
    "sys.path.insert(1, '../')\n",
    "import numpy as np\n",
    "import pandas as pd\n",
    "import matplotlib.pyplot as plt\n",
    "import matplotlib.patheffects as pe\n",
    "import seaborn as sns\n",
    "from sklearn.metrics import confusion_matrix\n",
    "from sklearn.preprocessing import normalize\n",
    "from tqdm import tqdm\n",
    "from scipy.optimize import brentq\n",
    "from scipy.stats import norm, binom\n",
    "from ppi import linfty_dkw, linfty_binom, wsr_iid, binomial_iid\n",
    "import pdb"
   ]
  },
  {
   "cell_type": "markdown",
   "id": "4dea41b3",
   "metadata": {},
   "source": [
    "## Load in and pre-process data"
   ]
  },
  {
   "cell_type": "code",
   "execution_count": 6,
   "id": "541f1b53",
   "metadata": {
    "execution": {
     "iopub.execute_input": "2023-01-10T22:44:37.558649Z",
     "iopub.status.busy": "2023-01-10T22:44:37.558364Z",
     "iopub.status.idle": "2023-01-10T22:44:37.673911Z",
     "shell.execute_reply": "2023-01-10T22:44:37.673141Z"
    }
   },
   "outputs": [
    {
     "name": "stdout",
     "output_type": "stream",
     "text": [
      "Calib acc: 0.962313466496375\n",
      "Test acc: 0.9789407941012395\n"
     ]
    }
   ],
   "source": [
    "# Get data 2006-2014 from the following link: https://darchive.mblwhoilibrary.org/handle/1912/7341\n",
    "# Unzip and merge the datasets in the following directory\n",
    "calib_data = np.load('calib-outputs.npz')\n",
    "test_data = np.load('test-outputs.npz')\n",
    "calib_preds = calib_data['preds'].astype(int)\n",
    "calib_labels = calib_data['labels'].astype(int)\n",
    "test_preds = test_data['preds'].astype(int)\n",
    "test_labels = test_data['labels'].astype(int)\n",
    "classes = np.load('classes.npy')\n",
    "num_classes = classes.shape[0]\n",
    "\n",
    "plankton_classes = np.isin(classes,['mix','mix_elongated','detritus','bad', 'bead', 'bubble', 'other_interaction', 'pollen', 'spore'],invert=True)\n",
    "plankton_classes_list = np.array(np.where(plankton_classes)[0])\n",
    "\n",
    "true_count = np.isin(test_labels, plankton_classes_list).sum()\n",
    "N = test_labels.shape[0]\n",
    "true_frac = true_count/N\n",
    "uncorrected_est = np.isin(test_preds, plankton_classes_list).sum()\n",
    "\n",
    "calib_preds = np.isin(calib_preds, plankton_classes_list)\n",
    "calib_labels = np.isin(calib_labels, plankton_classes_list)\n",
    "test_preds = np.isin(test_preds, plankton_classes_list)\n",
    "test_labels = np.isin(test_labels, plankton_classes_list)\n",
    "\n",
    "# Count number of each unique class\n",
    "calib_uq, calib_uq_counts = np.unique(calib_labels, return_counts=True)\n",
    "calib_uq_freq = calib_uq_counts/calib_uq_counts.sum()\n",
    "calib_uq_sort = np.argsort(calib_uq_freq)[::-1]\n",
    "calib_uq_freq = calib_uq_freq[calib_uq_sort]; calib_uq = calib_uq[calib_uq_sort];\n",
    "calib_uq_cumsum = np.cumsum(calib_uq_freq)\n",
    "\n",
    "print(f\"Calib acc: {(calib_preds == calib_labels).astype(int).mean()}\")\n",
    "print(f\"Test acc: {(test_preds == test_labels).astype(int).mean()}\")"
   ]
  },
  {
   "cell_type": "code",
   "execution_count": 9,
   "id": "7c7d91ae",
   "metadata": {
    "execution": {
     "iopub.execute_input": "2023-01-10T22:44:37.693255Z",
     "iopub.status.busy": "2023-01-10T22:44:37.693000Z",
     "iopub.status.idle": "2023-01-10T22:44:37.697284Z",
     "shell.execute_reply": "2023-01-10T22:44:37.696612Z"
    }
   },
   "outputs": [],
   "source": [
    "# Problem setup\n",
    "alpha = 0.05 # Total budget\n",
    "delta = 0.048 # Rectifier budget\n",
    "K = 2\n",
    "nu = np.array([0,1])\n",
    "n_max = calib_preds.shape[0]\n",
    "ns = np.linspace(1000, n_max, 20).astype(int)\n",
    "num_trials = 50"
   ]
  },
  {
   "cell_type": "markdown",
   "id": "03d334aa",
   "metadata": {},
   "source": [
    "## Interval constructions"
   ]
  },
  {
   "cell_type": "code",
   "execution_count": 10,
   "id": "b9a9f295",
   "metadata": {
    "execution": {
     "iopub.execute_input": "2023-01-10T22:44:37.701722Z",
     "iopub.status.busy": "2023-01-10T22:44:37.701510Z",
     "iopub.status.idle": "2023-01-10T22:44:37.705666Z",
     "shell.execute_reply": "2023-01-10T22:44:37.704970Z"
    }
   },
   "outputs": [],
   "source": [
    "def form_qfhat(test_preds):\n",
    "    # Construct the point estimate\n",
    "    target_uq, target_uq_counts = np.unique(test_preds, return_counts=True)\n",
    "    target_uq_freq = target_uq_counts/target_uq_counts.sum()\n",
    "    target_uq_sort = np.argsort(target_uq_freq)[::-1]\n",
    "    target_uq_freq = target_uq_freq[target_uq_sort]; target_uq = target_uq[target_uq_sort];\n",
    "    qfhat = target_uq_freq\n",
    "    return qfhat"
   ]
  },
  {
   "cell_type": "code",
   "execution_count": 11,
   "id": "6cd8166b",
   "metadata": {
    "execution": {
     "iopub.execute_input": "2023-01-10T22:44:37.710217Z",
     "iopub.status.busy": "2023-01-10T22:44:37.709964Z",
     "iopub.status.idle": "2023-01-10T22:44:37.714638Z",
     "shell.execute_reply": "2023-01-10T22:44:37.713985Z"
    }
   },
   "outputs": [],
   "source": [
    "def imputed(test_preds, alpha, delta):\n",
    "    N = test_preds.shape[0]\n",
    "    grid = np.linspace(0.01,0.99,1000)\n",
    "    qfhat = form_qfhat(test_preds)\n",
    "    naive_freq_interval = binomial_iid(N,delta,qfhat[1])\n",
    "    naive_count_lb = int(binom.ppf((alpha-delta)/2, N, naive_freq_interval[0]))\n",
    "    naive_count_ub = int(binom.ppf(1-(alpha-delta)/2, N, naive_freq_interval[1]))\n",
    "    return [naive_count_lb, naive_count_ub]"
   ]
  },
  {
   "cell_type": "code",
   "execution_count": 12,
   "id": "28f28b5c",
   "metadata": {
    "execution": {
     "iopub.execute_input": "2023-01-10T22:44:37.718950Z",
     "iopub.status.busy": "2023-01-10T22:44:37.718681Z",
     "iopub.status.idle": "2023-01-10T22:44:37.724048Z",
     "shell.execute_reply": "2023-01-10T22:44:37.723585Z"
    }
   },
   "outputs": [],
   "source": [
    "def ppi_iid(calib_preds, test_preds, calib_labels, alpha, delta):\n",
    "    N = test_preds.shape[0]\n",
    "    qfhat = form_qfhat(test_preds)\n",
    "\n",
    "    bias_estimate = (calib_preds.astype(float) - calib_labels.astype(float)).mean()\n",
    "    grid = np.linspace(0.45,0.55,1000)\n",
    "    possible_biases = bias_estimate + 2*wsr_iid((calib_preds.astype(float) - calib_labels.astype(float)+1)/2, delta, grid, intersection=False)-1\n",
    "    naive_freq_interval = binomial_iid(N,(alpha-delta)/2,qfhat[1])\n",
    "    iid_lb = naive_freq_interval[0]+ possible_biases.min()\n",
    "    iid_ub = naive_freq_interval[1] + possible_biases.max()\n",
    "    iid_count_lb = int(binom.ppf((alpha-delta)/4, N, iid_lb))\n",
    "    iid_count_ub = int(binom.ppf(1-(alpha-delta)/4, N, iid_ub))\n",
    "    return [iid_count_lb, iid_count_ub]"
   ]
  },
  {
   "cell_type": "code",
   "execution_count": 13,
   "id": "5cb82c35",
   "metadata": {
    "execution": {
     "iopub.execute_input": "2023-01-10T22:44:37.728537Z",
     "iopub.status.busy": "2023-01-10T22:44:37.728308Z",
     "iopub.status.idle": "2023-01-10T22:44:37.737713Z",
     "shell.execute_reply": "2023-01-10T22:44:37.736980Z"
    }
   },
   "outputs": [],
   "source": [
    "def ppi_label_shift(calib_preds, test_preds, calib_labels, K, alpha, delta):\n",
    "    # Construct the confusion matrix\n",
    "    n = calib_preds.shape[0]\n",
    "    N = test_preds.shape[0]\n",
    "\n",
    "    # Construct column-normalized confusion matrix Ahat\n",
    "    C = np.zeros((K,K)).astype(int)\n",
    "    for j in range(K):\n",
    "        for l in range(K):\n",
    "            C[j,l] = np.bitwise_and(calib_preds == j,calib_labels == l).astype(int).sum()\n",
    "    Ahat = C / C.sum(axis=0)\n",
    "    # Invert Ahat\n",
    "    Ahatinv = np.linalg.inv(Ahat)\n",
    "    qfhat = form_qfhat(test_preds)\n",
    "    # Calculate the bound\n",
    "    point_estimate = nu@Ahatinv@qfhat\n",
    "\n",
    "    nmin = C.sum(axis=0).min()\n",
    "\n",
    "    def invert_theta(theta): return np.sqrt(1/(4*nmin))*(norm.ppf(1-(theta*delta)/(2*K**2)) - norm.ppf((theta*delta)/(2*K**2))) - np.sqrt(2/N*np.log(2/((1-theta)*delta)))\n",
    "    try:\n",
    "        theta = brentq(invert_theta,1e-9,1-1e-9)\n",
    "    except:\n",
    "        theta = 0.999\n",
    "    epsilon1 = max([linfty_binom(C.sum(axis=0)[k], K, theta*delta, Ahat[:,k]) for k in range(K)])\n",
    "    epsilon2 = linfty_dkw(N,K,(1-theta)*delta)\n",
    "\n",
    "    qyhat_lb = np.clip(point_estimate - epsilon1 - epsilon2, 0, 1)\n",
    "    qyhat_ub = np.clip(point_estimate + epsilon1 + epsilon2, 0, 1)\n",
    "\n",
    "    count_plankton_lb = int(binom.ppf((alpha-delta)/2, N, qyhat_lb))\n",
    "    count_plankton_ub = int(binom.ppf(1-(alpha-delta)/2, N, qyhat_ub))\n",
    "    return [count_plankton_lb, count_plankton_ub]"
   ]
  },
  {
   "cell_type": "markdown",
   "id": "161c61fe",
   "metadata": {},
   "source": [
    "## Perform Monte-Carlo experiment to see width of intervals"
   ]
  },
  {
   "cell_type": "code",
   "execution_count": 37,
   "id": "e43c7ff4",
   "metadata": {
    "execution": {
     "iopub.execute_input": "2023-01-10T22:44:37.742114Z",
     "iopub.status.busy": "2023-01-10T22:44:37.741846Z",
     "iopub.status.idle": "2023-01-11T00:00:57.566615Z",
     "shell.execute_reply": "2023-01-11T00:00:57.565758Z"
    }
   },
   "outputs": [
    {
     "name": "stderr",
     "output_type": "stream",
     "text": [
      "  0%|                                                                                                           | 0/20 [00:02<?, ?it/s]\n"
     ]
    },
    {
     "ename": "KeyboardInterrupt",
     "evalue": "",
     "output_type": "error",
     "traceback": [
      "\u001b[0;31m---------------------------------------------------------------------------\u001b[0m",
      "\u001b[0;31mKeyboardInterrupt\u001b[0m                         Traceback (most recent call last)",
      "Input \u001b[0;32mIn [37]\u001b[0m, in \u001b[0;36m<cell line: 8>\u001b[0;34m()\u001b[0m\n\u001b[1;32m     13\u001b[0m _calib_labels \u001b[38;5;241m=\u001b[39m calib_labels[randidx[:n]]\n\u001b[1;32m     14\u001b[0m \u001b[38;5;66;03m# Without label shift\u001b[39;00m\n\u001b[0;32m---> 15\u001b[0m _ppi_iid \u001b[38;5;241m=\u001b[39m \u001b[43mppi_iid\u001b[49m\u001b[43m(\u001b[49m\u001b[43m_calib_preds\u001b[49m\u001b[43m,\u001b[49m\u001b[43m \u001b[49m\u001b[43mtest_preds\u001b[49m\u001b[43m,\u001b[49m\u001b[43m \u001b[49m\u001b[43m_calib_labels\u001b[49m\u001b[43m,\u001b[49m\u001b[43m \u001b[49m\u001b[43malpha\u001b[49m\u001b[43m,\u001b[49m\u001b[43m \u001b[49m\u001b[43mdelta\u001b[49m\u001b[43m)\u001b[49m\n\u001b[1;32m     16\u001b[0m \u001b[38;5;66;03m# With label shift\u001b[39;00m\n\u001b[1;32m     17\u001b[0m _ppi_ls \u001b[38;5;241m=\u001b[39m ppi_label_shift(_calib_preds, test_preds, _calib_labels, K, alpha, delta)\n",
      "Input \u001b[0;32mIn [12]\u001b[0m, in \u001b[0;36mppi_iid\u001b[0;34m(calib_preds, test_preds, calib_labels, alpha, delta)\u001b[0m\n\u001b[1;32m      5\u001b[0m bias_estimate \u001b[38;5;241m=\u001b[39m (calib_preds\u001b[38;5;241m.\u001b[39mastype(\u001b[38;5;28mfloat\u001b[39m) \u001b[38;5;241m-\u001b[39m calib_labels\u001b[38;5;241m.\u001b[39mastype(\u001b[38;5;28mfloat\u001b[39m))\u001b[38;5;241m.\u001b[39mmean()\n\u001b[1;32m      6\u001b[0m grid \u001b[38;5;241m=\u001b[39m np\u001b[38;5;241m.\u001b[39mlinspace(\u001b[38;5;241m0.45\u001b[39m,\u001b[38;5;241m0.55\u001b[39m,\u001b[38;5;241m1000\u001b[39m)\n\u001b[0;32m----> 7\u001b[0m possible_biases \u001b[38;5;241m=\u001b[39m bias_estimate \u001b[38;5;241m+\u001b[39m \u001b[38;5;241m2\u001b[39m\u001b[38;5;241m*\u001b[39m\u001b[43mwsr_iid\u001b[49m\u001b[43m(\u001b[49m\u001b[43m(\u001b[49m\u001b[43mcalib_preds\u001b[49m\u001b[38;5;241;43m.\u001b[39;49m\u001b[43mastype\u001b[49m\u001b[43m(\u001b[49m\u001b[38;5;28;43mfloat\u001b[39;49m\u001b[43m)\u001b[49m\u001b[43m \u001b[49m\u001b[38;5;241;43m-\u001b[39;49m\u001b[43m \u001b[49m\u001b[43mcalib_labels\u001b[49m\u001b[38;5;241;43m.\u001b[39;49m\u001b[43mastype\u001b[49m\u001b[43m(\u001b[49m\u001b[38;5;28;43mfloat\u001b[39;49m\u001b[43m)\u001b[49m\u001b[38;5;241;43m+\u001b[39;49m\u001b[38;5;241;43m1\u001b[39;49m\u001b[43m)\u001b[49m\u001b[38;5;241;43m/\u001b[39;49m\u001b[38;5;241;43m2\u001b[39;49m\u001b[43m,\u001b[49m\u001b[43m \u001b[49m\u001b[43mdelta\u001b[49m\u001b[43m,\u001b[49m\u001b[43m \u001b[49m\u001b[43mgrid\u001b[49m\u001b[43m,\u001b[49m\u001b[43m \u001b[49m\u001b[43mintersection\u001b[49m\u001b[38;5;241;43m=\u001b[39;49m\u001b[38;5;28;43;01mFalse\u001b[39;49;00m\u001b[43m)\u001b[49m\u001b[38;5;241m-\u001b[39m\u001b[38;5;241m1\u001b[39m\n\u001b[1;32m      8\u001b[0m naive_freq_interval \u001b[38;5;241m=\u001b[39m binomial_iid(N,(alpha\u001b[38;5;241m-\u001b[39mdelta)\u001b[38;5;241m/\u001b[39m\u001b[38;5;241m2\u001b[39m,qfhat[\u001b[38;5;241m1\u001b[39m])\n\u001b[1;32m      9\u001b[0m iid_lb \u001b[38;5;241m=\u001b[39m naive_freq_interval[\u001b[38;5;241m0\u001b[39m]\u001b[38;5;241m+\u001b[39m possible_biases\u001b[38;5;241m.\u001b[39mmin()\n",
      "File \u001b[0;32m~/Code/prediction-powered-inference/plankton/../ppi.py:56\u001b[0m, in \u001b[0;36mwsr_iid\u001b[0;34m(x_n, alpha, grid, num_cpus, parallelize, intersection, theta, c)\u001b[0m\n\u001b[1;32m     54\u001b[0m found_lb \u001b[38;5;241m=\u001b[39m \u001b[38;5;28;01mFalse\u001b[39;00m\n\u001b[1;32m     55\u001b[0m \u001b[38;5;28;01mfor\u001b[39;00m m_idx, m \u001b[38;5;129;01min\u001b[39;00m \u001b[38;5;28menumerate\u001b[39m(grid):\n\u001b[0;32m---> 56\u001b[0m     m_n \u001b[38;5;241m=\u001b[39m \u001b[43mM\u001b[49m\u001b[43m(\u001b[49m\u001b[43mm\u001b[49m\u001b[43m)\u001b[49m\n\u001b[1;32m     57\u001b[0m     indicators_gxn[m_idx] \u001b[38;5;241m=\u001b[39m m_n \u001b[38;5;241m<\u001b[39m \u001b[38;5;241m1\u001b[39m \u001b[38;5;241m/\u001b[39m alpha\n\u001b[1;32m     58\u001b[0m     \u001b[38;5;28;01mif\u001b[39;00m \u001b[38;5;129;01mnot\u001b[39;00m found_lb \u001b[38;5;129;01mand\u001b[39;00m np\u001b[38;5;241m.\u001b[39mprod(indicators_gxn[m_idx]):\n",
      "File \u001b[0;32m~/Code/prediction-powered-inference/plankton/../ppi.py:45\u001b[0m, in \u001b[0;36mwsr_iid.<locals>.M\u001b[0;34m(m)\u001b[0m\n\u001b[1;32m     41\u001b[0m lambdaplus_n \u001b[38;5;241m=\u001b[39m np\u001b[38;5;241m.\u001b[39mminimum(lambda_n, c \u001b[38;5;241m/\u001b[39m m)\n\u001b[1;32m     42\u001b[0m lambdaminus_n \u001b[38;5;241m=\u001b[39m np\u001b[38;5;241m.\u001b[39mminimum(lambda_n, c \u001b[38;5;241m/\u001b[39m (\u001b[38;5;241m1\u001b[39m \u001b[38;5;241m-\u001b[39m m))\n\u001b[1;32m     43\u001b[0m \u001b[38;5;28;01mreturn\u001b[39;00m np\u001b[38;5;241m.\u001b[39mmaximum(\n\u001b[1;32m     44\u001b[0m     theta \u001b[38;5;241m*\u001b[39m np\u001b[38;5;241m.\u001b[39mexp(np\u001b[38;5;241m.\u001b[39mcumsum(np\u001b[38;5;241m.\u001b[39mlog(\u001b[38;5;241m1\u001b[39m \u001b[38;5;241m+\u001b[39m lambdaplus_n \u001b[38;5;241m*\u001b[39m (x_n \u001b[38;5;241m-\u001b[39m m)))),\n\u001b[0;32m---> 45\u001b[0m     (\u001b[38;5;241m1\u001b[39m \u001b[38;5;241m-\u001b[39m theta) \u001b[38;5;241m*\u001b[39m np\u001b[38;5;241m.\u001b[39mexp(np\u001b[38;5;241m.\u001b[39mcumsum(\u001b[43mnp\u001b[49m\u001b[38;5;241;43m.\u001b[39;49m\u001b[43mlog\u001b[49m\u001b[43m(\u001b[49m\u001b[38;5;241;43m1\u001b[39;49m\u001b[43m \u001b[49m\u001b[38;5;241;43m-\u001b[39;49m\u001b[43m \u001b[49m\u001b[43mlambdaminus_n\u001b[49m\u001b[43m \u001b[49m\u001b[38;5;241;43m*\u001b[39;49m\u001b[43m \u001b[49m\u001b[43m(\u001b[49m\u001b[43mx_n\u001b[49m\u001b[43m \u001b[49m\u001b[38;5;241;43m-\u001b[39;49m\u001b[43m \u001b[49m\u001b[43mm\u001b[49m\u001b[43m)\u001b[49m\u001b[43m)\u001b[49m))\n\u001b[1;32m     46\u001b[0m )\n",
      "\u001b[0;31mKeyboardInterrupt\u001b[0m: "
     ]
    }
   ],
   "source": [
    "columns = [\"lb\",\"ub\",\"covered\",\"estimator\",\"n\"]\n",
    "import warnings\n",
    "\n",
    "#suppress warnings\n",
    "warnings.filterwarnings('ignore') # Filter RuntimeWarninggs about exp overflow.\n",
    "\n",
    "results = []\n",
    "for j in tqdm(range(ns.shape[0])):\n",
    "    for i in range(num_trials):\n",
    "        n = ns[j]\n",
    "        randidx = np.random.permutation(n_max)\n",
    "        _calib_preds = calib_preds[randidx[:n]]\n",
    "        _calib_labels = calib_labels[randidx[:n]]\n",
    "        # Without label shift\n",
    "        _ppi_iid = ppi_iid(_calib_preds, test_preds, _calib_labels, alpha, delta)\n",
    "        # With label shift\n",
    "        _ppi_ls = ppi_label_shift(_calib_preds, test_preds, _calib_labels, K, alpha, delta)\n",
    "        temp_df = pd.DataFrame(np.zeros((2,len(columns))), columns=columns)\n",
    "        temp_df.loc[0] = _ppi_iid[0], _ppi_iid[1], (_ppi_iid[0] <= true_count) & (true_count <= _ppi_iid[1]), \"prediction-powered (i.i.d.)\", n\n",
    "        temp_df.loc[1] = _ppi_ls[0], _ppi_ls[1], (_ppi_ls[0] <= true_count) & (true_count <= _ppi_ls[1]), \"prediction-powered (label shift)\", n\n",
    "        results += [temp_df]\n",
    "# Naive\n",
    "_ii = imputed(test_preds, alpha, delta)\n",
    "temp_df = pd.DataFrame(np.zeros((1,len(columns))), columns=columns)\n",
    "temp_df.loc[0] = _ii[0], _ii[1], (_ii[0] <= true_count) & (true_count <= _ii[1]), \"naive\", n_max\n",
    "results += [temp_df]\n",
    "\n",
    "df = pd.concat(results)\n",
    "df[\"width\"] = df[\"ub\"] - df[\"lb\"]\n",
    "\n",
    "os.makedirs('./.cache', exist_ok=True)\n",
    "df.to_pickle('./.cache/plankton-results.pkl')"
   ]
  },
  {
   "cell_type": "markdown",
   "id": "c1afc3e8",
   "metadata": {},
   "source": [
    "## Plotting"
   ]
  },
  {
   "cell_type": "code",
   "execution_count": 26,
   "id": "f94c5d20",
   "metadata": {
    "execution": {
     "iopub.execute_input": "2023-01-11T00:00:57.572487Z",
     "iopub.status.busy": "2023-01-11T00:00:57.572182Z",
     "iopub.status.idle": "2023-01-11T00:00:57.586775Z",
     "shell.execute_reply": "2023-01-11T00:00:57.586065Z"
    }
   },
   "outputs": [],
   "source": [
    "def make_plots(df, true, num_intervals):\n",
    "    # Line plots\n",
    "    ns = np.sort(np.unique(df[\"n\"]))\n",
    "\n",
    "    fig, axs = plt.subplots(nrows=1,ncols=3,figsize=(9,3))\n",
    "    sns.set_theme(style=\"white\", font_scale=1, font=\"DejaVu Sans\")\n",
    "\n",
    "    make_lineplots(df, axs[2])\n",
    "\n",
    "    sns.despine(ax=axs[1],top=True,right=True,left=True)\n",
    "    ns = np.unique(df['n']).astype(int)\n",
    "    n_idx = 8\n",
    "    num_trials = (len(df)-1)//(2*ns.shape[0])\n",
    "    linewidth = 5\n",
    "    linewidth_modifier = 1.1\n",
    "    offset = 0.25\n",
    "    ylim = [0,1.15]\n",
    "    xlim = [None, None]\n",
    "    \n",
    "    pp_intervals = []\n",
    "    classical_intervals = []\n",
    "    \n",
    "    lower_endpoints = np.stack(\n",
    "        [\n",
    "            np.stack([df.lb[(df.estimator == \"prediction-powered (label shift)\") & (df.n == n)] for n in ns], axis=0),\n",
    "            np.stack([df.lb[(df.estimator == \"prediction-powered (i.i.d.)\") & (df.n == n)] for n in ns], axis=0),\n",
    "        ],\n",
    "        axis=2\n",
    "    )\n",
    "\n",
    "    upper_endpoints = np.stack(\n",
    "        [\n",
    "            np.stack([df.ub[(df.estimator == \"prediction-powered (label shift)\") & (df.n == n)] for n in ns], axis=0),\n",
    "            np.stack([df.ub[(df.estimator == \"prediction-powered (i.i.d.)\") & (df.n == n)] for n in ns], axis=0),\n",
    "        ],\n",
    "        axis=2\n",
    "    )\n",
    "    \n",
    "    imputed_interval = [df.lb[(df.estimator == \"naive\")].item(), df.ub[(df.estimator == \"naive\")].item()]\n",
    "    \n",
    "    for i in range(num_intervals):\n",
    "        trial_idx = np.random.choice(num_trials)\n",
    "\n",
    "        pp_intervals += [\n",
    "            [lower_endpoints[n_idx,trial_idx,0], upper_endpoints[n_idx,trial_idx,0]]\n",
    "        ]\n",
    "\n",
    "        classical_intervals += [\n",
    "            [lower_endpoints[n_idx,trial_idx,1], upper_endpoints[n_idx,trial_idx,1]]\n",
    "        ]\n",
    "\n",
    "    axs[1].axvline(true, ymin=0.0, ymax=1, linestyle=\"dotted\", linewidth=3, label=\"true deforestation fraction\", color=\"#F7AE7C\")\n",
    "\n",
    "    for i in reversed(range(num_intervals)):\n",
    "        pp_interval = pp_intervals[i]\n",
    "        classical_interval = classical_intervals[i]\n",
    "\n",
    "        if i == 0:\n",
    "            axs[1].plot([pp_interval[0], pp_interval[1]],[0.7, 0.7], linewidth=linewidth, color=\"#DAF3DA\", path_effects=[pe.Stroke(linewidth=linewidth * linewidth_modifier, offset=(-offset,0), foreground=\"#71D26F\"), pe.Stroke(linewidth=linewidth * linewidth_modifier, offset=(offset,0), foreground=\"#71D26F\"), pe.Normal()], label=' prediction-powered (label shift)', solid_capstyle=\"butt\")\n",
    "            axs[1].plot([classical_interval[0], classical_interval[1]],[0.25,0.25], linewidth=linewidth, color=\"#EEEDED\", path_effects=[pe.Stroke(linewidth=linewidth * linewidth_modifier, offset=(-offset,0), foreground=\"#BFB9B9\"), pe.Stroke(linewidth=linewidth * linewidth_modifier, offset=(offset,0), foreground=\"#BFB9B9\"), pe.Normal()], label=' prediction-powered (i.i.d.)', solid_capstyle=\"butt\")\n",
    "            axs[1].plot([imputed_interval[0], imputed_interval[1]],[0.1, 0.1], linewidth=linewidth, color=\"#FFEACC\", path_effects=[pe.Stroke(linewidth=linewidth * linewidth_modifier, offset=(-offset,0), foreground=\"#FFCD82\"), pe.Stroke(linewidth=linewidth * linewidth_modifier, offset=(offset,0), foreground=\"#FFCD82\"), pe.Normal()], label=' imputed', solid_capstyle=\"butt\")\n",
    "        else:\n",
    "            lighten_factor = 0.8/np.sqrt(i)\n",
    "            yshift = i*0.07\n",
    "            axs[1].plot([pp_interval[0], pp_interval[1]],[0.7 + yshift, 0.7 + yshift], linewidth=linewidth, color=lighten_color(\"#DAF3DA\", lighten_factor), path_effects=[pe.Stroke(linewidth=linewidth * linewidth_modifier, offset=(-offset,0), foreground=lighten_color(\"#71D26F\", lighten_factor)), pe.Stroke(linewidth=linewidth * linewidth_modifier, offset=(offset,0), foreground=lighten_color(\"#71D26F\", lighten_factor)), pe.Normal()], solid_capstyle=\"butt\")\n",
    "            axs[1].plot([classical_interval[0], classical_interval[1]],[0.25 + yshift,0.25 + yshift], linewidth=linewidth, color=lighten_color(\"#EEEDED\", lighten_factor), path_effects=[pe.Stroke(linewidth=linewidth * linewidth_modifier, offset=(-offset,0), foreground=lighten_color(\"#BFB9B9\", lighten_factor)), pe.Stroke(linewidth=linewidth * linewidth_modifier, offset=(offset,0), foreground=lighten_color(\"#BFB9B9\", lighten_factor)), pe.Normal()], solid_capstyle=\"butt\")\n",
    "\n",
    "\n",
    "    axs[1].set_xlabel(\"# plankton\", labelpad=10)\n",
    "    axs[1].set_yticks([])\n",
    "    axs[1].set_yticklabels([])\n",
    "    axs[1].set_ylim(ylim)\n",
    "    axs[1].set_xlim(xlim)\n",
    "    \n",
    "    axs[0].set_axis_off()\n",
    "    plt.tight_layout()\n",
    "    \n",
    "    axs[2].plot(ns, upper_endpoints.mean(axis=1)[:,0]-lower_endpoints.mean(axis=1)[:,0], label=\"prediction-powered\", color=\"#71D26F\", linewidth=3)\n",
    "    num_scatter = 3\n",
    "    rand_idx_scatter = [np.random.choice(num_trials, size=num_scatter).astype(int) for n in ns]\n",
    "\n",
    "    scatter_xs = np.concatenate([np.concatenate([[ns[j]] * num_trials])[rand_idx_scatter[j]] for j in range(ns.shape[0])])\n",
    "    scatter_ys = np.concatenate([upper_endpoints[j,:,0][rand_idx_scatter[j]].flatten() - lower_endpoints[j,:,0][rand_idx_scatter[j]].flatten() for j in range(ns.shape[0])])\n",
    "    axs[2].scatter(\n",
    "        scatter_xs,\n",
    "        scatter_ys,\n",
    "        color=\"#71D26F\",\n",
    "        alpha=0.5\n",
    "    )\n",
    "\n",
    "    axs[2].plot(ns, upper_endpoints.mean(axis=1)[:,1]-lower_endpoints.mean(axis=1)[:,1], label=\"classical\", color=\"#BFB9B9\", linewidth=3)\n",
    "    scatter_xs = np.concatenate([np.concatenate([[ns[j]] * num_trials])[rand_idx_scatter[j]] for j in range(ns.shape[0])])\n",
    "    scatter_ys = np.concatenate([upper_endpoints[j,:,1][rand_idx_scatter[j]].flatten() - lower_endpoints[j,:,1][rand_idx_scatter[j]].flatten() for j in range(ns.shape[0])])\n",
    "    axs[2].scatter(\n",
    "        scatter_xs,\n",
    "        scatter_ys,\n",
    "        color=\"#BFB9B9\",\n",
    "        alpha=0.5\n",
    "    )\n",
    "\n",
    "    axs[2].locator_params(axis='y', tight=None, nbins=6)\n",
    "    axs[2].set_ylabel(\"width\")\n",
    "    axs[2].set_xlabel(\"n\",  labelpad=10)\n",
    "    sns.despine(ax=axs[2],top=True, right=True)\n",
    "    \n",
    "    os.makedirs('./plankton-results/', exist_ok=True)\n",
    "    plt.savefig('./plankton-results/results.pdf', bbox_inches='tight')\n",
    "\n",
    "def lighten_color(color, amount=0.5):\n",
    "    \"\"\"\n",
    "    Lightens the given color by multiplying (1-luminosity) by the given amount.\n",
    "    Input can be matplotlib color string, hex string, or RGB tuple.\n",
    "\n",
    "    Examples:\n",
    "    >> lighten_color('g', 0.3)\n",
    "    >> lighten_color('#F034A3', 0.6)\n",
    "    >> lighten_color((.3,.55,.1), 0.5)\n",
    "    \"\"\"\n",
    "    import matplotlib.colors as mc\n",
    "    import colorsys\n",
    "    try:\n",
    "        c = mc.cnames[color]\n",
    "    except:\n",
    "        c = color\n",
    "    c = colorsys.rgb_to_hls(*mc.to_rgb(c))\n",
    "    return colorsys.hls_to_rgb(c[0], 1 - amount * (1 - c[1]), c[2])\n"
   ]
  },
  {
   "cell_type": "code",
   "execution_count": 27,
   "id": "acdd33b3",
   "metadata": {
    "execution": {
     "iopub.execute_input": "2023-01-11T00:00:57.590820Z",
     "iopub.status.busy": "2023-01-11T00:00:57.590595Z",
     "iopub.status.idle": "2023-01-11T00:00:58.328411Z",
     "shell.execute_reply": "2023-01-11T00:00:58.327527Z"
    }
   },
   "outputs": [
    {
     "name": "stderr",
     "output_type": "stream",
     "text": [
      "/tmp/ipykernel_348817/3285911941.py:20: UserWarning: The palette list has more values (3) than needed (2), which may not be intended.\n",
      "  lplt = sns.lineplot(data=plot_df[plot_df[\"estimator\"] != \"naive\"], x=\"n\", y=\"width\", hue=\"estimator\", ax=ax, hue_order=[\"prediction-powered (label shift)\", \"prediction-powered (i.i.d.)\"], palette=[\"#71D26F\", \"#BFB9B9\", \"#FFCD82\"])\n",
      "/tmp/ipykernel_348817/3285911941.py:21: UserWarning: Ignoring `palette` because no `hue` variable has been assigned.\n",
      "  sns.scatterplot(data=plot_df[plot_df[\"estimator\"] == \"prediction-powered (label shift))\"], x=\"n\", y=\"width\", hue=\"estimator\", ax=ax, hue_order=[\"prediction-powered (label shift)\"], palette=[\"#71D26F\"])\n"
     ]
    },
    {
     "data": {
      "image/png": "[encoded data removed]",
      "text/plain": [
       "<Figure size 900x300 with 3 Axes>"
      ]
     },
     "metadata": {},
     "output_type": "display_data"
    }
   ],
   "source": [
    "df = pd.read_pickle('./.cache/plankton-results.pkl')\n",
    "num_intervals = 10\n",
    "make_plots(df, true_count, num_intervals)"
   ]
  }
 ],
 "metadata": {
  "kernelspec": {
   "display_name": "Python 3 (ipykernel)",
   "language": "python",
   "name": "python3"
  },
  "language_info": {
   "codemirror_mode": {
    "name": "ipython",
    "version": 3
   },
   "file_extension": ".py",
   "mimetype": "text/x-python",
   "name": "python",
   "nbconvert_exporter": "python",
   "pygments_lexer": "ipython3",
   "version": "3.9.13"
  }
 },
 "nbformat": 4,
 "nbformat_minor": 5
}
