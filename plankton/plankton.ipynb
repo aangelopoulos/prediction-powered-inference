{
 "cells": [
  {
   "cell_type": "code",
   "execution_count": 9,
   "id": "52ebc498",
   "metadata": {},
   "outputs": [],
   "source": [
    "import os, time, copy\n",
    "import numpy as np\n",
    "import matplotlib.pyplot as plt\n",
    "from tqdm import tqdm\n",
    "from utils import get_train_val_split"
   ]
  },
  {
   "cell_type": "code",
   "execution_count": 39,
   "id": "541f1b53",
   "metadata": {},
   "outputs": [],
   "source": [
    "# Get data 2006-2014 from the following link: https://darchive.mblwhoilibrary.org/handle/1912/7341\n",
    "# Unzip and merge the datasets in the following directory\n",
    "data = np.load('./test-outputs.npz')\n",
    "n = 100000\n",
    "shuffle_idx = np.array([1,]*n + [0,]*(data['preds'].shape[0]-n)).astype(bool)\n",
    "np.random.shuffle(shuffle_idx)\n",
    "val_preds = data['preds'][shuffle_idx]\n",
    "val_labels = data['labels'][shuffle_idx]\n",
    "test_preds = data['preds'][np.bitwise_not(shuffle_idx)]\n",
    "test_labels = data['labels'][np.bitwise_not(shuffle_idx)]\n",
    "classes = np.load('./classes.npy')"
   ]
  },
  {
   "cell_type": "code",
   "execution_count": 50,
   "id": "7c7d91ae",
   "metadata": {},
   "outputs": [],
   "source": [
    "# Convert to binary\n",
    "plankton_classes = np.array(np.where(np.isin(classes,['mix','mix_elongated','detritus','bad'],invert=True))[0])\n",
    "val_preds = np.isin(val_preds, plankton_classes)\n",
    "val_labels = np.isin(val_labels, plankton_classes)\n",
    "test_preds = np.isin(test_preds, plankton_classes)\n",
    "test_labels = np.isin(test_labels, plankton_classes)"
   ]
  },
  {
   "cell_type": "code",
   "execution_count": 51,
   "id": "6619048d",
   "metadata": {},
   "outputs": [
    {
     "data": {
      "text/plain": [
       "0.9668888579484145"
      ]
     },
     "execution_count": 51,
     "metadata": {},
     "output_type": "execute_result"
    }
   ],
   "source": []
  }
 ],
 "metadata": {
  "kernelspec": {
   "display_name": "Python 3 (ipykernel)",
   "language": "python",
   "name": "python3"
  },
  "language_info": {
   "codemirror_mode": {
    "name": "ipython",
    "version": 3
   },
   "file_extension": ".py",
   "mimetype": "text/x-python",
   "name": "python",
   "nbconvert_exporter": "python",
   "pygments_lexer": "ipython3",
   "version": "3.9.13"
  }
 },
 "nbformat": 4,
 "nbformat_minor": 5
}
