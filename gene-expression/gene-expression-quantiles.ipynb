{
 "cells": [
  {
   "cell_type": "code",
   "execution_count": 23,
   "id": "d2299bfe",
   "metadata": {},
   "outputs": [],
   "source": [
    "import os, sys\n",
    "sys.path.insert(1, '../')\n",
    "\n",
    "from importlib import reload\n",
    "from tqdm import tqdm\n",
    "from time import time\n",
    "\n",
    "import numpy as np\n",
    "import pandas as pd\n",
    "\n",
    "import utils\n",
    "\n",
    "import matplotlib\n",
    "import matplotlib.patheffects as pe\n",
    "import matplotlib.pyplot as plt\n",
    "import seaborn as sns"
   ]
  },
  {
   "cell_type": "code",
   "execution_count": 2,
   "id": "d52596a0",
   "metadata": {
    "scrolled": false
   },
   "outputs": [
    {
     "data": {
      "text/html": [
       "<div>\n",
       "<style scoped>\n",
       "    .dataframe tbody tr th:only-of-type {\n",
       "        vertical-align: middle;\n",
       "    }\n",
       "\n",
       "    .dataframe tbody tr th {\n",
       "        vertical-align: top;\n",
       "    }\n",
       "\n",
       "    .dataframe thead th {\n",
       "        text-align: right;\n",
       "    }\n",
       "</style>\n",
       "<table border=\"1\" class=\"dataframe\">\n",
       "  <thead>\n",
       "    <tr style=\"text-align: right;\">\n",
       "      <th></th>\n",
       "      <th>sequence</th>\n",
       "      <th>measured</th>\n",
       "      <th>predicted</th>\n",
       "    </tr>\n",
       "    <tr>\n",
       "      <th>index</th>\n",
       "      <th></th>\n",
       "      <th></th>\n",
       "      <th></th>\n",
       "    </tr>\n",
       "  </thead>\n",
       "  <tbody>\n",
       "    <tr>\n",
       "      <th>0</th>\n",
       "      <td>TGCATTTTTTTCACATCAAAAAAAAAAAAAAAAAAAAAAACTAGCA...</td>\n",
       "      <td>11.825806</td>\n",
       "      <td>11.353749</td>\n",
       "    </tr>\n",
       "    <tr>\n",
       "      <th>1</th>\n",
       "      <td>TGCATTTTTTTCACATCAAAAAAAAAAAAAAAATTTAAAGAATTTC...</td>\n",
       "      <td>11.412778</td>\n",
       "      <td>9.643128</td>\n",
       "    </tr>\n",
       "    <tr>\n",
       "      <th>2</th>\n",
       "      <td>TGCATTTTTTTCACATCAAAAAAAAGGACGTTCCACACTTGGCTGC...</td>\n",
       "      <td>10.623805</td>\n",
       "      <td>11.864820</td>\n",
       "    </tr>\n",
       "    <tr>\n",
       "      <th>3</th>\n",
       "      <td>TGCATTTTTTTCACATCAAAATCCGTGTAATACCAAGTCATCCTCA...</td>\n",
       "      <td>7.703389</td>\n",
       "      <td>8.650239</td>\n",
       "    </tr>\n",
       "    <tr>\n",
       "      <th>4</th>\n",
       "      <td>TGCATTTTTTTCACATCAGAAAAAAAGTATAATGTCAGATTTTTGT...</td>\n",
       "      <td>11.397473</td>\n",
       "      <td>13.881278</td>\n",
       "    </tr>\n",
       "    <tr>\n",
       "      <th>...</th>\n",
       "      <td>...</td>\n",
       "      <td>...</td>\n",
       "      <td>...</td>\n",
       "    </tr>\n",
       "    <tr>\n",
       "      <th>61145</th>\n",
       "      <td>TGCATTTTTTTCACATCAGAAAAAAAAAAAAAAAAAAAAAAAGAAA...</td>\n",
       "      <td>14.220082</td>\n",
       "      <td>12.520042</td>\n",
       "    </tr>\n",
       "    <tr>\n",
       "      <th>61146</th>\n",
       "      <td>TGCATTTTTTTCACATCAGAAAAAAAAAAAAGAGGAGACTTGAAGA...</td>\n",
       "      <td>6.978840</td>\n",
       "      <td>7.298204</td>\n",
       "    </tr>\n",
       "    <tr>\n",
       "      <th>61147</th>\n",
       "      <td>TGCATTTTTTTCACATCAGAAAAAAAAAAGGGATTGGGCGGTAATG...</td>\n",
       "      <td>3.917299</td>\n",
       "      <td>8.096985</td>\n",
       "    </tr>\n",
       "    <tr>\n",
       "      <th>61148</th>\n",
       "      <td>TGCATTTTTTTCACATCAGAAAAAAAAAATTCTCGGCACGCAAGAC...</td>\n",
       "      <td>16.012221</td>\n",
       "      <td>15.247513</td>\n",
       "    </tr>\n",
       "    <tr>\n",
       "      <th>61149</th>\n",
       "      <td>TGCATTTTTTTCACATCAGAAAAAAAGATCGATGGGACGACTCGCG...</td>\n",
       "      <td>14.126017</td>\n",
       "      <td>13.991074</td>\n",
       "    </tr>\n",
       "  </tbody>\n",
       "</table>\n",
       "<p>61150 rows × 3 columns</p>\n",
       "</div>"
      ],
      "text/plain": [
       "                                                sequence   measured  predicted\n",
       "index                                                                         \n",
       "0      TGCATTTTTTTCACATCAAAAAAAAAAAAAAAAAAAAAAACTAGCA...  11.825806  11.353749\n",
       "1      TGCATTTTTTTCACATCAAAAAAAAAAAAAAAATTTAAAGAATTTC...  11.412778   9.643128\n",
       "2      TGCATTTTTTTCACATCAAAAAAAAGGACGTTCCACACTTGGCTGC...  10.623805  11.864820\n",
       "3      TGCATTTTTTTCACATCAAAATCCGTGTAATACCAAGTCATCCTCA...   7.703389   8.650239\n",
       "4      TGCATTTTTTTCACATCAGAAAAAAAGTATAATGTCAGATTTTTGT...  11.397473  13.881278\n",
       "...                                                  ...        ...        ...\n",
       "61145  TGCATTTTTTTCACATCAGAAAAAAAAAAAAAAAAAAAAAAAGAAA...  14.220082  12.520042\n",
       "61146  TGCATTTTTTTCACATCAGAAAAAAAAAAAAGAGGAGACTTGAAGA...   6.978840   7.298204\n",
       "61147  TGCATTTTTTTCACATCAGAAAAAAAAAAGGGATTGGGCGGTAATG...   3.917299   8.096985\n",
       "61148  TGCATTTTTTTCACATCAGAAAAAAAAAATTCTCGGCACGCAAGAC...  16.012221  15.247513\n",
       "61149  TGCATTTTTTTCACATCAGAAAAAAAGATCGATGGGACGACTCGCG...  14.126017  13.991074\n",
       "\n",
       "[61150 rows x 3 columns]"
      ]
     },
     "execution_count": 2,
     "metadata": {},
     "output_type": "execute_result"
    }
   ],
   "source": [
    "native_df = pd.read_csv('Native_allchunks_test_tpu_model.csv', index_col=0)\n",
    "native_df"
   ]
  },
  {
   "cell_type": "code",
   "execution_count": 39,
   "id": "68f1541b",
   "metadata": {
    "scrolled": true
   },
   "outputs": [
    {
     "name": "stderr",
     "output_type": "stream",
     "text": [
      "100%|██████████| 1000/1000 [07:32<00:00,  2.21it/s]\n"
     ]
    },
    {
     "name": "stdout",
     "output_type": "stream",
     "text": [
      "n = 2000, q = 0.25\n",
      "  avg. classical width: 0.24, avg. PP width: 0.19\n",
      "  avg. classical cov: 0.90, avg. PP cov: 0.89\n"
     ]
    },
    {
     "name": "stderr",
     "output_type": "stream",
     "text": [
      "100%|██████████| 1000/1000 [07:19<00:00,  2.27it/s]\n"
     ]
    },
    {
     "name": "stdout",
     "output_type": "stream",
     "text": [
      "n = 1327, q = 0.25\n",
      "  avg. classical width: 0.29, avg. PP width: 0.24\n",
      "  avg. classical cov: 0.91, avg. PP cov: 0.89\n"
     ]
    },
    {
     "name": "stderr",
     "output_type": "stream",
     "text": [
      "100%|██████████| 1000/1000 [07:10<00:00,  2.32it/s]\n"
     ]
    },
    {
     "name": "stdout",
     "output_type": "stream",
     "text": [
      "n = 881, q = 0.25\n",
      "  avg. classical width: 0.36, avg. PP width: 0.29\n",
      "  avg. classical cov: 0.91, avg. PP cov: 0.90\n"
     ]
    },
    {
     "name": "stderr",
     "output_type": "stream",
     "text": [
      "100%|██████████| 1000/1000 [07:01<00:00,  2.37it/s]\n"
     ]
    },
    {
     "name": "stdout",
     "output_type": "stream",
     "text": [
      "n = 584, q = 0.25\n",
      "  avg. classical width: 0.45, avg. PP width: 0.37\n",
      "  avg. classical cov: 0.91, avg. PP cov: 0.92\n"
     ]
    },
    {
     "name": "stderr",
     "output_type": "stream",
     "text": [
      "100%|██████████| 1000/1000 [06:48<00:00,  2.45it/s]\n"
     ]
    },
    {
     "name": "stdout",
     "output_type": "stream",
     "text": [
      "n = 388, q = 0.25\n",
      "  avg. classical width: 0.54, avg. PP width: 0.45\n",
      "  avg. classical cov: 0.91, avg. PP cov: 0.93\n"
     ]
    },
    {
     "name": "stderr",
     "output_type": "stream",
     "text": [
      "100%|██████████| 1000/1000 [06:44<00:00,  2.47it/s]\n"
     ]
    },
    {
     "name": "stdout",
     "output_type": "stream",
     "text": [
      "n = 257, q = 0.25\n",
      "  avg. classical width: 0.68, avg. PP width: 0.56\n",
      "  avg. classical cov: 0.91, avg. PP cov: 0.91\n"
     ]
    },
    {
     "name": "stderr",
     "output_type": "stream",
     "text": [
      "100%|██████████| 1000/1000 [06:38<00:00,  2.51it/s]\n"
     ]
    },
    {
     "name": "stdout",
     "output_type": "stream",
     "text": [
      "n = 170, q = 0.25\n",
      "  avg. classical width: 0.86, avg. PP width: 0.72\n",
      "  avg. classical cov: 0.92, avg. PP cov: 0.93\n"
     ]
    },
    {
     "name": "stderr",
     "output_type": "stream",
     "text": [
      "100%|██████████| 1000/1000 [06:22<00:00,  2.61it/s]\n"
     ]
    },
    {
     "name": "stdout",
     "output_type": "stream",
     "text": [
      "n = 113, q = 0.25\n",
      "  avg. classical width: 1.03, avg. PP width: 0.89\n",
      "  avg. classical cov: 0.92, avg. PP cov: 0.94\n"
     ]
    },
    {
     "name": "stderr",
     "output_type": "stream",
     "text": [
      "100%|██████████| 1000/1000 [06:10<00:00,  2.70it/s]\n"
     ]
    },
    {
     "name": "stdout",
     "output_type": "stream",
     "text": [
      "n = 75, q = 0.25\n",
      "  avg. classical width: 1.34, avg. PP width: 1.13\n",
      "  avg. classical cov: 0.90, avg. PP cov: 0.94\n"
     ]
    },
    {
     "name": "stderr",
     "output_type": "stream",
     "text": [
      "100%|██████████| 1000/1000 [06:07<00:00,  2.72it/s]\n"
     ]
    },
    {
     "name": "stdout",
     "output_type": "stream",
     "text": [
      "n = 49, q = 0.25\n",
      "  avg. classical width: 1.79, avg. PP width: 1.40\n",
      "  avg. classical cov: 0.92, avg. PP cov: 0.94\n"
     ]
    },
    {
     "name": "stderr",
     "output_type": "stream",
     "text": [
      "100%|██████████| 1000/1000 [07:10<00:00,  2.32it/s]\n"
     ]
    },
    {
     "name": "stdout",
     "output_type": "stream",
     "text": [
      "n = 2000, q = 0.5\n",
      "  avg. classical width: 0.56, avg. PP width: 0.31\n",
      "  avg. classical cov: 0.89, avg. PP cov: 0.90\n"
     ]
    },
    {
     "name": "stderr",
     "output_type": "stream",
     "text": [
      "100%|██████████| 1000/1000 [07:03<00:00,  2.36it/s]\n"
     ]
    },
    {
     "name": "stdout",
     "output_type": "stream",
     "text": [
      "n = 1327, q = 0.5\n",
      "  avg. classical width: 0.69, avg. PP width: 0.37\n",
      "  avg. classical cov: 0.91, avg. PP cov: 0.90\n"
     ]
    },
    {
     "name": "stderr",
     "output_type": "stream",
     "text": [
      "100%|██████████| 1000/1000 [07:08<00:00,  2.33it/s]\n"
     ]
    },
    {
     "name": "stdout",
     "output_type": "stream",
     "text": [
      "n = 881, q = 0.5\n",
      "  avg. classical width: 0.85, avg. PP width: 0.46\n",
      "  avg. classical cov: 0.90, avg. PP cov: 0.92\n"
     ]
    },
    {
     "name": "stderr",
     "output_type": "stream",
     "text": [
      "100%|██████████| 1000/1000 [07:01<00:00,  2.37it/s]\n"
     ]
    },
    {
     "name": "stdout",
     "output_type": "stream",
     "text": [
      "n = 584, q = 0.5\n",
      "  avg. classical width: 1.05, avg. PP width: 0.57\n",
      "  avg. classical cov: 0.92, avg. PP cov: 0.91\n"
     ]
    },
    {
     "name": "stderr",
     "output_type": "stream",
     "text": [
      "100%|██████████| 1000/1000 [06:53<00:00,  2.42it/s]\n"
     ]
    },
    {
     "name": "stdout",
     "output_type": "stream",
     "text": [
      "n = 388, q = 0.5\n",
      "  avg. classical width: 1.30, avg. PP width: 0.72\n",
      "  avg. classical cov: 0.92, avg. PP cov: 0.93\n"
     ]
    },
    {
     "name": "stderr",
     "output_type": "stream",
     "text": [
      "100%|██████████| 1000/1000 [06:49<00:00,  2.44it/s]\n"
     ]
    },
    {
     "name": "stdout",
     "output_type": "stream",
     "text": [
      "n = 257, q = 0.5\n",
      "  avg. classical width: 1.61, avg. PP width: 0.89\n",
      "  avg. classical cov: 0.92, avg. PP cov: 0.93\n"
     ]
    },
    {
     "name": "stderr",
     "output_type": "stream",
     "text": [
      "100%|██████████| 1000/1000 [06:42<00:00,  2.49it/s]\n"
     ]
    },
    {
     "name": "stdout",
     "output_type": "stream",
     "text": [
      "n = 170, q = 0.5\n",
      "  avg. classical width: 2.03, avg. PP width: 1.11\n",
      "  avg. classical cov: 0.90, avg. PP cov: 0.95\n"
     ]
    },
    {
     "name": "stderr",
     "output_type": "stream",
     "text": [
      "100%|██████████| 1000/1000 [06:29<00:00,  2.57it/s]\n"
     ]
    },
    {
     "name": "stdout",
     "output_type": "stream",
     "text": [
      "n = 113, q = 0.5\n",
      "  avg. classical width: 2.46, avg. PP width: 1.45\n",
      "  avg. classical cov: 0.91, avg. PP cov: 0.95\n"
     ]
    },
    {
     "name": "stderr",
     "output_type": "stream",
     "text": [
      "100%|██████████| 1000/1000 [06:12<00:00,  2.69it/s]\n"
     ]
    },
    {
     "name": "stdout",
     "output_type": "stream",
     "text": [
      "n = 75, q = 0.5\n",
      "  avg. classical width: 2.98, avg. PP width: 1.86\n",
      "  avg. classical cov: 0.91, avg. PP cov: 0.95\n"
     ]
    },
    {
     "name": "stderr",
     "output_type": "stream",
     "text": [
      "100%|██████████| 1000/1000 [06:06<00:00,  2.73it/s]\n"
     ]
    },
    {
     "name": "stdout",
     "output_type": "stream",
     "text": [
      "n = 49, q = 0.5\n",
      "  avg. classical width: 3.72, avg. PP width: 2.46\n",
      "  avg. classical cov: 0.90, avg. PP cov: 0.96\n"
     ]
    },
    {
     "name": "stderr",
     "output_type": "stream",
     "text": [
      "100%|██████████| 1000/1000 [07:09<00:00,  2.33it/s]\n"
     ]
    },
    {
     "name": "stdout",
     "output_type": "stream",
     "text": [
      "n = 2000, q = 0.75\n",
      "  avg. classical width: 0.61, avg. PP width: 0.36\n",
      "  avg. classical cov: 0.92, avg. PP cov: 0.92\n"
     ]
    },
    {
     "name": "stderr",
     "output_type": "stream",
     "text": [
      "100%|██████████| 1000/1000 [07:01<00:00,  2.37it/s]\n"
     ]
    },
    {
     "name": "stdout",
     "output_type": "stream",
     "text": [
      "n = 1327, q = 0.75\n",
      "  avg. classical width: 0.76, avg. PP width: 0.45\n",
      "  avg. classical cov: 0.92, avg. PP cov: 0.94\n"
     ]
    },
    {
     "name": "stderr",
     "output_type": "stream",
     "text": [
      "100%|██████████| 1000/1000 [06:58<00:00,  2.39it/s]\n"
     ]
    },
    {
     "name": "stdout",
     "output_type": "stream",
     "text": [
      "n = 881, q = 0.75\n",
      "  avg. classical width: 0.95, avg. PP width: 0.54\n",
      "  avg. classical cov: 0.92, avg. PP cov: 0.91\n"
     ]
    },
    {
     "name": "stderr",
     "output_type": "stream",
     "text": [
      "100%|██████████| 1000/1000 [06:49<00:00,  2.44it/s]\n"
     ]
    },
    {
     "name": "stdout",
     "output_type": "stream",
     "text": [
      "n = 584, q = 0.75\n",
      "  avg. classical width: 1.16, avg. PP width: 0.67\n",
      "  avg. classical cov: 0.91, avg. PP cov: 0.92\n"
     ]
    },
    {
     "name": "stderr",
     "output_type": "stream",
     "text": [
      "100%|██████████| 1000/1000 [06:41<00:00,  2.49it/s]\n"
     ]
    },
    {
     "name": "stdout",
     "output_type": "stream",
     "text": [
      "n = 388, q = 0.75\n",
      "  avg. classical width: 1.40, avg. PP width: 0.82\n",
      "  avg. classical cov: 0.90, avg. PP cov: 0.91\n"
     ]
    },
    {
     "name": "stderr",
     "output_type": "stream",
     "text": [
      "100%|██████████| 1000/1000 [06:38<00:00,  2.51it/s]\n"
     ]
    },
    {
     "name": "stdout",
     "output_type": "stream",
     "text": [
      "n = 257, q = 0.75\n",
      "  avg. classical width: 1.76, avg. PP width: 1.02\n",
      "  avg. classical cov: 0.92, avg. PP cov: 0.92\n"
     ]
    },
    {
     "name": "stderr",
     "output_type": "stream",
     "text": [
      "100%|██████████| 1000/1000 [06:45<00:00,  2.46it/s]\n"
     ]
    },
    {
     "name": "stdout",
     "output_type": "stream",
     "text": [
      "n = 170, q = 0.75\n",
      "  avg. classical width: 2.25, avg. PP width: 1.31\n",
      "  avg. classical cov: 0.90, avg. PP cov: 0.93\n"
     ]
    },
    {
     "name": "stderr",
     "output_type": "stream",
     "text": [
      "100%|██████████| 1000/1000 [06:40<00:00,  2.50it/s]\n"
     ]
    },
    {
     "name": "stdout",
     "output_type": "stream",
     "text": [
      "n = 113, q = 0.75\n",
      "  avg. classical width: 2.90, avg. PP width: 1.68\n",
      "  avg. classical cov: 0.91, avg. PP cov: 0.95\n"
     ]
    },
    {
     "name": "stderr",
     "output_type": "stream",
     "text": [
      "100%|██████████| 1000/1000 [06:31<00:00,  2.55it/s]\n"
     ]
    },
    {
     "name": "stdout",
     "output_type": "stream",
     "text": [
      "n = 75, q = 0.75\n",
      "  avg. classical width: 3.64, avg. PP width: 2.17\n",
      "  avg. classical cov: 0.94, avg. PP cov: 0.94\n"
     ]
    },
    {
     "name": "stderr",
     "output_type": "stream",
     "text": [
      "100%|██████████| 1000/1000 [06:26<00:00,  2.59it/s]\n"
     ]
    },
    {
     "name": "stdout",
     "output_type": "stream",
     "text": [
      "n = 49, q = 0.75\n",
      "  avg. classical width: 4.39, avg. PP width: 2.91\n",
      "  avg. classical cov: 0.93, avg. PP cov: 0.95\n"
     ]
    }
   ],
   "source": [
    "reload(utils)\n",
    "n_trial = 1000\n",
    "qs = [0.25, 0.5, 0.75]\n",
    "ns = np.logspace(np.log10(50), np.log10(2000), num=10, base=10).astype(int)[::-1]\n",
    "alpha = 0.1\n",
    "n_train = 5\n",
    "theta_grid_spacing = 0.01\n",
    "save = True\n",
    "save_fname = 'iid-clt-results-011722.csv'\n",
    "\n",
    "y_all = native_df.measured.to_numpy()\n",
    "f_all = native_df.predicted.to_numpy()\n",
    "\n",
    "columns = ['q', 'n', 'width', 'covered', 'estimator', 'lower', 'upper']\n",
    "results = []\n",
    "for q_idx, q in enumerate(qs):\n",
    "    for n_idx, n in enumerate(ns):\n",
    "        for _ in tqdm(range(n_trial)):\n",
    "            \n",
    "            q_true, ci_pp, ci_cl  = utils.get_quantile_intervals(\n",
    "                y_all, f_all, q, n, alpha, n_train=n_train, theta_grid_spacing=theta_grid_spacing\n",
    "            )\n",
    "            cov_cl = (ci_cl[0] <= q_true) & (ci_cl[1] >= q_true)\n",
    "            cov_pp = (ci_pp[0] <= q_true) & (ci_pp[1] >= q_true)\n",
    "            results.append([q, n, ci_pp[1] - ci_pp[0], int(cov_pp), 'prediction-powered', ci_pp[0], ci_pp[1]])\n",
    "            results.append([q, n, ci_cl[1] - ci_cl[0], int(cov_cl), 'classical', ci_cl[0], ci_cl[1]])\n",
    "            \n",
    "        df = pd.DataFrame(results, columns=columns)\n",
    "        if save:\n",
    "            df.to_csv(save_fname)\n",
    "        \n",
    "        print('n = {}, q = {}'.format(n, q))\n",
    "        print('  avg. classical width: {:.2f}, avg. PP width: {:.2f}'.format(\n",
    "            df.loc[(df.estimator == 'classical') & (df.n == n) & (df.q == q)].width.mean(),\n",
    "            df.loc[(df.estimator == 'prediction-powered') & (df.n == n) & (df.q == q)].width.mean()\n",
    "        ))\n",
    "        print('  avg. classical cov: {:.2f}, avg. PP cov: {:.2f}'.format(\n",
    "            df.loc[(df.estimator == 'classical') & (df.n == n) & (df.q == q)].covered.mean(),\n",
    "            df.loc[(df.estimator == 'prediction-powered') & (df.n == n) & (df.q == q)].covered.mean()\n",
    "        ))"
   ]
  },
  {
   "cell_type": "markdown",
   "id": "37f31e45",
   "metadata": {},
   "source": [
    "## plot comparison of interval widths"
   ]
  },
  {
   "cell_type": "code",
   "execution_count": 40,
   "id": "f6a41242",
   "metadata": {},
   "outputs": [
    {
     "data": {
      "text/html": [
       "<div>\n",
       "<style scoped>\n",
       "    .dataframe tbody tr th:only-of-type {\n",
       "        vertical-align: middle;\n",
       "    }\n",
       "\n",
       "    .dataframe tbody tr th {\n",
       "        vertical-align: top;\n",
       "    }\n",
       "\n",
       "    .dataframe thead th {\n",
       "        text-align: right;\n",
       "    }\n",
       "</style>\n",
       "<table border=\"1\" class=\"dataframe\">\n",
       "  <thead>\n",
       "    <tr style=\"text-align: right;\">\n",
       "      <th></th>\n",
       "      <th>q</th>\n",
       "      <th>n</th>\n",
       "      <th>width</th>\n",
       "      <th>covered</th>\n",
       "      <th>estimator</th>\n",
       "      <th>lower</th>\n",
       "      <th>upper</th>\n",
       "    </tr>\n",
       "  </thead>\n",
       "  <tbody>\n",
       "    <tr>\n",
       "      <th>0</th>\n",
       "      <td>0.25</td>\n",
       "      <td>2000</td>\n",
       "      <td>0.210000</td>\n",
       "      <td>1</td>\n",
       "      <td>prediction-powered</td>\n",
       "      <td>2.864698</td>\n",
       "      <td>3.074698</td>\n",
       "    </tr>\n",
       "    <tr>\n",
       "      <th>1</th>\n",
       "      <td>0.25</td>\n",
       "      <td>2000</td>\n",
       "      <td>0.211692</td>\n",
       "      <td>1</td>\n",
       "      <td>classical</td>\n",
       "      <td>2.772702</td>\n",
       "      <td>2.984394</td>\n",
       "    </tr>\n",
       "    <tr>\n",
       "      <th>2</th>\n",
       "      <td>0.25</td>\n",
       "      <td>2000</td>\n",
       "      <td>0.200000</td>\n",
       "      <td>1</td>\n",
       "      <td>prediction-powered</td>\n",
       "      <td>2.821820</td>\n",
       "      <td>3.021820</td>\n",
       "    </tr>\n",
       "    <tr>\n",
       "      <th>3</th>\n",
       "      <td>0.25</td>\n",
       "      <td>2000</td>\n",
       "      <td>0.208788</td>\n",
       "      <td>1</td>\n",
       "      <td>classical</td>\n",
       "      <td>2.819099</td>\n",
       "      <td>3.027887</td>\n",
       "    </tr>\n",
       "    <tr>\n",
       "      <th>4</th>\n",
       "      <td>0.25</td>\n",
       "      <td>2000</td>\n",
       "      <td>0.200000</td>\n",
       "      <td>1</td>\n",
       "      <td>prediction-powered</td>\n",
       "      <td>2.886392</td>\n",
       "      <td>3.086392</td>\n",
       "    </tr>\n",
       "    <tr>\n",
       "      <th>...</th>\n",
       "      <td>...</td>\n",
       "      <td>...</td>\n",
       "      <td>...</td>\n",
       "      <td>...</td>\n",
       "      <td>...</td>\n",
       "      <td>...</td>\n",
       "      <td>...</td>\n",
       "    </tr>\n",
       "    <tr>\n",
       "      <th>59995</th>\n",
       "      <td>0.75</td>\n",
       "      <td>49</td>\n",
       "      <td>5.476777</td>\n",
       "      <td>1</td>\n",
       "      <td>classical</td>\n",
       "      <td>6.037432</td>\n",
       "      <td>11.514209</td>\n",
       "    </tr>\n",
       "    <tr>\n",
       "      <th>59996</th>\n",
       "      <td>0.75</td>\n",
       "      <td>49</td>\n",
       "      <td>3.530000</td>\n",
       "      <td>1</td>\n",
       "      <td>prediction-powered</td>\n",
       "      <td>7.139431</td>\n",
       "      <td>10.669431</td>\n",
       "    </tr>\n",
       "    <tr>\n",
       "      <th>59997</th>\n",
       "      <td>0.75</td>\n",
       "      <td>49</td>\n",
       "      <td>4.606437</td>\n",
       "      <td>1</td>\n",
       "      <td>classical</td>\n",
       "      <td>6.740266</td>\n",
       "      <td>11.346702</td>\n",
       "    </tr>\n",
       "    <tr>\n",
       "      <th>59998</th>\n",
       "      <td>0.75</td>\n",
       "      <td>49</td>\n",
       "      <td>3.580000</td>\n",
       "      <td>1</td>\n",
       "      <td>prediction-powered</td>\n",
       "      <td>9.124217</td>\n",
       "      <td>12.704217</td>\n",
       "    </tr>\n",
       "    <tr>\n",
       "      <th>59999</th>\n",
       "      <td>0.75</td>\n",
       "      <td>49</td>\n",
       "      <td>6.727348</td>\n",
       "      <td>1</td>\n",
       "      <td>classical</td>\n",
       "      <td>7.542527</td>\n",
       "      <td>14.269875</td>\n",
       "    </tr>\n",
       "  </tbody>\n",
       "</table>\n",
       "<p>60000 rows × 7 columns</p>\n",
       "</div>"
      ],
      "text/plain": [
       "          q     n     width  covered           estimator     lower      upper\n",
       "0      0.25  2000  0.210000        1  prediction-powered  2.864698   3.074698\n",
       "1      0.25  2000  0.211692        1           classical  2.772702   2.984394\n",
       "2      0.25  2000  0.200000        1  prediction-powered  2.821820   3.021820\n",
       "3      0.25  2000  0.208788        1           classical  2.819099   3.027887\n",
       "4      0.25  2000  0.200000        1  prediction-powered  2.886392   3.086392\n",
       "...     ...   ...       ...      ...                 ...       ...        ...\n",
       "59995  0.75    49  5.476777        1           classical  6.037432  11.514209\n",
       "59996  0.75    49  3.530000        1  prediction-powered  7.139431  10.669431\n",
       "59997  0.75    49  4.606437        1           classical  6.740266  11.346702\n",
       "59998  0.75    49  3.580000        1  prediction-powered  9.124217  12.704217\n",
       "59999  0.75    49  6.727348        1           classical  7.542527  14.269875\n",
       "\n",
       "[60000 rows x 7 columns]"
      ]
     },
     "execution_count": 40,
     "metadata": {},
     "output_type": "execute_result"
    }
   ],
   "source": [
    "df = pd.read_csv('iid-clt-results-011722.csv', index_col=0)\n",
    "df"
   ]
  },
  {
   "cell_type": "code",
   "execution_count": 42,
   "id": "bde28e83",
   "metadata": {},
   "outputs": [
    {
     "data": {
      "image/png": "[encoded data removed]",
      "text/plain": [
       "<Figure size 800x200 with 2 Axes>"
      ]
     },
     "metadata": {},
     "output_type": "display_data"
    }
   ],
   "source": [
    "save = True\n",
    "n_to_plot = 75\n",
    "plot_df = df.loc[(df.q == 0.5) & (df.n == n_to_plot)]\n",
    "c_cl, c_pp = \"#BFB9B9\", \"#71D26F\"\n",
    "ns = np.logspace(np.log10(50), np.log10(2000), num=10, base=10).astype(int)\n",
    "ns_xticks = [50, 100, 200, 500, 1000, 2000]\n",
    "ns_xticklabels = [50, 100, 200, 500, '1k', '2k']\n",
    "\n",
    "fig, axs = plt.subplots(1, 2, figsize=(8, 2))\n",
    "for q, ls in zip([0.25, 0.5, 0.75], [':', '-', '--']):\n",
    "    dfqn = df.loc[df.q == q]\n",
    "    wcl_n = np.array(\n",
    "        [dfqn.loc[(dfqn.n == n) & (dfqn.estimator == 'classical')].width.mean()for n in ns])\n",
    "    wpp_n = np.array(\n",
    "        [dfqn.loc[(dfqn.n == n) & (dfqn.estimator == 'prediction-powered')].width.mean()for n in ns])\n",
    "    axs[0].plot(\n",
    "        ns, wpp_n,\n",
    "        label='prediction-powered' if q == 0.5 else None,\n",
    "        alpha=0.9 if q > 0.25 else 1, linestyle=ls, c=c_pp)\n",
    "    axs[0].plot(\n",
    "        ns, wcl_n,\n",
    "        label='classical' if q == 0.5 else None,\n",
    "        alpha=0.9 if q > 0.25 else 1, linestyle=ls, c=c_cl)\n",
    "    \n",
    "axs[0].set_xscale('log')\n",
    "axs[0].set_xticks(ns_xticks)\n",
    "axs[0].get_xaxis().set_major_formatter(matplotlib.ticker.ScalarFormatter())\n",
    "axs[0].set_xticklabels(ns_xticklabels)\n",
    "axs[0].set_xlabel('n');\n",
    "axs[0].set_ylabel('width (expression level)')\n",
    "axs[0].legend();\n",
    "sns.despine(ax=axs[0],top=True,right=True)\n",
    "\n",
    "my_palette = sns.color_palette([c_pp, c_cl], 2)\n",
    "sns.set_theme(style=\"white\", palette=my_palette)\n",
    "kde = sns.kdeplot(\n",
    "    plot_df, x=\"width\", hue=\"estimator\", hue_order=[\"prediction-powered\", \"classical\"],\n",
    "    fill=True, ax=axs[1])\n",
    "kde.get_legend().remove()\n",
    "sns.despine(ax=axs[1],top=True,right=True,left=True)\n",
    "axs[1].set_xlabel(\"width (expression level)\")\n",
    "axs[1].set_ylabel('')\n",
    "axs[1].set_yticks([])\n",
    "axs[1].set_yticklabels([])\n",
    "axs[1].set_title('n = {}, q = 0.5'.format(n_to_plot));\n",
    "if save:\n",
    "    plt.savefig('figures/widths.png', dpi=300, bbox_inches='tight')\n",
    "plt.show()"
   ]
  },
  {
   "cell_type": "markdown",
   "id": "e789781c",
   "metadata": {},
   "source": [
    "## plot example set of intervals"
   ]
  },
  {
   "cell_type": "code",
   "execution_count": 45,
   "id": "af4b9283",
   "metadata": {},
   "outputs": [
    {
     "name": "stderr",
     "output_type": "stream",
     "text": [
      "/home/clarafy/anaconda3/envs/tf-gpu/lib/python3.7/site-packages/ipykernel_launcher.py:66: MatplotlibDeprecationWarning: savefig() got unexpected keyword argument \"ppi\" which is no longer supported as of 3.3 and will become an error in 3.6\n"
     ]
    },
    {
     "data": {
      "image/png": "[encoded data removed]",
      "text/plain": [
       "<Figure size 640x480 with 1 Axes>"
      ]
     },
     "metadata": {},
     "output_type": "display_data"
    }
   ],
   "source": [
    "q = 0.5\n",
    "n = 75\n",
    "tmp = df.loc[(df.q == q) & (df.n == n)]\n",
    "cl_df = tmp[1::2]\n",
    "pp_df = tmp[0::2]\n",
    "trial = 222\n",
    "save = True\n",
    "\n",
    "# true median gene expression\n",
    "data_df = pd.read_csv('Native_allchunks_test_tpu_model.csv', index_col=0)\n",
    "theta_star = np.quantile(data_df.measured, 0.5)\n",
    "\n",
    "# construct naive confidence interval\n",
    "f_all = data_df.predicted.to_numpy()\n",
    "f_all = 20 * (f_all - np.min(f_all)) / (np.max(f_all) - np.min(f_all))\n",
    "ci_naive = utils.get_classical_ci(f_all, 0.5, 0.1)\n",
    "\n",
    "ci_pp = [pp_df.iloc[trial].lower, pp_df.iloc[trial].upper]\n",
    "ci_cl = [cl_df.iloc[trial].lower, cl_df.iloc[trial].upper]\n",
    "\n",
    "plt.figure(figsize=(6.4,4.8))\n",
    "plt.plot(\n",
    "    ci_pp,[0.3, 0.3],\n",
    "    linewidth=20, color=\"#DAF3DA\", solid_capstyle='butt',\n",
    "    path_effects=[\n",
    "        pe.Stroke(linewidth=22, offset=(-1, 0), foreground=\"#71D26F\"),\n",
    "        pe.Stroke(linewidth=22, offset=(1, 0), foreground=\"#71D26F\"),\n",
    "        pe.Normal()\n",
    "    ],\n",
    "    label=' prediction-powered'\n",
    ")\n",
    "plt.plot(\n",
    "    ci_cl, [0.2, 0.2],\n",
    "    linewidth=20, color=\"#EEEDED\",\n",
    "    solid_capstyle='butt',\n",
    "    path_effects=[\n",
    "        pe.Stroke(linewidth=22, offset=(-1, 0), foreground=\"#BFB9B9\"),\n",
    "        pe.Stroke(linewidth=22, offset=(1, 0), foreground=\"#BFB9B9\"),\n",
    "        pe.Normal()\n",
    "    ],\n",
    "    label=' no ML'\n",
    ")\n",
    "plt.plot(\n",
    "    ci_naive, [0.1, 0.1],\n",
    "    linewidth=20, color=\"#FFEACC\", \n",
    "    solid_capstyle='butt',\n",
    "    path_effects=[\n",
    "        pe.Stroke(linewidth=22, offset=(-1, 0), foreground=\"#FFCD82\"),\n",
    "        pe.Stroke(linewidth=22, offset=(1, 0), foreground=\"#FFCD82\"),\n",
    "        pe.Normal()\n",
    "    ],\n",
    "    label=' naive ML'\n",
    ")\n",
    "plt.plot(\n",
    "    [theta_star, theta_star], [0, 0.4], linestyle='--', dashes=(2, 1), linewidth=2,\n",
    "    label=\"true median\", color=\"#FFCD82\"\n",
    ")\n",
    "plt.xlabel(\"expression level\", fontsize=20)\n",
    "plt.yticks([], labels=[])\n",
    "plt.xticks(range(4, 10), fontsize=20)\n",
    "plt.ylim([0,1])\n",
    "leg = plt.legend(fontsize=20, borderpad=1, labelspacing = 0.75, bbox_to_anchor=[1.1,0.5])\n",
    "sns.despine(ax=plt.gca(),top=True,right=True,left=True)\n",
    "\n",
    "if save:\n",
    "    plt.savefig('./figures/intervals.pdf', ppi=300, bbox_inches='tight')\n",
    "plt.show()"
   ]
  }
 ],
 "metadata": {
  "kernelspec": {
   "display_name": "TensorFlow-GPU-2.1.0",
   "language": "python",
   "name": "tf-gpu"
  },
  "language_info": {
   "codemirror_mode": {
    "name": "ipython",
    "version": 3
   },
   "file_extension": ".py",
   "mimetype": "text/x-python",
   "name": "python",
   "nbconvert_exporter": "python",
   "pygments_lexer": "ipython3",
   "version": "3.7.15"
  }
 },
 "nbformat": 4,
 "nbformat_minor": 5
}
