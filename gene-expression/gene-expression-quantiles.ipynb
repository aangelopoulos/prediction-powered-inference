{
 "cells": [
  {
   "cell_type": "code",
   "execution_count": 23,
   "id": "d2299bfe",
   "metadata": {},
   "outputs": [],
   "source": [
    "import os, sys\n",
    "sys.path.insert(1, '../')\n",
    "\n",
    "from importlib import reload\n",
    "from tqdm import tqdm\n",
    "from time import time\n",
    "\n",
    "import numpy as np\n",
    "import pandas as pd\n",
    "\n",
    "import utils\n",
    "\n",
    "import matplotlib\n",
    "import matplotlib.patheffects as pe\n",
    "import matplotlib.pyplot as plt\n",
    "import seaborn as sns"
   ]
  },
  {
   "cell_type": "code",
   "execution_count": 2,
   "id": "d52596a0",
   "metadata": {
    "scrolled": false
   },
   "outputs": [
    {
     "data": {
      "text/html": [
       "<div>\n",
       "<style scoped>\n",
       "    .dataframe tbody tr th:only-of-type {\n",
       "        vertical-align: middle;\n",
       "    }\n",
       "\n",
       "    .dataframe tbody tr th {\n",
       "        vertical-align: top;\n",
       "    }\n",
       "\n",
       "    .dataframe thead th {\n",
       "        text-align: right;\n",
       "    }\n",
       "</style>\n",
       "<table border=\"1\" class=\"dataframe\">\n",
       "  <thead>\n",
       "    <tr style=\"text-align: right;\">\n",
       "      <th></th>\n",
       "      <th>sequence</th>\n",
       "      <th>measured</th>\n",
       "      <th>predicted</th>\n",
       "    </tr>\n",
       "    <tr>\n",
       "      <th>index</th>\n",
       "      <th></th>\n",
       "      <th></th>\n",
       "      <th></th>\n",
       "    </tr>\n",
       "  </thead>\n",
       "  <tbody>\n",
       "    <tr>\n",
       "      <th>0</th>\n",
       "      <td>TGCATTTTTTTCACATCAAAAAAAAAAAAAAAAAAAAAAACTAGCA...</td>\n",
       "      <td>11.825806</td>\n",
       "      <td>11.353749</td>\n",
       "    </tr>\n",
       "    <tr>\n",
       "      <th>1</th>\n",
       "      <td>TGCATTTTTTTCACATCAAAAAAAAAAAAAAAATTTAAAGAATTTC...</td>\n",
       "      <td>11.412778</td>\n",
       "      <td>9.643128</td>\n",
       "    </tr>\n",
       "    <tr>\n",
       "      <th>2</th>\n",
       "      <td>TGCATTTTTTTCACATCAAAAAAAAGGACGTTCCACACTTGGCTGC...</td>\n",
       "      <td>10.623805</td>\n",
       "      <td>11.864820</td>\n",
       "    </tr>\n",
       "    <tr>\n",
       "      <th>3</th>\n",
       "      <td>TGCATTTTTTTCACATCAAAATCCGTGTAATACCAAGTCATCCTCA...</td>\n",
       "      <td>7.703389</td>\n",
       "      <td>8.650239</td>\n",
       "    </tr>\n",
       "    <tr>\n",
       "      <th>4</th>\n",
       "      <td>TGCATTTTTTTCACATCAGAAAAAAAGTATAATGTCAGATTTTTGT...</td>\n",
       "      <td>11.397473</td>\n",
       "      <td>13.881278</td>\n",
       "    </tr>\n",
       "    <tr>\n",
       "      <th>...</th>\n",
       "      <td>...</td>\n",
       "      <td>...</td>\n",
       "      <td>...</td>\n",
       "    </tr>\n",
       "    <tr>\n",
       "      <th>61145</th>\n",
       "      <td>TGCATTTTTTTCACATCAGAAAAAAAAAAAAAAAAAAAAAAAGAAA...</td>\n",
       "      <td>14.220082</td>\n",
       "      <td>12.520042</td>\n",
       "    </tr>\n",
       "    <tr>\n",
       "      <th>61146</th>\n",
       "      <td>TGCATTTTTTTCACATCAGAAAAAAAAAAAAGAGGAGACTTGAAGA...</td>\n",
       "      <td>6.978840</td>\n",
       "      <td>7.298204</td>\n",
       "    </tr>\n",
       "    <tr>\n",
       "      <th>61147</th>\n",
       "      <td>TGCATTTTTTTCACATCAGAAAAAAAAAAGGGATTGGGCGGTAATG...</td>\n",
       "      <td>3.917299</td>\n",
       "      <td>8.096985</td>\n",
       "    </tr>\n",
       "    <tr>\n",
       "      <th>61148</th>\n",
       "      <td>TGCATTTTTTTCACATCAGAAAAAAAAAATTCTCGGCACGCAAGAC...</td>\n",
       "      <td>16.012221</td>\n",
       "      <td>15.247513</td>\n",
       "    </tr>\n",
       "    <tr>\n",
       "      <th>61149</th>\n",
       "      <td>TGCATTTTTTTCACATCAGAAAAAAAGATCGATGGGACGACTCGCG...</td>\n",
       "      <td>14.126017</td>\n",
       "      <td>13.991074</td>\n",
       "    </tr>\n",
       "  </tbody>\n",
       "</table>\n",
       "<p>61150 rows × 3 columns</p>\n",
       "</div>"
      ],
      "text/plain": [
       "                                                sequence   measured  predicted\n",
       "index                                                                         \n",
       "0      TGCATTTTTTTCACATCAAAAAAAAAAAAAAAAAAAAAAACTAGCA...  11.825806  11.353749\n",
       "1      TGCATTTTTTTCACATCAAAAAAAAAAAAAAAATTTAAAGAATTTC...  11.412778   9.643128\n",
       "2      TGCATTTTTTTCACATCAAAAAAAAGGACGTTCCACACTTGGCTGC...  10.623805  11.864820\n",
       "3      TGCATTTTTTTCACATCAAAATCCGTGTAATACCAAGTCATCCTCA...   7.703389   8.650239\n",
       "4      TGCATTTTTTTCACATCAGAAAAAAAGTATAATGTCAGATTTTTGT...  11.397473  13.881278\n",
       "...                                                  ...        ...        ...\n",
       "61145  TGCATTTTTTTCACATCAGAAAAAAAAAAAAAAAAAAAAAAAGAAA...  14.220082  12.520042\n",
       "61146  TGCATTTTTTTCACATCAGAAAAAAAAAAAAGAGGAGACTTGAAGA...   6.978840   7.298204\n",
       "61147  TGCATTTTTTTCACATCAGAAAAAAAAAAGGGATTGGGCGGTAATG...   3.917299   8.096985\n",
       "61148  TGCATTTTTTTCACATCAGAAAAAAAAAATTCTCGGCACGCAAGAC...  16.012221  15.247513\n",
       "61149  TGCATTTTTTTCACATCAGAAAAAAAGATCGATGGGACGACTCGCG...  14.126017  13.991074\n",
       "\n",
       "[61150 rows x 3 columns]"
      ]
     },
     "execution_count": 2,
     "metadata": {},
     "output_type": "execute_result"
    }
   ],
   "source": [
    "native_df = pd.read_csv('Native_allchunks_test_tpu_model.csv', index_col=0)\n",
    "native_df"
   ]
  },
  {
   "cell_type": "code",
   "execution_count": 20,
   "id": "68f1541b",
   "metadata": {
    "scrolled": true
   },
   "outputs": [
    {
     "name": "stderr",
     "output_type": "stream",
     "text": [
      "100%|██████████| 1000/1000 [01:08<00:00, 14.66it/s]\n"
     ]
    },
    {
     "name": "stdout",
     "output_type": "stream",
     "text": [
      "n = 49, q = 0.25\n",
      "  avg. classical width: 1.81, avg. PP width: 1.25\n",
      "  avg. classical cov: 0.93, avg. PP cov: 0.90\n"
     ]
    },
    {
     "name": "stderr",
     "output_type": "stream",
     "text": [
      "100%|██████████| 1000/1000 [01:11<00:00, 14.02it/s]\n"
     ]
    },
    {
     "name": "stdout",
     "output_type": "stream",
     "text": [
      "n = 75, q = 0.25\n",
      "  avg. classical width: 1.35, avg. PP width: 0.96\n",
      "  avg. classical cov: 0.94, avg. PP cov: 0.90\n"
     ]
    },
    {
     "name": "stderr",
     "output_type": "stream",
     "text": [
      "100%|██████████| 1000/1000 [01:13<00:00, 13.57it/s]\n"
     ]
    },
    {
     "name": "stdout",
     "output_type": "stream",
     "text": [
      "n = 113, q = 0.25\n",
      "  avg. classical width: 1.09, avg. PP width: 0.75\n",
      "  avg. classical cov: 0.92, avg. PP cov: 0.87\n"
     ]
    },
    {
     "name": "stderr",
     "output_type": "stream",
     "text": [
      "100%|██████████| 1000/1000 [01:12<00:00, 13.73it/s]\n"
     ]
    },
    {
     "name": "stdout",
     "output_type": "stream",
     "text": [
      "n = 170, q = 0.25\n",
      "  avg. classical width: 0.84, avg. PP width: 0.59\n",
      "  avg. classical cov: 0.91, avg. PP cov: 0.84\n"
     ]
    },
    {
     "name": "stderr",
     "output_type": "stream",
     "text": [
      "100%|██████████| 1000/1000 [01:14<00:00, 13.45it/s]\n"
     ]
    },
    {
     "name": "stdout",
     "output_type": "stream",
     "text": [
      "n = 257, q = 0.25\n",
      "  avg. classical width: 0.66, avg. PP width: 0.45\n",
      "  avg. classical cov: 0.90, avg. PP cov: 0.80\n"
     ]
    },
    {
     "name": "stderr",
     "output_type": "stream",
     "text": [
      "100%|██████████| 1000/1000 [01:14<00:00, 13.48it/s]\n"
     ]
    },
    {
     "name": "stdout",
     "output_type": "stream",
     "text": [
      "n = 388, q = 0.25\n",
      "  avg. classical width: 0.55, avg. PP width: 0.34\n",
      "  avg. classical cov: 0.91, avg. PP cov: 0.78\n"
     ]
    },
    {
     "name": "stderr",
     "output_type": "stream",
     "text": [
      "100%|██████████| 1000/1000 [01:15<00:00, 13.20it/s]\n"
     ]
    },
    {
     "name": "stdout",
     "output_type": "stream",
     "text": [
      "n = 584, q = 0.25\n",
      "  avg. classical width: 0.44, avg. PP width: 0.26\n",
      "  avg. classical cov: 0.90, avg. PP cov: 0.71\n"
     ]
    },
    {
     "name": "stderr",
     "output_type": "stream",
     "text": [
      "100%|██████████| 1000/1000 [01:18<00:00, 12.78it/s]\n"
     ]
    },
    {
     "name": "stdout",
     "output_type": "stream",
     "text": [
      "n = 881, q = 0.25\n",
      "  avg. classical width: 0.36, avg. PP width: 0.19\n",
      "  avg. classical cov: 0.92, avg. PP cov: 0.69\n"
     ]
    },
    {
     "name": "stderr",
     "output_type": "stream",
     "text": [
      "100%|██████████| 1000/1000 [01:21<00:00, 12.20it/s]\n"
     ]
    },
    {
     "name": "stdout",
     "output_type": "stream",
     "text": [
      "n = 1327, q = 0.25\n",
      "  avg. classical width: 0.29, avg. PP width: 0.14\n",
      "  avg. classical cov: 0.92, avg. PP cov: 0.64\n"
     ]
    },
    {
     "name": "stderr",
     "output_type": "stream",
     "text": [
      "100%|██████████| 1000/1000 [01:22<00:00, 12.15it/s]\n"
     ]
    },
    {
     "name": "stdout",
     "output_type": "stream",
     "text": [
      "n = 2000, q = 0.25\n",
      "  avg. classical width: 0.23, avg. PP width: 0.10\n",
      "  avg. classical cov: 0.91, avg. PP cov: 0.53\n"
     ]
    },
    {
     "name": "stderr",
     "output_type": "stream",
     "text": [
      "100%|██████████| 1000/1000 [01:06<00:00, 14.96it/s]\n"
     ]
    },
    {
     "name": "stdout",
     "output_type": "stream",
     "text": [
      "n = 49, q = 0.5\n",
      "  avg. classical width: 3.65, avg. PP width: 2.27\n",
      "  avg. classical cov: 0.93, avg. PP cov: 0.95\n"
     ]
    },
    {
     "name": "stderr",
     "output_type": "stream",
     "text": [
      "100%|██████████| 1000/1000 [01:09<00:00, 14.39it/s]\n"
     ]
    },
    {
     "name": "stdout",
     "output_type": "stream",
     "text": [
      "n = 75, q = 0.5\n",
      "  avg. classical width: 2.96, avg. PP width: 1.69\n",
      "  avg. classical cov: 0.92, avg. PP cov: 0.94\n"
     ]
    },
    {
     "name": "stderr",
     "output_type": "stream",
     "text": [
      "100%|██████████| 1000/1000 [01:10<00:00, 14.23it/s]\n"
     ]
    },
    {
     "name": "stdout",
     "output_type": "stream",
     "text": [
      "n = 113, q = 0.5\n",
      "  avg. classical width: 2.40, avg. PP width: 1.29\n",
      "  avg. classical cov: 0.89, avg. PP cov: 0.91\n"
     ]
    },
    {
     "name": "stderr",
     "output_type": "stream",
     "text": [
      "100%|██████████| 1000/1000 [01:12<00:00, 13.76it/s]\n"
     ]
    },
    {
     "name": "stdout",
     "output_type": "stream",
     "text": [
      "n = 170, q = 0.5\n",
      "  avg. classical width: 1.91, avg. PP width: 0.97\n",
      "  avg. classical cov: 0.89, avg. PP cov: 0.87\n"
     ]
    },
    {
     "name": "stderr",
     "output_type": "stream",
     "text": [
      "100%|██████████| 1000/1000 [01:13<00:00, 13.53it/s]\n"
     ]
    },
    {
     "name": "stdout",
     "output_type": "stream",
     "text": [
      "n = 257, q = 0.5\n",
      "  avg. classical width: 1.58, avg. PP width: 0.76\n",
      "  avg. classical cov: 0.91, avg. PP cov: 0.89\n"
     ]
    },
    {
     "name": "stderr",
     "output_type": "stream",
     "text": [
      "100%|██████████| 1000/1000 [01:15<00:00, 13.18it/s]\n"
     ]
    },
    {
     "name": "stdout",
     "output_type": "stream",
     "text": [
      "n = 388, q = 0.5\n",
      "  avg. classical width: 1.30, avg. PP width: 0.60\n",
      "  avg. classical cov: 0.91, avg. PP cov: 0.85\n"
     ]
    },
    {
     "name": "stderr",
     "output_type": "stream",
     "text": [
      "100%|██████████| 1000/1000 [01:16<00:00, 13.10it/s]\n"
     ]
    },
    {
     "name": "stdout",
     "output_type": "stream",
     "text": [
      "n = 584, q = 0.5\n",
      "  avg. classical width: 1.03, avg. PP width: 0.46\n",
      "  avg. classical cov: 0.90, avg. PP cov: 0.84\n"
     ]
    },
    {
     "name": "stderr",
     "output_type": "stream",
     "text": [
      "100%|██████████| 1000/1000 [01:18<00:00, 12.81it/s]\n"
     ]
    },
    {
     "name": "stdout",
     "output_type": "stream",
     "text": [
      "n = 881, q = 0.5\n",
      "  avg. classical width: 0.84, avg. PP width: 0.36\n",
      "  avg. classical cov: 0.90, avg. PP cov: 0.79\n"
     ]
    },
    {
     "name": "stderr",
     "output_type": "stream",
     "text": [
      "100%|██████████| 1000/1000 [01:19<00:00, 12.55it/s]\n"
     ]
    },
    {
     "name": "stdout",
     "output_type": "stream",
     "text": [
      "n = 1327, q = 0.5\n",
      "  avg. classical width: 0.69, avg. PP width: 0.28\n",
      "  avg. classical cov: 0.91, avg. PP cov: 0.78\n"
     ]
    },
    {
     "name": "stderr",
     "output_type": "stream",
     "text": [
      "100%|██████████| 1000/1000 [01:24<00:00, 11.86it/s]\n"
     ]
    },
    {
     "name": "stdout",
     "output_type": "stream",
     "text": [
      "n = 2000, q = 0.5\n",
      "  avg. classical width: 0.56, avg. PP width: 0.21\n",
      "  avg. classical cov: 0.92, avg. PP cov: 0.75\n"
     ]
    },
    {
     "name": "stderr",
     "output_type": "stream",
     "text": [
      "100%|██████████| 1000/1000 [01:07<00:00, 14.80it/s]\n"
     ]
    },
    {
     "name": "stdout",
     "output_type": "stream",
     "text": [
      "n = 49, q = 0.75\n",
      "  avg. classical width: 4.07, avg. PP width: 2.67\n",
      "  avg. classical cov: 0.90, avg. PP cov: 0.93\n"
     ]
    },
    {
     "name": "stderr",
     "output_type": "stream",
     "text": [
      "100%|██████████| 1000/1000 [01:09<00:00, 14.41it/s]\n"
     ]
    },
    {
     "name": "stdout",
     "output_type": "stream",
     "text": [
      "n = 75, q = 0.75\n",
      "  avg. classical width: 3.42, avg. PP width: 1.98\n",
      "  avg. classical cov: 0.93, avg. PP cov: 0.93\n"
     ]
    },
    {
     "name": "stderr",
     "output_type": "stream",
     "text": [
      "100%|██████████| 1000/1000 [01:11<00:00, 14.05it/s]\n"
     ]
    },
    {
     "name": "stdout",
     "output_type": "stream",
     "text": [
      "n = 113, q = 0.75\n",
      "  avg. classical width: 2.75, avg. PP width: 1.51\n",
      "  avg. classical cov: 0.92, avg. PP cov: 0.92\n"
     ]
    },
    {
     "name": "stderr",
     "output_type": "stream",
     "text": [
      "100%|██████████| 1000/1000 [01:13<00:00, 13.58it/s]\n"
     ]
    },
    {
     "name": "stdout",
     "output_type": "stream",
     "text": [
      "n = 170, q = 0.75\n",
      "  avg. classical width: 2.18, avg. PP width: 1.20\n",
      "  avg. classical cov: 0.90, avg. PP cov: 0.91\n"
     ]
    },
    {
     "name": "stderr",
     "output_type": "stream",
     "text": [
      "100%|██████████| 1000/1000 [01:14<00:00, 13.36it/s]\n"
     ]
    },
    {
     "name": "stdout",
     "output_type": "stream",
     "text": [
      "n = 257, q = 0.75\n",
      "  avg. classical width: 1.74, avg. PP width: 0.91\n",
      "  avg. classical cov: 0.90, avg. PP cov: 0.90\n"
     ]
    },
    {
     "name": "stderr",
     "output_type": "stream",
     "text": [
      "100%|██████████| 1000/1000 [01:16<00:00, 13.07it/s]\n"
     ]
    },
    {
     "name": "stdout",
     "output_type": "stream",
     "text": [
      "n = 388, q = 0.75\n",
      "  avg. classical width: 1.43, avg. PP width: 0.71\n",
      "  avg. classical cov: 0.91, avg. PP cov: 0.86\n"
     ]
    },
    {
     "name": "stderr",
     "output_type": "stream",
     "text": [
      "100%|██████████| 1000/1000 [01:18<00:00, 12.79it/s]\n"
     ]
    },
    {
     "name": "stdout",
     "output_type": "stream",
     "text": [
      "n = 584, q = 0.75\n",
      "  avg. classical width: 1.14, avg. PP width: 0.54\n",
      "  avg. classical cov: 0.91, avg. PP cov: 0.85\n"
     ]
    },
    {
     "name": "stderr",
     "output_type": "stream",
     "text": [
      "100%|██████████| 1000/1000 [01:18<00:00, 12.78it/s]\n"
     ]
    },
    {
     "name": "stdout",
     "output_type": "stream",
     "text": [
      "n = 881, q = 0.75\n",
      "  avg. classical width: 0.93, avg. PP width: 0.44\n",
      "  avg. classical cov: 0.92, avg. PP cov: 0.84\n"
     ]
    },
    {
     "name": "stderr",
     "output_type": "stream",
     "text": [
      "100%|██████████| 1000/1000 [01:23<00:00, 11.97it/s]\n"
     ]
    },
    {
     "name": "stdout",
     "output_type": "stream",
     "text": [
      "n = 1327, q = 0.75\n",
      "  avg. classical width: 0.76, avg. PP width: 0.34\n",
      "  avg. classical cov: 0.90, avg. PP cov: 0.81\n"
     ]
    },
    {
     "name": "stderr",
     "output_type": "stream",
     "text": [
      "100%|██████████| 1000/1000 [01:26<00:00, 11.59it/s]\n"
     ]
    },
    {
     "name": "stdout",
     "output_type": "stream",
     "text": [
      "n = 2000, q = 0.75\n",
      "  avg. classical width: 0.61, avg. PP width: 0.27\n",
      "  avg. classical cov: 0.91, avg. PP cov: 0.81\n"
     ]
    }
   ],
   "source": [
    "reload(utils)\n",
    "n_trial = 1000\n",
    "qs = [0.25, 0.5, 0.75]\n",
    "ns = np.logspace(np.log10(50), np.log10(2000), num=10, base=10).astype(int)\n",
    "alpha = 0.1\n",
    "use_clt = True\n",
    "n_train = 5\n",
    "save = True\n",
    "save_fname = 'iid-clt-results-011722.csv'\n",
    "\n",
    "y_all = native_df.measured.to_numpy()\n",
    "f_all = native_df.predicted.to_numpy()\n",
    "\n",
    "columns = ['q', 'n', 'width', 'covered', 'estimator', 'lower', 'upper']\n",
    "results = []\n",
    "for q_idx, q in enumerate(qs):\n",
    "    for n_idx, n in enumerate(ns):\n",
    "        for _ in tqdm(range(n_trial)):\n",
    "            \n",
    "            q_true, ci_pp, ci_cl  = utils.get_quantile_intervals(\n",
    "                y_all, f_all, q, n, alpha, use_clt=True, n_train=n_train\n",
    "            )\n",
    "            cov_cl = (ci_cl[0] <= q_true) & (ci_cl[1] >= q_true)\n",
    "            cov_pp = (ci_pp[0] <= q_true) & (ci_pp[1] >= q_true)\n",
    "            results.append([q, n, ci_pp[1] - ci_pp[0], int(cov_pp), 'prediction-powered', ci_pp[0], ci_pp[1]])\n",
    "            results.append([q, n, ci_cl[1] - ci_cl[0], int(cov_cl), 'classical', ci_cl[0], ci_cl[1]])\n",
    "            \n",
    "        df = pd.DataFrame(results, columns=columns)\n",
    "        if save:\n",
    "            df.to_csv(save_fname)\n",
    "        \n",
    "        print('n = {}, q = {}'.format(n, q))\n",
    "        print('  avg. classical width: {:.2f}, avg. PP width: {:.2f}'.format(\n",
    "            df.loc[(df.estimator == 'classical') & (df.n == n) & (df.q == q)].width.mean(),\n",
    "            df.loc[(df.estimator == 'prediction-powered') & (df.n == n) & (df.q == q)].width.mean()\n",
    "        ))\n",
    "        print('  avg. classical cov: {:.2f}, avg. PP cov: {:.2f}'.format(\n",
    "            df.loc[(df.estimator == 'classical') & (df.n == n) & (df.q == q)].covered.mean(),\n",
    "            df.loc[(df.estimator == 'prediction-powered') & (df.n == n) & (df.q == q)].covered.mean()\n",
    "        ))"
   ]
  },
  {
   "cell_type": "markdown",
   "id": "f0dbc6b1",
   "metadata": {},
   "source": [
    "## plot results"
   ]
  },
  {
   "cell_type": "code",
   "execution_count": 21,
   "id": "0b8a21e4",
   "metadata": {},
   "outputs": [
    {
     "data": {
      "text/html": [
       "<div>\n",
       "<style scoped>\n",
       "    .dataframe tbody tr th:only-of-type {\n",
       "        vertical-align: middle;\n",
       "    }\n",
       "\n",
       "    .dataframe tbody tr th {\n",
       "        vertical-align: top;\n",
       "    }\n",
       "\n",
       "    .dataframe thead th {\n",
       "        text-align: right;\n",
       "    }\n",
       "</style>\n",
       "<table border=\"1\" class=\"dataframe\">\n",
       "  <thead>\n",
       "    <tr style=\"text-align: right;\">\n",
       "      <th></th>\n",
       "      <th>q</th>\n",
       "      <th>n</th>\n",
       "      <th>width</th>\n",
       "      <th>covered</th>\n",
       "      <th>estimator</th>\n",
       "      <th>lower</th>\n",
       "      <th>upper</th>\n",
       "    </tr>\n",
       "  </thead>\n",
       "  <tbody>\n",
       "    <tr>\n",
       "      <th>0</th>\n",
       "      <td>0.25</td>\n",
       "      <td>49</td>\n",
       "      <td>2.400000</td>\n",
       "      <td>1</td>\n",
       "      <td>prediction-powered</td>\n",
       "      <td>2.382055</td>\n",
       "      <td>4.782055</td>\n",
       "    </tr>\n",
       "    <tr>\n",
       "      <th>1</th>\n",
       "      <td>0.25</td>\n",
       "      <td>49</td>\n",
       "      <td>1.818477</td>\n",
       "      <td>1</td>\n",
       "      <td>classical</td>\n",
       "      <td>1.734314</td>\n",
       "      <td>3.552791</td>\n",
       "    </tr>\n",
       "    <tr>\n",
       "      <th>2</th>\n",
       "      <td>0.25</td>\n",
       "      <td>49</td>\n",
       "      <td>1.200000</td>\n",
       "      <td>1</td>\n",
       "      <td>prediction-powered</td>\n",
       "      <td>1.860841</td>\n",
       "      <td>3.060841</td>\n",
       "    </tr>\n",
       "    <tr>\n",
       "      <th>3</th>\n",
       "      <td>0.25</td>\n",
       "      <td>49</td>\n",
       "      <td>1.949520</td>\n",
       "      <td>1</td>\n",
       "      <td>classical</td>\n",
       "      <td>1.875306</td>\n",
       "      <td>3.824826</td>\n",
       "    </tr>\n",
       "    <tr>\n",
       "      <th>4</th>\n",
       "      <td>0.25</td>\n",
       "      <td>49</td>\n",
       "      <td>1.100000</td>\n",
       "      <td>1</td>\n",
       "      <td>prediction-powered</td>\n",
       "      <td>2.751735</td>\n",
       "      <td>3.851735</td>\n",
       "    </tr>\n",
       "    <tr>\n",
       "      <th>...</th>\n",
       "      <td>...</td>\n",
       "      <td>...</td>\n",
       "      <td>...</td>\n",
       "      <td>...</td>\n",
       "      <td>...</td>\n",
       "      <td>...</td>\n",
       "      <td>...</td>\n",
       "    </tr>\n",
       "    <tr>\n",
       "      <th>59995</th>\n",
       "      <td>0.75</td>\n",
       "      <td>2000</td>\n",
       "      <td>0.588254</td>\n",
       "      <td>1</td>\n",
       "      <td>classical</td>\n",
       "      <td>9.809634</td>\n",
       "      <td>10.397889</td>\n",
       "    </tr>\n",
       "    <tr>\n",
       "      <th>59996</th>\n",
       "      <td>0.75</td>\n",
       "      <td>2000</td>\n",
       "      <td>0.100000</td>\n",
       "      <td>0</td>\n",
       "      <td>prediction-powered</td>\n",
       "      <td>10.326326</td>\n",
       "      <td>10.426326</td>\n",
       "    </tr>\n",
       "    <tr>\n",
       "      <th>59997</th>\n",
       "      <td>0.75</td>\n",
       "      <td>2000</td>\n",
       "      <td>0.510678</td>\n",
       "      <td>1</td>\n",
       "      <td>classical</td>\n",
       "      <td>10.023103</td>\n",
       "      <td>10.533781</td>\n",
       "    </tr>\n",
       "    <tr>\n",
       "      <th>59998</th>\n",
       "      <td>0.75</td>\n",
       "      <td>2000</td>\n",
       "      <td>0.600000</td>\n",
       "      <td>1</td>\n",
       "      <td>prediction-powered</td>\n",
       "      <td>9.951205</td>\n",
       "      <td>10.551205</td>\n",
       "    </tr>\n",
       "    <tr>\n",
       "      <th>59999</th>\n",
       "      <td>0.75</td>\n",
       "      <td>2000</td>\n",
       "      <td>0.707083</td>\n",
       "      <td>1</td>\n",
       "      <td>classical</td>\n",
       "      <td>9.886342</td>\n",
       "      <td>10.593426</td>\n",
       "    </tr>\n",
       "  </tbody>\n",
       "</table>\n",
       "<p>60000 rows × 7 columns</p>\n",
       "</div>"
      ],
      "text/plain": [
       "          q     n     width  covered           estimator      lower      upper\n",
       "0      0.25    49  2.400000        1  prediction-powered   2.382055   4.782055\n",
       "1      0.25    49  1.818477        1           classical   1.734314   3.552791\n",
       "2      0.25    49  1.200000        1  prediction-powered   1.860841   3.060841\n",
       "3      0.25    49  1.949520        1           classical   1.875306   3.824826\n",
       "4      0.25    49  1.100000        1  prediction-powered   2.751735   3.851735\n",
       "...     ...   ...       ...      ...                 ...        ...        ...\n",
       "59995  0.75  2000  0.588254        1           classical   9.809634  10.397889\n",
       "59996  0.75  2000  0.100000        0  prediction-powered  10.326326  10.426326\n",
       "59997  0.75  2000  0.510678        1           classical  10.023103  10.533781\n",
       "59998  0.75  2000  0.600000        1  prediction-powered   9.951205  10.551205\n",
       "59999  0.75  2000  0.707083        1           classical   9.886342  10.593426\n",
       "\n",
       "[60000 rows x 7 columns]"
      ]
     },
     "execution_count": 21,
     "metadata": {},
     "output_type": "execute_result"
    }
   ],
   "source": [
    "df = pd.read_csv('iid-clt-results-011722.csv', index_col=0)\n",
    "df"
   ]
  },
  {
   "cell_type": "code",
   "execution_count": 25,
   "id": "da385f91",
   "metadata": {},
   "outputs": [
    {
     "data": {
      "image/png": "[encoded data removed]",
      "text/plain": [
       "<Figure size 800x200 with 2 Axes>"
      ]
     },
     "metadata": {},
     "output_type": "display_data"
    }
   ],
   "source": [
    "save = True\n",
    "n_to_plot = 75\n",
    "plot_df = df.loc[(df.q == 0.5) & (df.n == n_to_plot)]\n",
    "c_cl, c_pp = \"#BFB9B9\", \"#71D26F\"\n",
    "ns = np.logspace(np.log10(50), np.log10(2000), num=10, base=10).astype(int)\n",
    "ns_xticks = [50, 100, 200, 500, 1000, 2000]\n",
    "ns_xticklabels = [50, 100, 200, 500, '1k', '2k']\n",
    "\n",
    "fig, axs = plt.subplots(1, 2, figsize=(8, 2))\n",
    "for q, ls in zip([0.25, 0.5, 0.75], [':', '-', '--']):\n",
    "    dfqn = df.loc[df.q == q]\n",
    "    wcl_n = np.array(\n",
    "        [dfqn.loc[(dfqn.n == n) & (dfqn.estimator == 'classical')].width.mean()for n in ns])\n",
    "    wpp_n = np.array(\n",
    "        [dfqn.loc[(dfqn.n == n) & (dfqn.estimator == 'prediction-powered')].width.mean()for n in ns])\n",
    "    axs[0].plot(\n",
    "        ns, wpp_n,\n",
    "        label='prediction-powered' if q == 0.5 else None,\n",
    "        alpha=0.9 if q > 0.25 else 1, linestyle=ls, c=c_pp)\n",
    "    axs[0].plot(\n",
    "        ns, wcl_n,\n",
    "        label='classical' if q == 0.5 else None,\n",
    "        alpha=0.9 if q > 0.25 else 1, linestyle=ls, c=c_cl)\n",
    "    \n",
    "axs[0].set_xscale('log')\n",
    "axs[0].set_xticks(ns_xticks)\n",
    "axs[0].get_xaxis().set_major_formatter(matplotlib.ticker.ScalarFormatter())\n",
    "axs[0].set_xticklabels(ns_xticklabels)\n",
    "axs[0].set_xlabel('n');\n",
    "axs[0].set_ylabel('width (expression level)')\n",
    "axs[0].legend();\n",
    "sns.despine(ax=axs[0],top=True,right=True)\n",
    "\n",
    "my_palette = sns.color_palette([c_pp, c_cl], 2)\n",
    "sns.set_theme(style=\"white\", palette=my_palette)\n",
    "kde = sns.kdeplot(\n",
    "    plot_df, x=\"width\", hue=\"estimator\", hue_order=[\"prediction-powered\", \"classical\"],\n",
    "    fill=True, ax=axs[1])\n",
    "kde.get_legend().remove()\n",
    "sns.despine(ax=axs[1],top=True,right=True,left=True)\n",
    "axs[1].set_xlabel(\"width (expression level)\")\n",
    "axs[1].set_ylabel('')\n",
    "axs[1].set_yticks([])\n",
    "axs[1].set_yticklabels([])\n",
    "axs[1].set_title('n = {}, q = 0.5'.format(n_to_plot));\n",
    "if save:\n",
    "    plt.savefig('figures/widths.png', dpi=300, bbox_inches='tight')\n",
    "plt.show()"
   ]
  }
 ],
 "metadata": {
  "kernelspec": {
   "display_name": "TensorFlow-GPU-2.1.0",
   "language": "python",
   "name": "tf-gpu"
  },
  "language_info": {
   "codemirror_mode": {
    "name": "ipython",
    "version": 3
   },
   "file_extension": ".py",
   "mimetype": "text/x-python",
   "name": "python",
   "nbconvert_exporter": "python",
   "pygments_lexer": "ipython3",
   "version": "3.7.15"
  }
 },
 "nbformat": 4,
 "nbformat_minor": 5
}
