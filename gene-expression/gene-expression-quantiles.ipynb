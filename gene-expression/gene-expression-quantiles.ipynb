{
 "cells": [
  {
   "cell_type": "code",
   "execution_count": 1,
   "id": "d2299bfe",
   "metadata": {},
   "outputs": [],
   "source": [
    "import os, sys\n",
    "sys.path.insert(1, '../')\n",
    "\n",
    "from importlib import reload\n",
    "from tqdm import tqdm\n",
    "from time import time\n",
    "\n",
    "import numpy as np\n",
    "import pandas as pd\n",
    "\n",
    "import utils"
   ]
  },
  {
   "cell_type": "code",
   "execution_count": 2,
   "id": "d52596a0",
   "metadata": {},
   "outputs": [
    {
     "data": {
      "text/html": [
       "<div>\n",
       "<style scoped>\n",
       "    .dataframe tbody tr th:only-of-type {\n",
       "        vertical-align: middle;\n",
       "    }\n",
       "\n",
       "    .dataframe tbody tr th {\n",
       "        vertical-align: top;\n",
       "    }\n",
       "\n",
       "    .dataframe thead th {\n",
       "        text-align: right;\n",
       "    }\n",
       "</style>\n",
       "<table border=\"1\" class=\"dataframe\">\n",
       "  <thead>\n",
       "    <tr style=\"text-align: right;\">\n",
       "      <th></th>\n",
       "      <th>sequence</th>\n",
       "      <th>measured</th>\n",
       "      <th>predicted</th>\n",
       "    </tr>\n",
       "    <tr>\n",
       "      <th>index</th>\n",
       "      <th></th>\n",
       "      <th></th>\n",
       "      <th></th>\n",
       "    </tr>\n",
       "  </thead>\n",
       "  <tbody>\n",
       "    <tr>\n",
       "      <th>0</th>\n",
       "      <td>TGCATTTTTTTCACATCAAAAAAAAAAAAAAAAAAAAAAACTAGCA...</td>\n",
       "      <td>11.825806</td>\n",
       "      <td>11.353749</td>\n",
       "    </tr>\n",
       "    <tr>\n",
       "      <th>1</th>\n",
       "      <td>TGCATTTTTTTCACATCAAAAAAAAAAAAAAAATTTAAAGAATTTC...</td>\n",
       "      <td>11.412778</td>\n",
       "      <td>9.643128</td>\n",
       "    </tr>\n",
       "    <tr>\n",
       "      <th>2</th>\n",
       "      <td>TGCATTTTTTTCACATCAAAAAAAAGGACGTTCCACACTTGGCTGC...</td>\n",
       "      <td>10.623805</td>\n",
       "      <td>11.864820</td>\n",
       "    </tr>\n",
       "    <tr>\n",
       "      <th>3</th>\n",
       "      <td>TGCATTTTTTTCACATCAAAATCCGTGTAATACCAAGTCATCCTCA...</td>\n",
       "      <td>7.703389</td>\n",
       "      <td>8.650239</td>\n",
       "    </tr>\n",
       "    <tr>\n",
       "      <th>4</th>\n",
       "      <td>TGCATTTTTTTCACATCAGAAAAAAAGTATAATGTCAGATTTTTGT...</td>\n",
       "      <td>11.397473</td>\n",
       "      <td>13.881278</td>\n",
       "    </tr>\n",
       "    <tr>\n",
       "      <th>...</th>\n",
       "      <td>...</td>\n",
       "      <td>...</td>\n",
       "      <td>...</td>\n",
       "    </tr>\n",
       "    <tr>\n",
       "      <th>61145</th>\n",
       "      <td>TGCATTTTTTTCACATCAGAAAAAAAAAAAAAAAAAAAAAAAGAAA...</td>\n",
       "      <td>14.220082</td>\n",
       "      <td>12.520042</td>\n",
       "    </tr>\n",
       "    <tr>\n",
       "      <th>61146</th>\n",
       "      <td>TGCATTTTTTTCACATCAGAAAAAAAAAAAAGAGGAGACTTGAAGA...</td>\n",
       "      <td>6.978840</td>\n",
       "      <td>7.298204</td>\n",
       "    </tr>\n",
       "    <tr>\n",
       "      <th>61147</th>\n",
       "      <td>TGCATTTTTTTCACATCAGAAAAAAAAAAGGGATTGGGCGGTAATG...</td>\n",
       "      <td>3.917299</td>\n",
       "      <td>8.096985</td>\n",
       "    </tr>\n",
       "    <tr>\n",
       "      <th>61148</th>\n",
       "      <td>TGCATTTTTTTCACATCAGAAAAAAAAAATTCTCGGCACGCAAGAC...</td>\n",
       "      <td>16.012221</td>\n",
       "      <td>15.247513</td>\n",
       "    </tr>\n",
       "    <tr>\n",
       "      <th>61149</th>\n",
       "      <td>TGCATTTTTTTCACATCAGAAAAAAAGATCGATGGGACGACTCGCG...</td>\n",
       "      <td>14.126017</td>\n",
       "      <td>13.991074</td>\n",
       "    </tr>\n",
       "  </tbody>\n",
       "</table>\n",
       "<p>61150 rows × 3 columns</p>\n",
       "</div>"
      ],
      "text/plain": [
       "                                                sequence   measured  predicted\n",
       "index                                                                         \n",
       "0      TGCATTTTTTTCACATCAAAAAAAAAAAAAAAAAAAAAAACTAGCA...  11.825806  11.353749\n",
       "1      TGCATTTTTTTCACATCAAAAAAAAAAAAAAAATTTAAAGAATTTC...  11.412778   9.643128\n",
       "2      TGCATTTTTTTCACATCAAAAAAAAGGACGTTCCACACTTGGCTGC...  10.623805  11.864820\n",
       "3      TGCATTTTTTTCACATCAAAATCCGTGTAATACCAAGTCATCCTCA...   7.703389   8.650239\n",
       "4      TGCATTTTTTTCACATCAGAAAAAAAGTATAATGTCAGATTTTTGT...  11.397473  13.881278\n",
       "...                                                  ...        ...        ...\n",
       "61145  TGCATTTTTTTCACATCAGAAAAAAAAAAAAAAAAAAAAAAAGAAA...  14.220082  12.520042\n",
       "61146  TGCATTTTTTTCACATCAGAAAAAAAAAAAAGAGGAGACTTGAAGA...   6.978840   7.298204\n",
       "61147  TGCATTTTTTTCACATCAGAAAAAAAAAAGGGATTGGGCGGTAATG...   3.917299   8.096985\n",
       "61148  TGCATTTTTTTCACATCAGAAAAAAAAAATTCTCGGCACGCAAGAC...  16.012221  15.247513\n",
       "61149  TGCATTTTTTTCACATCAGAAAAAAAGATCGATGGGACGACTCGCG...  14.126017  13.991074\n",
       "\n",
       "[61150 rows x 3 columns]"
      ]
     },
     "execution_count": 2,
     "metadata": {},
     "output_type": "execute_result"
    }
   ],
   "source": [
    "native_df = pd.read_csv('Native_allchunks_test_tpu_model.csv', index_col=0)\n",
    "native_df"
   ]
  },
  {
   "cell_type": "code",
   "execution_count": 10,
   "id": "68f1541b",
   "metadata": {},
   "outputs": [
    {
     "name": "stderr",
     "output_type": "stream",
     "text": [
      "100%|██████████| 500/500 [29:41<00:00,  3.56s/it]\n"
     ]
    },
    {
     "name": "stdout",
     "output_type": "stream",
     "text": [
      "n = 49, q = 0.5\n",
      "  avg. classical width: 3.64, avg. PP width: 3.45\n",
      "  avg. classical cov: 0.90, avg. PP cov: 1.00\n"
     ]
    },
    {
     "name": "stderr",
     "output_type": "stream",
     "text": [
      "100%|██████████| 500/500 [29:54<00:00,  3.59s/it]\n"
     ]
    },
    {
     "name": "stdout",
     "output_type": "stream",
     "text": [
      "n = 69, q = 0.5\n",
      "  avg. classical width: 3.09, avg. PP width: 2.70\n",
      "  avg. classical cov: 0.92, avg. PP cov: 1.00\n"
     ]
    },
    {
     "name": "stderr",
     "output_type": "stream",
     "text": [
      "100%|██████████| 500/500 [31:41<00:00,  3.80s/it]\n"
     ]
    },
    {
     "name": "stdout",
     "output_type": "stream",
     "text": [
      "n = 97, q = 0.5\n",
      "  avg. classical width: 2.66, avg. PP width: 2.12\n",
      "  avg. classical cov: 0.90, avg. PP cov: 0.99\n"
     ]
    },
    {
     "name": "stderr",
     "output_type": "stream",
     "text": [
      "100%|██████████| 500/500 [36:09<00:00,  4.34s/it]\n"
     ]
    },
    {
     "name": "stdout",
     "output_type": "stream",
     "text": [
      "n = 135, q = 0.5\n",
      "  avg. classical width: 2.27, avg. PP width: 1.70\n",
      "  avg. classical cov: 0.94, avg. PP cov: 0.98\n"
     ]
    },
    {
     "name": "stderr",
     "output_type": "stream",
     "text": [
      "100%|██████████| 500/500 [39:27<00:00,  4.74s/it]\n"
     ]
    },
    {
     "name": "stdout",
     "output_type": "stream",
     "text": [
      "n = 189, q = 0.5\n",
      "  avg. classical width: 1.86, avg. PP width: 1.42\n",
      "  avg. classical cov: 0.91, avg. PP cov: 0.99\n"
     ]
    },
    {
     "name": "stderr",
     "output_type": "stream",
     "text": [
      "100%|██████████| 500/500 [44:00<00:00,  5.28s/it]\n"
     ]
    },
    {
     "name": "stdout",
     "output_type": "stream",
     "text": [
      "n = 264, q = 0.5\n",
      "  avg. classical width: 1.53, avg. PP width: 1.16\n",
      "  avg. classical cov: 0.89, avg. PP cov: 0.97\n"
     ]
    },
    {
     "name": "stderr",
     "output_type": "stream",
     "text": [
      "100%|██████████| 500/500 [50:09<00:00,  6.02s/it]\n"
     ]
    },
    {
     "name": "stdout",
     "output_type": "stream",
     "text": [
      "n = 368, q = 0.5\n",
      "  avg. classical width: 1.32, avg. PP width: 0.94\n",
      "  avg. classical cov: 0.89, avg. PP cov: 0.98\n"
     ]
    },
    {
     "name": "stderr",
     "output_type": "stream",
     "text": [
      "100%|██████████| 500/500 [1:01:21<00:00,  7.36s/it]\n"
     ]
    },
    {
     "name": "stdout",
     "output_type": "stream",
     "text": [
      "n = 513, q = 0.5\n",
      "  avg. classical width: 1.12, avg. PP width: 0.80\n",
      "  avg. classical cov: 0.91, avg. PP cov: 0.98\n"
     ]
    },
    {
     "name": "stderr",
     "output_type": "stream",
     "text": [
      "100%|██████████| 500/500 [1:12:25<00:00,  8.69s/it]\n"
     ]
    },
    {
     "name": "stdout",
     "output_type": "stream",
     "text": [
      "n = 716, q = 0.5\n",
      "  avg. classical width: 0.96, avg. PP width: 0.69\n",
      "  avg. classical cov: 0.92, avg. PP cov: 0.97\n"
     ]
    },
    {
     "name": "stderr",
     "output_type": "stream",
     "text": [
      "  0%|          | 0/500 [00:00<?, ?it/s]../concentration.py:53: RuntimeWarning: overflow encountered in exp\n",
      "  theta * np.exp(np.cumsum(np.log(1 + lambdaplus_n * (x_n - m)))),\n",
      "100%|██████████| 500/500 [1:30:18<00:00, 10.84s/it]\n"
     ]
    },
    {
     "name": "stdout",
     "output_type": "stream",
     "text": [
      "n = 1000, q = 0.5\n",
      "  avg. classical width: 0.81, avg. PP width: 0.58\n",
      "  avg. classical cov: 0.91, avg. PP cov: 0.96\n"
     ]
    },
    {
     "name": "stderr",
     "output_type": "stream",
     "text": [
      "100%|██████████| 500/500 [28:29<00:00,  3.42s/it]\n"
     ]
    },
    {
     "name": "stdout",
     "output_type": "stream",
     "text": [
      "n = 49, q = 0.25\n",
      "  avg. classical width: 1.79, avg. PP width: 2.13\n",
      "  avg. classical cov: 0.93, avg. PP cov: 0.98\n"
     ]
    },
    {
     "name": "stderr",
     "output_type": "stream",
     "text": [
      "100%|██████████| 500/500 [29:26<00:00,  3.53s/it]\n"
     ]
    },
    {
     "name": "stdout",
     "output_type": "stream",
     "text": [
      "n = 69, q = 0.25\n",
      "  avg. classical width: 1.45, avg. PP width: 1.67\n",
      "  avg. classical cov: 0.91, avg. PP cov: 0.98\n"
     ]
    },
    {
     "name": "stderr",
     "output_type": "stream",
     "text": [
      "100%|██████████| 500/500 [31:12<00:00,  3.75s/it]\n"
     ]
    },
    {
     "name": "stdout",
     "output_type": "stream",
     "text": [
      "n = 97, q = 0.25\n",
      "  avg. classical width: 1.17, avg. PP width: 1.33\n",
      "  avg. classical cov: 0.93, avg. PP cov: 0.97\n"
     ]
    },
    {
     "name": "stderr",
     "output_type": "stream",
     "text": [
      "100%|██████████| 500/500 [36:53<00:00,  4.43s/it]\n"
     ]
    },
    {
     "name": "stdout",
     "output_type": "stream",
     "text": [
      "n = 135, q = 0.25\n",
      "  avg. classical width: 0.97, avg. PP width: 1.08\n",
      "  avg. classical cov: 0.90, avg. PP cov: 0.97\n"
     ]
    },
    {
     "name": "stderr",
     "output_type": "stream",
     "text": [
      "100%|██████████| 500/500 [40:44<00:00,  4.89s/it]\n"
     ]
    },
    {
     "name": "stdout",
     "output_type": "stream",
     "text": [
      "n = 189, q = 0.25\n",
      "  avg. classical width: 0.81, avg. PP width: 0.88\n",
      "  avg. classical cov: 0.90, avg. PP cov: 0.96\n"
     ]
    },
    {
     "name": "stderr",
     "output_type": "stream",
     "text": [
      "100%|██████████| 500/500 [45:48<00:00,  5.50s/it]\n"
     ]
    },
    {
     "name": "stdout",
     "output_type": "stream",
     "text": [
      "n = 264, q = 0.25\n",
      "  avg. classical width: 0.67, avg. PP width: 0.69\n",
      "  avg. classical cov: 0.89, avg. PP cov: 0.93\n"
     ]
    },
    {
     "name": "stderr",
     "output_type": "stream",
     "text": [
      "100%|██████████| 500/500 [52:23<00:00,  6.29s/it]\n"
     ]
    },
    {
     "name": "stdout",
     "output_type": "stream",
     "text": [
      "n = 368, q = 0.25\n",
      "  avg. classical width: 0.56, avg. PP width: 0.58\n",
      "  avg. classical cov: 0.89, avg. PP cov: 0.94\n"
     ]
    },
    {
     "name": "stderr",
     "output_type": "stream",
     "text": [
      "100%|██████████| 500/500 [1:03:20<00:00,  7.60s/it]\n"
     ]
    },
    {
     "name": "stdout",
     "output_type": "stream",
     "text": [
      "n = 513, q = 0.25\n",
      "  avg. classical width: 0.47, avg. PP width: 0.48\n",
      "  avg. classical cov: 0.89, avg. PP cov: 0.94\n"
     ]
    },
    {
     "name": "stderr",
     "output_type": "stream",
     "text": [
      "100%|██████████| 500/500 [1:15:20<00:00,  9.04s/it]\n"
     ]
    },
    {
     "name": "stdout",
     "output_type": "stream",
     "text": [
      "n = 716, q = 0.25\n",
      "  avg. classical width: 0.40, avg. PP width: 0.40\n",
      "  avg. classical cov: 0.90, avg. PP cov: 0.94\n"
     ]
    },
    {
     "name": "stderr",
     "output_type": "stream",
     "text": [
      "100%|██████████| 500/500 [1:33:20<00:00, 11.20s/it]\n"
     ]
    },
    {
     "name": "stdout",
     "output_type": "stream",
     "text": [
      "n = 1000, q = 0.25\n",
      "  avg. classical width: 0.34, avg. PP width: 0.34\n",
      "  avg. classical cov: 0.94, avg. PP cov: 0.93\n"
     ]
    },
    {
     "name": "stderr",
     "output_type": "stream",
     "text": [
      "100%|██████████| 500/500 [29:27<00:00,  3.54s/it]\n"
     ]
    },
    {
     "name": "stdout",
     "output_type": "stream",
     "text": [
      "n = 49, q = 0.75\n",
      "  avg. classical width: 3.98, avg. PP width: 4.87\n",
      "  avg. classical cov: 0.92, avg. PP cov: 1.00\n"
     ]
    },
    {
     "name": "stderr",
     "output_type": "stream",
     "text": [
      "100%|██████████| 500/500 [30:34<00:00,  3.67s/it]\n"
     ]
    },
    {
     "name": "stdout",
     "output_type": "stream",
     "text": [
      "n = 69, q = 0.75\n",
      "  avg. classical width: 3.38, avg. PP width: 3.76\n",
      "  avg. classical cov: 0.89, avg. PP cov: 1.00\n"
     ]
    },
    {
     "name": "stderr",
     "output_type": "stream",
     "text": [
      "100%|██████████| 500/500 [31:50<00:00,  3.82s/it]\n"
     ]
    },
    {
     "name": "stdout",
     "output_type": "stream",
     "text": [
      "n = 97, q = 0.75\n",
      "  avg. classical width: 3.03, avg. PP width: 2.93\n",
      "  avg. classical cov: 0.91, avg. PP cov: 0.99\n"
     ]
    },
    {
     "name": "stderr",
     "output_type": "stream",
     "text": [
      "100%|██████████| 500/500 [36:01<00:00,  4.32s/it]\n"
     ]
    },
    {
     "name": "stdout",
     "output_type": "stream",
     "text": [
      "n = 135, q = 0.75\n",
      "  avg. classical width: 2.43, avg. PP width: 2.33\n",
      "  avg. classical cov: 0.92, avg. PP cov: 0.97\n"
     ]
    },
    {
     "name": "stderr",
     "output_type": "stream",
     "text": [
      "100%|██████████| 500/500 [39:41<00:00,  4.76s/it]\n"
     ]
    },
    {
     "name": "stdout",
     "output_type": "stream",
     "text": [
      "n = 189, q = 0.75\n",
      "  avg. classical width: 2.06, avg. PP width: 1.91\n",
      "  avg. classical cov: 0.91, avg. PP cov: 0.98\n"
     ]
    },
    {
     "name": "stderr",
     "output_type": "stream",
     "text": [
      "100%|██████████| 500/500 [44:26<00:00,  5.33s/it]\n"
     ]
    },
    {
     "name": "stdout",
     "output_type": "stream",
     "text": [
      "n = 264, q = 0.75\n",
      "  avg. classical width: 1.75, avg. PP width: 1.61\n",
      "  avg. classical cov: 0.92, avg. PP cov: 0.97\n"
     ]
    },
    {
     "name": "stderr",
     "output_type": "stream",
     "text": [
      "100%|██████████| 500/500 [50:47<00:00,  6.09s/it]\n"
     ]
    },
    {
     "name": "stdout",
     "output_type": "stream",
     "text": [
      "n = 368, q = 0.75\n",
      "  avg. classical width: 1.47, avg. PP width: 1.33\n",
      "  avg. classical cov: 0.93, avg. PP cov: 0.98\n"
     ]
    },
    {
     "name": "stderr",
     "output_type": "stream",
     "text": [
      "100%|██████████| 500/500 [1:02:31<00:00,  7.50s/it]\n"
     ]
    },
    {
     "name": "stdout",
     "output_type": "stream",
     "text": [
      "n = 513, q = 0.75\n",
      "  avg. classical width: 1.24, avg. PP width: 1.13\n",
      "  avg. classical cov: 0.89, avg. PP cov: 0.97\n"
     ]
    },
    {
     "name": "stderr",
     "output_type": "stream",
     "text": [
      "100%|██████████| 500/500 [1:15:01<00:00,  9.00s/it]\n"
     ]
    },
    {
     "name": "stdout",
     "output_type": "stream",
     "text": [
      "n = 716, q = 0.75\n",
      "  avg. classical width: 1.04, avg. PP width: 0.94\n",
      "  avg. classical cov: 0.91, avg. PP cov: 0.97\n"
     ]
    },
    {
     "name": "stderr",
     "output_type": "stream",
     "text": [
      "100%|██████████| 500/500 [1:32:14<00:00, 11.07s/it]"
     ]
    },
    {
     "name": "stdout",
     "output_type": "stream",
     "text": [
      "n = 1000, q = 0.75\n",
      "  avg. classical width: 0.88, avg. PP width: 0.81\n",
      "  avg. classical cov: 0.90, avg. PP cov: 0.97\n"
     ]
    },
    {
     "name": "stderr",
     "output_type": "stream",
     "text": [
      "\n"
     ]
    }
   ],
   "source": [
    "reload(conc)\n",
    "reload(utils)\n",
    "n_trial = 500\n",
    "qs = [0.5, 0.25, 0.75]\n",
    "ns = np.logspace(np.log10(50), np.log10(1000), num=10, base=10).astype(int)\n",
    "alpha = 0.1\n",
    "delta = 0.09\n",
    "theta_grid = np.arange(0, 20, 0.1)\n",
    "c = 0.75\n",
    "n_train = 0\n",
    "save = True\n",
    "save_fname = 'native-010423-delta{}.csv'.format(delta)\n",
    "\n",
    "y_all = native_df.measured.to_numpy()\n",
    "f_all = native_df.predicted.to_numpy()\n",
    "f_all = 20 * (f_all - np.min(f_all)) / (np.max(f_all) - np.min(f_all))\n",
    "\n",
    "columns = ['q', 'n', 'width', 'covered', 'estimator', 'lower', 'upper']\n",
    "results = []\n",
    "for q_idx, q in enumerate(qs):\n",
    "    for n_idx, n in enumerate(ns):\n",
    "        for _ in tqdm(range(n_trial)):\n",
    "            \n",
    "            ci_pp, ci_cl, cov_pp, cov_cl  = utils.trial(\n",
    "                y_all, f_all, q, n, alpha, delta, theta_grid, c=c, n_train=n_train\n",
    "            )\n",
    "            results.append([q, n, ci_pp[1] - ci_pp[0], int(cov_pp), 'prediction-powered', ci_pp[0], ci_pp[1]])\n",
    "            results.append([q, n, ci_cl[1] - ci_cl[0], int(cov_cl), 'classical', ci_cl[0], ci_cl[1]])\n",
    "            \n",
    "        df = pd.DataFrame(results, columns=columns)\n",
    "        if save:\n",
    "            df.to_csv(save_fname)\n",
    "        \n",
    "        print('n = {}, q = {}'.format(n, q))\n",
    "        print('  avg. classical width: {:.2f}, avg. PP width: {:.2f}'.format(\n",
    "            df.loc[(df.estimator == 'classical') & (df.n == n) & (df.q == q)].width.mean(),\n",
    "            df.loc[(df.estimator == 'prediction-powered') & (df.n == n) & (df.q == q)].width.mean()\n",
    "        ))\n",
    "        print('  avg. classical cov: {:.2f}, avg. PP cov: {:.2f}'.format(\n",
    "            df.loc[(df.estimator == 'classical') & (df.n == n) & (df.q == q)].covered.mean(),\n",
    "            df.loc[(df.estimator == 'prediction-powered') & (df.n == n) & (df.q == q)].covered.mean()\n",
    "        ))"
   ]
  }
 ],
 "metadata": {
  "kernelspec": {
   "display_name": "TensorFlow-GPU-2.1.0",
   "language": "python",
   "name": "tf-gpu"
  },
  "language_info": {
   "codemirror_mode": {
    "name": "ipython",
    "version": 3
   },
   "file_extension": ".py",
   "mimetype": "text/x-python",
   "name": "python",
   "nbconvert_exporter": "python",
   "pygments_lexer": "ipython3",
   "version": "3.7.15"
  }
 },
 "nbformat": 4,
 "nbformat_minor": 5
}
