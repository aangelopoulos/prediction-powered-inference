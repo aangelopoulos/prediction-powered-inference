{
 "cells": [
  {
   "cell_type": "code",
   "execution_count": 2,
   "id": "021c9654",
   "metadata": {},
   "outputs": [],
   "source": [
    "%load_ext autoreload\n",
    "%autoreload 2\n",
    "import os, sys\n",
    "sys.path.insert(1, '../')\n",
    "import numpy as np\n",
    "import pandas as pd\n",
    "import geopandas as gpd\n",
    "import geoplot as gplt\n",
    "import geoplot.crs as gcrs\n",
    "from shapely.geometry import Point, Polygon, MultiPolygon\n",
    "from shapely.ops import cascaded_union\n",
    "import alphashape\n",
    "import matplotlib.pyplot as plt\n",
    "import matplotlib.patheffects as pe\n",
    "from  matplotlib.colors import LinearSegmentedColormap\n",
    "from ppi import clt_swr, binomial_iid, bentkus_iid, wsr_iid, wsr_swr, clt_iid\n",
    "from scipy.special import expit\n",
    "from sklearn.ensemble import HistGradientBoostingClassifier\n",
    "from sklearn.model_selection import train_test_split\n",
    "from tqdm import tqdm\n",
    "import seaborn as sns\n",
    "import mapclassify as mc\n",
    "import warnings\n",
    "import pdb"
   ]
  },
  {
   "cell_type": "markdown",
   "id": "3b5a9aec",
   "metadata": {},
   "source": [
    "## Read and preprocess data\n",
    "\n",
    "We read the data in from a `.csv` file with pre-computed predictions of forest cover and ground-truth labels."
   ]
  },
  {
   "cell_type": "code",
   "execution_count": 3,
   "id": "424b8f60",
   "metadata": {},
   "outputs": [],
   "source": [
    "# Read raw data\n",
    "raw_df = pd.read_csv('./data.csv')\n",
    "\n",
    "# Process raw data\n",
    "df = raw_df[raw_df.Year1 != 'tdo'].copy()\n",
    "df.Year1 = df.Year1.astype(float)\n",
    "\n",
    "gt = (((df.Type1.astype(str) != 'nan') & ((df.Year1 >= 2000) & (df.Year1 <= 2015))) |\n",
    "      ((df.Type2.astype(str) != 'nan') & ((df.Year2 >= 2000) & (df.Year2 <= 2015))) |\n",
    "      ((df.Type3.astype(str) != 'nan') & ((df.Year3 >= 2000) & (df.Year3 <= 2015))) ).astype(float).to_numpy()\n",
    "\n",
    "X = np.stack([\n",
    "        df.tree_canopy_cover_2015/100,\n",
    "        df.tree_canopy_cover_2000/100\n",
    "    ], axis=1)\n",
    "\n",
    "X_train, X, gt_train, gt = train_test_split(X,gt,test_size=0.5)"
   ]
  },
  {
   "cell_type": "markdown",
   "id": "ba6fc1aa",
   "metadata": {},
   "source": [
    "## Train the gradient boosting classifier\n",
    "\n",
    "The ground truth labels are binary per-parcel labels indicating deforestation. The predictions are of forest cover in the years 2000 and 2015.  We train a gradient boosting classifier to learn a rule from the forest cover predictions to the binary labels."
   ]
  },
  {
   "cell_type": "code",
   "execution_count": 4,
   "id": "abec4115",
   "metadata": {},
   "outputs": [],
   "source": [
    "cls = HistGradientBoostingClassifier(max_iter=100,max_depth=2).fit(\n",
    "    X_train,\n",
    "    gt_train\n",
    ")\n",
    "\n",
    "pred = cls.predict_proba(X)[:,1]"
   ]
  },
  {
   "cell_type": "markdown",
   "id": "bbf0cf86",
   "metadata": {},
   "source": [
    "## Deforestation map\n",
    "\n",
    "Plot the model predictions of deforestation as a Voronoi diagram."
   ]
  },
  {
   "cell_type": "code",
   "execution_count": 5,
   "id": "a81adafb",
   "metadata": {
    "scrolled": false
   },
   "outputs": [
    {
     "ename": "KeyboardInterrupt",
     "evalue": "",
     "output_type": "error",
     "traceback": [
      "\u001b[0;31m---------------------------------------------------------------------------\u001b[0m",
      "\u001b[0;31mKeyboardInterrupt\u001b[0m                         Traceback (most recent call last)",
      "Input \u001b[0;32mIn [5]\u001b[0m, in \u001b[0;36m<cell line: 1>\u001b[0;34m()\u001b[0m\n\u001b[1;32m     17\u001b[0m gdf[\u001b[38;5;124m\"\u001b[39m\u001b[38;5;124mforest cover lost (\u001b[39m\u001b[38;5;124m%\u001b[39m\u001b[38;5;124m)\u001b[39m\u001b[38;5;124m\"\u001b[39m] \u001b[38;5;241m=\u001b[39m np\u001b[38;5;241m.\u001b[39mnan_to_num(gdf[\u001b[38;5;124m\"\u001b[39m\u001b[38;5;124mtree_canopy_cover_2015\u001b[39m\u001b[38;5;124m\"\u001b[39m] \u001b[38;5;241m-\u001b[39m gdf[\u001b[38;5;124m\"\u001b[39m\u001b[38;5;124mtree_canopy_cover_2000\u001b[39m\u001b[38;5;124m\"\u001b[39m])\u001b[38;5;241m/\u001b[39m\u001b[38;5;241m100\u001b[39m\n\u001b[1;32m     19\u001b[0m gdf_small \u001b[38;5;241m=\u001b[39m gdf\u001b[38;5;241m.\u001b[39mreset_index() \u001b[38;5;66;03m#gdf.sample(n=500).reset_index() # To make it run faster, use this line\u001b[39;00m\n\u001b[0;32m---> 20\u001b[0m alpha_shape \u001b[38;5;241m=\u001b[39m \u001b[43malphashape\u001b[49m\u001b[38;5;241;43m.\u001b[39;49m\u001b[43malphashape\u001b[49m\u001b[43m(\u001b[49m\u001b[43mgdf_small\u001b[49m\u001b[43m)\u001b[49m\n\u001b[1;32m     21\u001b[0m clipGDF \u001b[38;5;241m=\u001b[39m gpd\u001b[38;5;241m.\u001b[39mGeoDataFrame(index\u001b[38;5;241m=\u001b[39m[\u001b[38;5;241m0\u001b[39m], crs\u001b[38;5;241m=\u001b[39m\u001b[38;5;124m'\u001b[39m\u001b[38;5;124mepsg:4326\u001b[39m\u001b[38;5;124m'\u001b[39m, geometry\u001b[38;5;241m=\u001b[39m[alpha_shape])\n\u001b[1;32m     23\u001b[0m base \u001b[38;5;241m=\u001b[39m sa\u001b[38;5;241m.\u001b[39mplot(color\u001b[38;5;241m=\u001b[39m\u001b[38;5;124m'\u001b[39m\u001b[38;5;124m#FFFFFF\u001b[39m\u001b[38;5;124m'\u001b[39m, edgecolor\u001b[38;5;241m=\u001b[39m\u001b[38;5;124m'\u001b[39m\u001b[38;5;124m#888888\u001b[39m\u001b[38;5;124m'\u001b[39m, linewidth\u001b[38;5;241m=\u001b[39m\u001b[38;5;241m2\u001b[39m, figsize\u001b[38;5;241m=\u001b[39m(\u001b[38;5;241m10\u001b[39m,\u001b[38;5;241m10\u001b[39m));\n",
      "File \u001b[0;32m~/miniconda3/lib/python3.9/site-packages/alphashape/alphashape.py:131\u001b[0m, in \u001b[0;36malphashape\u001b[0;34m(points, alpha)\u001b[0m\n\u001b[1;32m    129\u001b[0m     \u001b[38;5;28;01mexcept\u001b[39;00m \u001b[38;5;167;01mImportError\u001b[39;00m:\n\u001b[1;32m    130\u001b[0m         \u001b[38;5;28;01mfrom\u001b[39;00m \u001b[38;5;21;01m.\u001b[39;00m\u001b[38;5;21;01moptimizealpha\u001b[39;00m \u001b[38;5;28;01mimport\u001b[39;00m optimizealpha\n\u001b[0;32m--> 131\u001b[0m     alpha \u001b[38;5;241m=\u001b[39m \u001b[43moptimizealpha\u001b[49m\u001b[43m(\u001b[49m\u001b[43mpoints\u001b[49m\u001b[43m)\u001b[49m\n\u001b[1;32m    133\u001b[0m \u001b[38;5;66;03m# Convert the points to a numpy array\u001b[39;00m\n\u001b[1;32m    134\u001b[0m \u001b[38;5;28;01mif\u001b[39;00m USE_GP \u001b[38;5;129;01mand\u001b[39;00m \u001b[38;5;28misinstance\u001b[39m(points, geopandas\u001b[38;5;241m.\u001b[39mgeoseries\u001b[38;5;241m.\u001b[39mGeoSeries):\n",
      "File \u001b[0;32m~/miniconda3/lib/python3.9/site-packages/alphashape/optimizealpha.py:100\u001b[0m, in \u001b[0;36moptimizealpha\u001b[0;34m(points, max_iterations, lower, upper, silent)\u001b[0m\n\u001b[1;32m     97\u001b[0m test_alpha \u001b[38;5;241m=\u001b[39m (upper \u001b[38;5;241m+\u001b[39m lower) \u001b[38;5;241m*\u001b[39m \u001b[38;5;241m.5\u001b[39m\n\u001b[1;32m     99\u001b[0m \u001b[38;5;66;03m# Update the bounds to include the solution space\u001b[39;00m\n\u001b[0;32m--> 100\u001b[0m \u001b[38;5;28;01mif\u001b[39;00m \u001b[43m_testalpha\u001b[49m\u001b[43m(\u001b[49m\u001b[43mpoints\u001b[49m\u001b[43m,\u001b[49m\u001b[43m \u001b[49m\u001b[43mtest_alpha\u001b[49m\u001b[43m)\u001b[49m:\n\u001b[1;32m    101\u001b[0m     lower \u001b[38;5;241m=\u001b[39m test_alpha\n\u001b[1;32m    102\u001b[0m \u001b[38;5;28;01melse\u001b[39;00m:\n",
      "File \u001b[0;32m~/miniconda3/lib/python3.9/site-packages/alphashape/optimizealpha.py:37\u001b[0m, in \u001b[0;36m_testalpha\u001b[0;34m(points, alpha)\u001b[0m\n\u001b[1;32m     35\u001b[0m \u001b[38;5;28;01mexcept\u001b[39;00m \u001b[38;5;167;01mImportError\u001b[39;00m:\n\u001b[1;32m     36\u001b[0m     \u001b[38;5;28;01mfrom\u001b[39;00m \u001b[38;5;21;01m.\u001b[39;00m\u001b[38;5;21;01malphashape\u001b[39;00m \u001b[38;5;28;01mimport\u001b[39;00m alphashape\n\u001b[0;32m---> 37\u001b[0m polygon \u001b[38;5;241m=\u001b[39m \u001b[43malphashape\u001b[49m\u001b[43m(\u001b[49m\u001b[43mpoints\u001b[49m\u001b[43m,\u001b[49m\u001b[43m \u001b[49m\u001b[43malpha\u001b[49m\u001b[43m)\u001b[49m\n\u001b[1;32m     38\u001b[0m \u001b[38;5;28;01mif\u001b[39;00m \u001b[38;5;28misinstance\u001b[39m(polygon, shapely\u001b[38;5;241m.\u001b[39mgeometry\u001b[38;5;241m.\u001b[39mpolygon\u001b[38;5;241m.\u001b[39mPolygon):\n\u001b[1;32m     39\u001b[0m     \u001b[38;5;28;01mif\u001b[39;00m \u001b[38;5;129;01mnot\u001b[39;00m \u001b[38;5;28misinstance\u001b[39m(points, MultiPoint):\n",
      "File \u001b[0;32m~/miniconda3/lib/python3.9/site-packages/alphashape/alphashape.py:153\u001b[0m, in \u001b[0;36malphashape\u001b[0;34m(points, alpha)\u001b[0m\n\u001b[1;32m    143\u001b[0m \u001b[38;5;66;03m# Create a set to hold unique edges of perimeter simplices.\u001b[39;00m\n\u001b[1;32m    144\u001b[0m \u001b[38;5;66;03m# Whenever a simplex is found that passes the radius filter, its edges\u001b[39;00m\n\u001b[1;32m    145\u001b[0m \u001b[38;5;66;03m# will be inspected to see if they already exist in the `edges` set.  If an\u001b[39;00m\n\u001b[0;32m   (...)\u001b[0m\n\u001b[1;32m    149\u001b[0m \u001b[38;5;66;03m# taking advantage of the property of perimeter edges that each edge can\u001b[39;00m\n\u001b[1;32m    150\u001b[0m \u001b[38;5;66;03m# only exist once.\u001b[39;00m\n\u001b[1;32m    151\u001b[0m perimeter_edges \u001b[38;5;241m=\u001b[39m \u001b[38;5;28mset\u001b[39m()\n\u001b[0;32m--> 153\u001b[0m \u001b[38;5;28;01mfor\u001b[39;00m point_indices, circumradius \u001b[38;5;129;01min\u001b[39;00m alphasimplices(coords):\n\u001b[1;32m    154\u001b[0m     \u001b[38;5;28;01mif\u001b[39;00m callable(alpha):\n\u001b[1;32m    155\u001b[0m         resolved_alpha \u001b[38;5;241m=\u001b[39m alpha(point_indices, circumradius)\n",
      "File \u001b[0;32m~/miniconda3/lib/python3.9/site-packages/alphashape/alphashape.py:77\u001b[0m, in \u001b[0;36malphasimplices\u001b[0;34m(points)\u001b[0m\n\u001b[1;32m     75\u001b[0m simplex_points \u001b[38;5;241m=\u001b[39m coords[simplex]\n\u001b[1;32m     76\u001b[0m \u001b[38;5;28;01mtry\u001b[39;00m:\n\u001b[0;32m---> 77\u001b[0m     \u001b[38;5;28;01myield\u001b[39;00m simplex, \u001b[43mcircumradius\u001b[49m\u001b[43m(\u001b[49m\u001b[43msimplex_points\u001b[49m\u001b[43m)\u001b[49m\n\u001b[1;32m     78\u001b[0m \u001b[38;5;28;01mexcept\u001b[39;00m np\u001b[38;5;241m.\u001b[39mlinalg\u001b[38;5;241m.\u001b[39mLinAlgError:\n\u001b[1;32m     79\u001b[0m     logging\u001b[38;5;241m.\u001b[39mwarn(\u001b[38;5;124m'\u001b[39m\u001b[38;5;124mSingular matrix. Likely caused by all points \u001b[39m\u001b[38;5;124m'\u001b[39m\n\u001b[1;32m     80\u001b[0m                  \u001b[38;5;124m'\u001b[39m\u001b[38;5;124mlying in an N-1 space.\u001b[39m\u001b[38;5;124m'\u001b[39m)\n",
      "File \u001b[0;32m~/miniconda3/lib/python3.9/site-packages/alphashape/alphashape.py:56\u001b[0m, in \u001b[0;36mcircumradius\u001b[0;34m(points)\u001b[0m\n\u001b[1;32m     44\u001b[0m \u001b[38;5;124;03m\"\"\"\u001b[39;00m\n\u001b[1;32m     45\u001b[0m \u001b[38;5;124;03mCalculte the circumradius of a given set of points.\u001b[39;00m\n\u001b[1;32m     46\u001b[0m \n\u001b[0;32m   (...)\u001b[0m\n\u001b[1;32m     53\u001b[0m \u001b[38;5;124;03m  The circumradius of a given set of points.\u001b[39;00m\n\u001b[1;32m     54\u001b[0m \u001b[38;5;124;03m\"\"\"\u001b[39;00m\n\u001b[1;32m     55\u001b[0m points \u001b[38;5;241m=\u001b[39m np\u001b[38;5;241m.\u001b[39masarray(points)\n\u001b[0;32m---> 56\u001b[0m \u001b[38;5;28;01mreturn\u001b[39;00m np\u001b[38;5;241m.\u001b[39mlinalg\u001b[38;5;241m.\u001b[39mnorm(points[\u001b[38;5;241m0\u001b[39m, :] \u001b[38;5;241m-\u001b[39m np\u001b[38;5;241m.\u001b[39mdot(\u001b[43mcircumcenter\u001b[49m\u001b[43m(\u001b[49m\u001b[43mpoints\u001b[49m\u001b[43m)\u001b[49m, points))\n",
      "File \u001b[0;32m~/miniconda3/lib/python3.9/site-packages/alphashape/alphashape.py:35\u001b[0m, in \u001b[0;36mcircumcenter\u001b[0;34m(points)\u001b[0m\n\u001b[1;32m     33\u001b[0m points \u001b[38;5;241m=\u001b[39m np\u001b[38;5;241m.\u001b[39masarray(points)\n\u001b[1;32m     34\u001b[0m num_rows, num_columns \u001b[38;5;241m=\u001b[39m points\u001b[38;5;241m.\u001b[39mshape\n\u001b[0;32m---> 35\u001b[0m A \u001b[38;5;241m=\u001b[39m \u001b[43mnp\u001b[49m\u001b[38;5;241;43m.\u001b[39;49m\u001b[43mbmat\u001b[49m\u001b[43m(\u001b[49m\u001b[43m[\u001b[49m\u001b[43m[\u001b[49m\u001b[38;5;241;43m2\u001b[39;49m\u001b[43m \u001b[49m\u001b[38;5;241;43m*\u001b[39;49m\u001b[43m \u001b[49m\u001b[43mnp\u001b[49m\u001b[38;5;241;43m.\u001b[39;49m\u001b[43mdot\u001b[49m\u001b[43m(\u001b[49m\u001b[43mpoints\u001b[49m\u001b[43m,\u001b[49m\u001b[43m \u001b[49m\u001b[43mpoints\u001b[49m\u001b[38;5;241;43m.\u001b[39;49m\u001b[43mT\u001b[49m\u001b[43m)\u001b[49m\u001b[43m,\u001b[49m\n\u001b[1;32m     36\u001b[0m \u001b[43m              \u001b[49m\u001b[43mnp\u001b[49m\u001b[38;5;241;43m.\u001b[39;49m\u001b[43mones\u001b[49m\u001b[43m(\u001b[49m\u001b[43m(\u001b[49m\u001b[43mnum_rows\u001b[49m\u001b[43m,\u001b[49m\u001b[43m \u001b[49m\u001b[38;5;241;43m1\u001b[39;49m\u001b[43m)\u001b[49m\u001b[43m)\u001b[49m\u001b[43m]\u001b[49m\u001b[43m,\u001b[49m\n\u001b[1;32m     37\u001b[0m \u001b[43m             \u001b[49m\u001b[43m[\u001b[49m\u001b[43mnp\u001b[49m\u001b[38;5;241;43m.\u001b[39;49m\u001b[43mones\u001b[49m\u001b[43m(\u001b[49m\u001b[43m(\u001b[49m\u001b[38;5;241;43m1\u001b[39;49m\u001b[43m,\u001b[49m\u001b[43m \u001b[49m\u001b[43mnum_rows\u001b[49m\u001b[43m)\u001b[49m\u001b[43m)\u001b[49m\u001b[43m,\u001b[49m\u001b[43m \u001b[49m\u001b[43mnp\u001b[49m\u001b[38;5;241;43m.\u001b[39;49m\u001b[43mzeros\u001b[49m\u001b[43m(\u001b[49m\u001b[43m(\u001b[49m\u001b[38;5;241;43m1\u001b[39;49m\u001b[43m,\u001b[49m\u001b[43m \u001b[49m\u001b[38;5;241;43m1\u001b[39;49m\u001b[43m)\u001b[49m\u001b[43m)\u001b[49m\u001b[43m]\u001b[49m\u001b[43m]\u001b[49m\u001b[43m)\u001b[49m\n\u001b[1;32m     38\u001b[0m b \u001b[38;5;241m=\u001b[39m np\u001b[38;5;241m.\u001b[39mhstack((np\u001b[38;5;241m.\u001b[39msum(points \u001b[38;5;241m*\u001b[39m points, axis\u001b[38;5;241m=\u001b[39m\u001b[38;5;241m1\u001b[39m),\n\u001b[1;32m     39\u001b[0m                np\u001b[38;5;241m.\u001b[39mones((\u001b[38;5;241m1\u001b[39m))))\n\u001b[1;32m     40\u001b[0m \u001b[38;5;28;01mreturn\u001b[39;00m np\u001b[38;5;241m.\u001b[39mlinalg\u001b[38;5;241m.\u001b[39msolve(A, b)[:\u001b[38;5;241m-\u001b[39m\u001b[38;5;241m1\u001b[39m]\n",
      "File \u001b[0;32m~/miniconda3/lib/python3.9/site-packages/numpy/matrixlib/defmatrix.py:1104\u001b[0m, in \u001b[0;36mbmat\u001b[0;34m(obj, ldict, gdict)\u001b[0m\n\u001b[1;32m   1101\u001b[0m \u001b[38;5;28;01mif\u001b[39;00m \u001b[38;5;28misinstance\u001b[39m(obj, (\u001b[38;5;28mtuple\u001b[39m, \u001b[38;5;28mlist\u001b[39m)):\n\u001b[1;32m   1102\u001b[0m     \u001b[38;5;66;03m# [[A,B],[C,D]]\u001b[39;00m\n\u001b[1;32m   1103\u001b[0m     arr_rows \u001b[38;5;241m=\u001b[39m []\n\u001b[0;32m-> 1104\u001b[0m     \u001b[38;5;28;01mfor\u001b[39;00m row \u001b[38;5;129;01min\u001b[39;00m obj:\n\u001b[1;32m   1105\u001b[0m         \u001b[38;5;28;01mif\u001b[39;00m \u001b[38;5;28misinstance\u001b[39m(row, N\u001b[38;5;241m.\u001b[39mndarray):  \u001b[38;5;66;03m# not 2-d\u001b[39;00m\n\u001b[1;32m   1106\u001b[0m             \u001b[38;5;28;01mreturn\u001b[39;00m matrix(concatenate(obj, axis\u001b[38;5;241m=\u001b[39m\u001b[38;5;241m-\u001b[39m\u001b[38;5;241m1\u001b[39m))\n",
      "\u001b[0;31mKeyboardInterrupt\u001b[0m: "
     ]
    }
   ],
   "source": [
    "with warnings.catch_warnings(): # Ignore shapely deprecation warnings.\n",
    "    warnings.simplefilter(\"ignore\")\n",
    "    # Colormap\n",
    "    c = [\"darkred\",\"red\",\"lightcoral\",\"white\", \"palegreen\",\"green\",\"darkgreen\"]\n",
    "    v = [0,.15,.4,.6,0.7,.9,1.]\n",
    "    l = list(zip(v,c))\n",
    "    cmap=LinearSegmentedColormap.from_list('gr',l, N=256)\n",
    "\n",
    "    world = gpd.read_file(gpd.datasets.get_path(\"naturalearth_lowres\"))\n",
    "\n",
    "    gdf = gpd.GeoDataFrame(\n",
    "        df, geometry=gpd.points_from_xy(df.Longitude, df.Latitude)\n",
    "    )\n",
    "\n",
    "    sa = gpd.read_file(\"./shapefiles/s-america.shp\").reset_index()[[\"geometry\"]] # Read shapefile of S. America\n",
    "\n",
    "    gdf[\"forest cover lost (%)\"] = np.nan_to_num(gdf[\"tree_canopy_cover_2015\"] - gdf[\"tree_canopy_cover_2000\"])/100\n",
    "\n",
    "    gdf_small = gdf.reset_index() #gdf.sample(n=500).reset_index() # To make it run faster, use this line\n",
    "    alpha_shape = alphashape.alphashape(gdf_small)\n",
    "    clipGDF = gpd.GeoDataFrame(index=[0], crs='epsg:4326', geometry=[alpha_shape])\n",
    "\n",
    "    base = sa.plot(color='#FFFFFF', edgecolor='#888888', linewidth=2, figsize=(10,10));\n",
    "\n",
    "    scheme = mc.NaturalBreaks(gdf_small[\"forest cover lost (%)\"], k=50)\n",
    "\n",
    "    vor = gplt.voronoi(\n",
    "        gdf_small, \n",
    "        projection=None,\n",
    "        hue='forest cover lost (%)',\n",
    "        scheme=scheme, \n",
    "        cmap='RdYlGn',\n",
    "        legend=False,\n",
    "        ax=base,\n",
    "        alpha=0.75,\n",
    "        linewidth=0.25,\n",
    "        clip = clipGDF,\n",
    "    )\n",
    "\n",
    "    plt.xlim(-83,-30)\n",
    "    plt.ylim(-30,15)\n",
    "    plt.savefig('./map.png', dpi=500, bbox_inches='tight')"
   ]
  },
  {
   "cell_type": "markdown",
   "id": "dc51ec7f",
   "metadata": {},
   "source": [
    "## Construct confidence intervals\n",
    "\n",
    "Here are the confidence interval constructions. We use the sampling without replacement (a.k.a. finite population) version of the concentration inequalities. We use a standard binomial interval for the imputation strategy."
   ]
  },
  {
   "cell_type": "code",
   "execution_count": 6,
   "id": "931a8853",
   "metadata": {},
   "outputs": [],
   "source": [
    "def ppi(l_gt,l_pred,thetaf,N,alpha):\n",
    "    grid = np.linspace(0.45,0.55,1000)\n",
    "    R = wsr_swr((l_gt-l_pred+1)/2, N, alpha, grid, intersection=False)*2 - 1\n",
    "    #R = clt_swr((l_gt-l_pred+1)/2, N, alpha)*2 - 1\n",
    "    C = R + thetaf\n",
    "    return C\n",
    "\n",
    "def classical(l_gt, N, alpha):\n",
    "    grid = np.linspace(0.05,0.25,1000)\n",
    "    return wsr_swr(l_gt, N, alpha, grid, intersection=False)\n",
    "    #return clt_swr(l_gt, N, alpha)\n",
    "\n",
    "def imputed(l_pred, N, alpha):\n",
    "    return binomial_iid(N, alpha, (l_pred > 0.5).mean())\n",
    "    #return clt_iid(l_pred, alpha)"
   ]
  },
  {
   "cell_type": "code",
   "execution_count": 7,
   "id": "ccedd1aa",
   "metadata": {},
   "outputs": [
    {
     "name": "stdout",
     "output_type": "stream",
     "text": [
      "0.15914786967418545\n"
     ]
    }
   ],
   "source": [
    "print(gt.mean())\n",
    "#print(ppi(gt,pred,pred.mean(),N,alpha))"
   ]
  },
  {
   "cell_type": "markdown",
   "id": "9e982125",
   "metadata": {},
   "source": [
    "## Main experiment\n",
    "\n",
    "Over 100 random subsamplings of the data and different values of n, compute the intervals and their lengths."
   ]
  },
  {
   "cell_type": "code",
   "execution_count": 8,
   "id": "5b2bee54",
   "metadata": {},
   "outputs": [
    {
     "name": "stderr",
     "output_type": "stream",
     "text": [
      " 57%|█████████████████████████▋                   | 4/7 [00:51<00:39, 13.21s/it]/Users/angelopoulos/Code/working/prediction-powered-inference/forest/../ppi.py:231: RuntimeWarning: divide by zero encountered in divide\n",
      "  np.prod(1+np.minimum(lambdas[:i], 0.5/mu(m,i))*(x[:i]-mu(m,i))),\n",
      "100%|█████████████████████████████████████████████| 7/7 [01:40<00:00, 14.35s/it]\n"
     ]
    }
   ],
   "source": [
    "# Problem setup\n",
    "ns = np.array([50,100,200,300,500,750,1000])\n",
    "N = gt.shape[0]\n",
    "num_trials = 100\n",
    "alpha = 0.1\n",
    "true_mean = gt.mean()\n",
    "thetaf = pred.mean()\n",
    "C_imputed = imputed(pred, N, alpha)\n",
    "\n",
    "\n",
    "# Monte Carlo \n",
    "lengths = np.zeros((ns.shape[0],num_trials,2))\n",
    "lower_endpoints = np.zeros((ns.shape[0],num_trials,2))\n",
    "upper_endpoints = np.zeros((ns.shape[0],num_trials,2))\n",
    "covereds = np.zeros((ns.shape[0],num_trials,2))\n",
    "#with np.errstate(divide='ignore', invalid='ignore'):\n",
    "for j in tqdm(range(ns.shape[0])):\n",
    "    for i in range(num_trials):\n",
    "        n = ns[j]\n",
    "        labeled = np.random.permutation(N)[:n]\n",
    "        l_pred, l_gt = pred[labeled], gt[labeled]\n",
    "\n",
    "        # Run Prediction-Powered Inference\n",
    "        C = ppi(l_gt, l_pred, thetaf, N, alpha)\n",
    "        lengths[j,i,0] = C[1]-C[0]\n",
    "        covereds[j,i,0] = (true_mean >= C[0]) & (true_mean <= C[1])\n",
    "        lower_endpoints[j,i,0] = C[0]\n",
    "        upper_endpoints[j,i,0] = C[1]\n",
    "\n",
    "\n",
    "        # Run Classical\n",
    "        C_classical = classical(l_gt, N, alpha)\n",
    "        lengths[j,i,1] = C_classical[1] - C_classical[0]\n",
    "        covereds[j,i,1] = (true_mean >= C_classical[0]) & (true_mean <= C_classical[1])\n",
    "        lower_endpoints[j,i,1] = C_classical[0]\n",
    "        upper_endpoints[j,i,1] = C_classical[1]"
   ]
  },
  {
   "cell_type": "markdown",
   "id": "777f7fb8",
   "metadata": {},
   "source": [
    "## Report results\n",
    "\n",
    "Below are two plots: one of the intervals themselves (the average lower and upper endpoint, because otherwise they are too random), and one of the widths."
   ]
  },
  {
   "cell_type": "code",
   "execution_count": 12,
   "id": "a0e87fda",
   "metadata": {},
   "outputs": [],
   "source": [
    "def lighten_color(color, amount=0.5):\n",
    "    \"\"\"\n",
    "    Lightens the given color by multiplying (1-luminosity) by the given amount.\n",
    "    Input can be matplotlib color string, hex string, or RGB tuple.\n",
    "\n",
    "    Examples:\n",
    "    >> lighten_color('g', 0.3)\n",
    "    >> lighten_color('#F034A3', 0.6)\n",
    "    >> lighten_color((.3,.55,.1), 0.5)\n",
    "    \"\"\"\n",
    "    import matplotlib.colors as mc\n",
    "    import colorsys\n",
    "    try:\n",
    "        c = mc.cnames[color]\n",
    "    except:\n",
    "        c = color\n",
    "    c = colorsys.rgb_to_hls(*mc.to_rgb(c))\n",
    "    return colorsys.hls_to_rgb(c[0], 1 - amount * (1 - c[1]), c[2])"
   ]
  },
  {
   "cell_type": "code",
   "execution_count": 40,
   "id": "9f440d65",
   "metadata": {},
   "outputs": [
    {
     "data": {
      "image/png": "[encoded data removed]",
      "text/plain": [
       "<Figure size 648x216 with 3 Axes>"
      ]
     },
     "metadata": {},
     "output_type": "display_data"
    }
   ],
   "source": [
    "# Make plot\n",
    "n_idx = 4\n",
    "num_intervals = 5\n",
    "linewidth = 5\n",
    "linewidth_modifier = 1.1\n",
    "offset = 0.25\n",
    "\n",
    "pp_intervals = []\n",
    "classical_intervals = []\n",
    "for i in range(num_intervals):\n",
    "    trial_idx = np.random.choice(num_trials)\n",
    "    \n",
    "    pp_intervals += [\n",
    "        [lower_endpoints[n_idx,trial_idx,0], upper_endpoints[n_idx,trial_idx,0]]\n",
    "    ]\n",
    "    \n",
    "    classical_intervals += [\n",
    "        [lower_endpoints[n_idx,trial_idx,1], upper_endpoints[n_idx,trial_idx,1]]\n",
    "    ]\n",
    "\n",
    "xlim = [None, None]\n",
    "ylim = [0,1.15]\n",
    "fig, axs = plt.subplots(nrows=1,ncols=3,figsize=(9,3))\n",
    "sns.set_theme(style=\"white\", font_scale=1, font=\"DejaVu Sans\")\n",
    "\n",
    "for i in reversed(range(num_intervals)):\n",
    "    pp_interval = pp_intervals[i]\n",
    "    classical_interval = classical_intervals[i]\n",
    "    \n",
    "    if i == 0:\n",
    "        axs[1].plot([pp_interval[0], pp_interval[1]],[0.7, 0.7], linewidth=linewidth, color=\"#DAF3DA\", path_effects=[pe.Stroke(linewidth=linewidth * linewidth_modifier, offset=(-offset,0), foreground=\"#71D26F\"), pe.Stroke(linewidth=linewidth * linewidth_modifier, offset=(offset,0), foreground=\"#71D26F\"), pe.Normal()], label=' prediction-powered', solid_capstyle=\"butt\")\n",
    "        axs[1].plot([classical_interval[0], classical_interval[1]],[0.25,0.25], linewidth=linewidth, color=\"#EEEDED\", path_effects=[pe.Stroke(linewidth=linewidth * linewidth_modifier, offset=(-offset,0), foreground=\"#BFB9B9\"), pe.Stroke(linewidth=linewidth * linewidth_modifier, offset=(offset,0), foreground=\"#BFB9B9\"), pe.Normal()], label=' classical', solid_capstyle=\"butt\")\n",
    "        axs[1].plot([C_imputed[0], C_imputed[1]],[0.1, 0.1], linewidth=linewidth, color=\"#FFEACC\", path_effects=[pe.Stroke(linewidth=linewidth * linewidth_modifier, offset=(-offset,0), foreground=\"#FFCD82\"), pe.Stroke(linewidth=linewidth * linewidth_modifier, offset=(offset,0), foreground=\"#FFCD82\"), pe.Normal()], label=' imputed', solid_capstyle=\"butt\")\n",
    "    else:\n",
    "        lighten_factor = 0.8/np.sqrt(i)\n",
    "        yshift = i*0.07\n",
    "        axs[1].plot([pp_interval[0], pp_interval[1]],[0.7 + yshift, 0.7 + yshift], linewidth=linewidth, color=lighten_color(\"#DAF3DA\", lighten_factor), path_effects=[pe.Stroke(linewidth=linewidth * linewidth_modifier, offset=(-offset,0), foreground=lighten_color(\"#71D26F\", lighten_factor)), pe.Stroke(linewidth=linewidth * linewidth_modifier, offset=(offset,0), foreground=lighten_color(\"#71D26F\", lighten_factor)), pe.Normal()], solid_capstyle=\"butt\")\n",
    "        axs[1].plot([classical_interval[0], classical_interval[1]],[0.25 + yshift,0.25 + yshift], linewidth=linewidth, color=lighten_color(\"#EEEDED\", lighten_factor), path_effects=[pe.Stroke(linewidth=linewidth * linewidth_modifier, offset=(-offset,0), foreground=lighten_color(\"#BFB9B9\", lighten_factor)), pe.Stroke(linewidth=linewidth * linewidth_modifier, offset=(offset,0), foreground=lighten_color(\"#BFB9B9\", lighten_factor)), pe.Normal()], solid_capstyle=\"butt\")\n",
    "\n",
    "\n",
    "axs[1].set_xlabel(\"fraction of areas deforested\", labelpad=10)\n",
    "axs[1].set_yticks([])\n",
    "axs[1].set_yticklabels([])\n",
    "axs[1].set_ylim(ylim)\n",
    "axs[1].set_xlim(xlim)\n",
    "\n",
    "axs[1].axvline(true_mean, ymin=0.0, ymax=1, linestyle=\"dotted\", linewidth=3, label=\"true deforestation fraction\", color=\"#F7AE7C\")\n",
    "\n",
    "sns.despine(ax=axs[1],top=True,right=True,left=True)\n",
    "\n",
    "axs[2].plot(ns, upper_endpoints.mean(axis=1)[:,0]-lower_endpoints.mean(axis=1)[:,0], label=\"prediction-powered\", color=\"#71D26F\", linewidth=3)\n",
    "num_scatter = 3\n",
    "rand_idx_scatter = [np.random.choice(num_trials, size=num_scatter).astype(int) for n in ns]\n",
    "\n",
    "scatter_xs = np.concatenate([np.concatenate([[ns[j]] * num_trials])[rand_idx_scatter[j]] for j in range(ns.shape[0])])\n",
    "scatter_ys = np.concatenate([upper_endpoints[j,:,0][rand_idx_scatter[j]].flatten() - lower_endpoints[j,:,0][rand_idx_scatter[j]].flatten() for j in range(ns.shape[0])])\n",
    "axs[2].scatter(\n",
    "    scatter_xs,\n",
    "    scatter_ys,\n",
    "    color=\"#71D26F\",\n",
    "    alpha=0.5\n",
    ")\n",
    "    \n",
    "axs[2].plot(ns, upper_endpoints.mean(axis=1)[:,1]-lower_endpoints.mean(axis=1)[:,1], label=\"classical\", color=\"#BFB9B9\", linewidth=3)\n",
    "scatter_xs = np.concatenate([np.concatenate([[ns[j]] * num_trials])[rand_idx_scatter[j]] for j in range(ns.shape[0])])\n",
    "scatter_ys = np.concatenate([upper_endpoints[j,:,1][rand_idx_scatter[j]].flatten() - lower_endpoints[j,:,1][rand_idx_scatter[j]].flatten() for j in range(ns.shape[0])])\n",
    "axs[2].scatter(\n",
    "    scatter_xs,\n",
    "    scatter_ys,\n",
    "    color=\"#BFB9B9\",\n",
    "    alpha=0.5\n",
    ")\n",
    "\n",
    "axs[2].locator_params(axis='y', tight=None, nbins=6)\n",
    "axs[2].set_ylabel(\"width\")\n",
    "axs[2].set_xlabel(\"n\",  labelpad=10)\n",
    "sns.despine(ax=axs[2],top=True, right=True)\n",
    "\n",
    "sns.despine(ax=axs[0],top=True, right=True, left=True, bottom=True)\n",
    "axs[0].set_xticklabels([])\n",
    "axs[0].set_yticklabels([])\n",
    "\n",
    "plt.tight_layout()\n",
    "plt.savefig('./allplots.pdf')"
   ]
  },
  {
   "cell_type": "code",
   "execution_count": 11,
   "id": "4d100817",
   "metadata": {},
   "outputs": [
    {
     "data": {
      "image/png": "[encoded data removed]",
      "text/plain": [
       "<Figure size 432x288 with 1 Axes>"
      ]
     },
     "metadata": {},
     "output_type": "display_data"
    }
   ],
   "source": [
    "# Width kdeplot\n",
    "estimator = np.array(num_trials*['prediction-powered'] + num_trials*['classical'])\n",
    "width = np.concatenate([lengths[n_idx,:,0],lengths[n_idx,:,1]]) # n = 100\n",
    "kde_df = pd.DataFrame(np.stack([estimator,width],axis=1), columns=[\"estimator\", \"width\"])\n",
    "kde_df[\"width\"] = kde_df[\"width\"].astype(float)\n",
    "\n",
    "# Make plot\n",
    "my_palette = sns.color_palette([\"#BFB9B9\",\"#71D26F\"], 2)\n",
    "plt.figure()\n",
    "sns.set_theme(style=\"white\", palette=my_palette, font=\"DejaVu Sans\")\n",
    "kde = sns.kdeplot(kde_df, x=\"width\", hue=\"estimator\", hue_order=[ \"classical\",\"prediction-powered\"], fill=True, clip=(0,None))\n",
    "plt.gca().set_ylabel(\"\")\n",
    "plt.gca().set_xlabel(\"confidence interval width\", fontsize=22)\n",
    "plt.gca().set_yticks([])\n",
    "plt.gca().set_yticklabels([])\n",
    "sns.despine(ax=plt.gca(),top=True,right=True,left=True)\n",
    "kde.get_legend().remove()\n",
    "plt.gca().legend([\"prediction-powered\", \"classical\"], fontsize=22, bbox_to_anchor=(1,1.35))\n",
    "plt.savefig('./widths.pdf', bbox_inches='tight')"
   ]
  }
 ],
 "metadata": {
  "kernelspec": {
   "display_name": "Python 3 (ipykernel)",
   "language": "python",
   "name": "python3"
  },
  "language_info": {
   "codemirror_mode": {
    "name": "ipython",
    "version": 3
   },
   "file_extension": ".py",
   "mimetype": "text/x-python",
   "name": "python",
   "nbconvert_exporter": "python",
   "pygments_lexer": "ipython3",
   "version": "3.9.12"
  }
 },
 "nbformat": 4,
 "nbformat_minor": 5
}
