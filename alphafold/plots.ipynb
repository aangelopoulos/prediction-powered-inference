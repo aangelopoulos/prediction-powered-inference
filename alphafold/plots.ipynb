{
 "cells": [
  {
   "cell_type": "code",
   "execution_count": 1,
   "id": "5925ffe0",
   "metadata": {},
   "outputs": [],
   "source": [
    "import os, sys\n",
    "sys.path.insert(1, '../')\n",
    "import concentration as conc\n",
    "\n",
    "import numpy as np\n",
    "import scipy as sc\n",
    "import pandas as pd\n",
    "\n",
    "from importlib import reload\n",
    "import utils\n",
    "\n",
    "import matplotlib\n",
    "import matplotlib.patheffects as pe\n",
    "import matplotlib.pyplot as plt\n",
    "import seaborn as sns"
   ]
  },
  {
   "cell_type": "code",
   "execution_count": 2,
   "id": "b06c674f",
   "metadata": {},
   "outputs": [],
   "source": [
    "d = np.load('results-finite-population-111022.npz')\n",
    "mu1maici_pxnxtx2 = d['mu1maici_pxnxtx2']\n",
    "mu1claci_pxnxtx2 = d['mu1claci_pxnxtx2']\n",
    "mu0maici_pxnxtx2 = d['mu0maici_pxnxtx2']\n",
    "mu0claci_pxnxtx2 = d['mu0claci_pxnxtx2']\n",
    "omaici_pxnxtx2 = d['omaici_pxnxtx2']\n",
    "oclaci_pxnxtx2 = d['oclaci_pxnxtx2']"
   ]
  },
  {
   "cell_type": "code",
   "execution_count": null,
   "id": "d444a30b",
   "metadata": {},
   "outputs": [],
   "source": [
    "# compute true odds ratio"
   ]
  },
  {
   "cell_type": "code",
   "execution_count": null,
   "id": "ce67c9d8",
   "metadata": {},
   "outputs": [],
   "source": [
    "# construct naive confidence interval"
   ]
  },
  {
   "cell_type": "code",
   "execution_count": null,
   "id": "2ae241ef",
   "metadata": {},
   "outputs": [],
   "source": [
    "idx = 106\n",
    "theta_star = np.quantile(native_df.measured, 0.5)\n",
    "print(theta_star)\n",
    "ci_pp = [pp_df.iloc[idx].lower, pp_df.iloc[idx].upper]\n",
    "ci_cl = [cl_df.iloc[idx].lower, cl_df.iloc[idx].upper]\n",
    "\n",
    "plt.figure(figsize=(6.4,4.8))\n",
    "plt.plot(\n",
    "    ci_pp,[0.4,0.4],\n",
    "    linewidth=20, color=\"#DAF3DA\",\n",
    "    path_effects=[pe.Stroke(linewidth=22, foreground=\"#71D26F\"), pe.Normal()],\n",
    "    label=' prediction-powered'\n",
    ")\n",
    "plt.plot(\n",
    "    ci_cl, [0.2, 0.2],\n",
    "    linewidth=20, color=\"#EEEDED\",\n",
    "    path_effects=[pe.Stroke(linewidth=22, foreground=\"#BFB9B9\"), pe.Normal()],\n",
    "    label=' classical'\n",
    ")\n",
    "plt.plot(\n",
    "    ci_naive, [0.2, 0.2],\n",
    "    linewidth=20, color=\"#fbdbc4\",\n",
    "    path_effects=[pe.Stroke(linewidth=22, foreground=\"#F7AE7C\"), pe.Normal()],\n",
    "    label=' naive'\n",
    ")\n",
    "plt.plot(\n",
    "    [theta_star, theta_star], [0, 0.5], linestyle='--', dashes=(2, 1), linewidth=3,\n",
    "    label=\"true median\", color=\"#bbbdf5\"\n",
    ")\n",
    "plt.xlabel(\"expression level\", fontsize=20)\n",
    "plt.yticks([], labels=[])\n",
    "plt.xticks([5, 6, 7, 8, 9], fontsize=20)\n",
    "plt.ylim([0,1])\n",
    "leg = plt.legend(fontsize=20, borderpad=1, labelspacing = 0.75, bbox_to_anchor=[1.1,0.5])\n",
    "sns.despine(ax=plt.gca(),top=True,right=True,left=True)\n",
    "# plt.gcf().subplots_adjust(right=0.85)\n",
    "\n",
    "plt.savefig('./figures/intervals.pdf', ppi=300, bbox_inches='tight')\n",
    "plt.show()"
   ]
  }
 ],
 "metadata": {
  "kernelspec": {
   "display_name": "TensorFlow-GPU-2.1.0",
   "language": "python",
   "name": "tf-gpu"
  },
  "language_info": {
   "codemirror_mode": {
    "name": "ipython",
    "version": 3
   },
   "file_extension": ".py",
   "mimetype": "text/x-python",
   "name": "python",
   "nbconvert_exporter": "python",
   "pygments_lexer": "ipython3",
   "version": "3.7.15"
  }
 },
 "nbformat": 4,
 "nbformat_minor": 5
}
